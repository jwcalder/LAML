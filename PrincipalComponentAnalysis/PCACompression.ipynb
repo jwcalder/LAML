{
  "cells": [
    {
      "cell_type": "markdown",
      "metadata": {},
      "source": [
        "#PCA-based image compression\n",
        "\n",
        "We consider here an application of PCA to image compression. This requires some functions for converting an image into it constituent patches, and converting the patches back into an image."
      ]
    },
    {
      "cell_type": "code",
      "metadata": {},
      "source": [
        "pip install -q graphlearning"
      ],
      "outputs": [],
      "execution_count": null
    },
    {
      "cell_type": "code",
      "metadata": {},
      "source": [
        "import numpy as np\n",
        "\n",
        "def image_to_patches(I,patch_size=(16,16)):\n",
        "    \"\"\"\"\n",
        "    Converts an image into an array of patches\n",
        "\n",
        "    Args:\n",
        "        I: Image as numpy array\n",
        "        patch_size: tuple giving size of patches to use\n",
        "\n",
        "    Returns:\n",
        "        Numpy array of size num_patches x num_pixels_per_patch\n",
        "    \"\"\"\n",
        "\n",
        "    #Compute number of patches and enlarge image if necessary\n",
        "    num_patches = (np.ceil(np.array(I.shape)/np.array(patch_size))).astype(int)\n",
        "    image_size = num_patches*patch_size\n",
        "    J = np.zeros(tuple(image_size.astype(int)))\n",
        "    J[:I.shape[0],:I.shape[1]]=I\n",
        "\n",
        "    patches = np.zeros((num_patches[0]*num_patches[1],patch_size[0]*patch_size[1]))\n",
        "    p = 0\n",
        "    for i in range(int(num_patches[0])):\n",
        "        for j in range(int(num_patches[1])):\n",
        "            patches[p,:] = J[patch_size[0]*i:patch_size[0]*(i+1),patch_size[1]*j:patch_size[1]*(j+1)].flatten()\n",
        "            p+=1\n",
        "\n",
        "    return patches\n",
        "\n",
        "def patches_to_image(patches,image_shape,patch_size=(16,16)):\n",
        "    \"\"\"\"\n",
        "    Converts an array of patches back into an image\n",
        "\n",
        "    Args:\n",
        "        patches: Array of patches, same as output of image_to_patches\n",
        "        image_shape: tuple giving the size of the image to return (e.g. I.shape)\n",
        "        patch_size: tuple giving size of patches\n",
        "\n",
        "    Returns:\n",
        "        Image as a numpy array\n",
        "    \"\"\"\n",
        "\n",
        "    #Compute number of patches and enlarge image if necessary\n",
        "    num_patches = (np.ceil(np.array(image_shape)/np.array(patch_size))).astype(int)\n",
        "    image_size = num_patches*np.array(patch_size)\n",
        "\n",
        "    I = np.zeros(tuple(image_size.astype(int)))\n",
        "    p = 0\n",
        "    for i in range(num_patches[0]):\n",
        "        for j in range(num_patches[1]):\n",
        "            I[patch_size[0]*i:patch_size[0]*(i+1),patch_size[1]*j:patch_size[1]*(j+1)] = np.reshape(patches[p,:],patch_size)\n",
        "            p+=1\n",
        "\n",
        "    return I[:image_shape[0],:image_shape[1]]"
      ],
      "outputs": [],
      "execution_count": null
    },
    {
      "cell_type": "markdown",
      "metadata": {},
      "source": [
        "Let's load the cameraman image."
      ]
    },
    {
      "cell_type": "code",
      "metadata": {},
      "source": [
        "import matplotlib.pyplot as plt\n",
        "import graphlearning as gl\n",
        "\n",
        "#Load and display image\n",
        "I = gl.datasets.load_image('cameraman')\n",
        "plt.figure(figsize=(10,10))\n",
        "plt.imshow(I,cmap='gray')\n",
        "\n",
        "#Check data type of image\n",
        "print('Data type: '+str(I.dtype))\n",
        "print('Pixel intensity range: (%d,%d)'%(I.min(),I.max()))\n",
        "\n",
        "#Print image shape\n",
        "print(I.shape)"
      ],
      "outputs": [],
      "execution_count": null
    },
    {
      "cell_type": "markdown",
      "metadata": {},
      "source": [
        "Let's now convert the image into 8x8 patches. The image is 512x512 so this gives 4096 patches, each with 8x8=64 pixels."
      ]
    },
    {
      "cell_type": "code",
      "metadata": {},
      "source": [
        "X = image_to_patches(I,patch_size=(8,8))\n",
        "\n",
        "print(X.shape)\n",
        "num_patches = (512/8)**2\n",
        "print(num_patches)"
      ],
      "outputs": [],
      "execution_count": null
    },
    {
      "cell_type": "markdown",
      "metadata": {},
      "source": [
        "To compress the image, we run PCA on the patches, and project the image to the best linear subspace obtained by PCA."
      ]
    },
    {
      "cell_type": "code",
      "metadata": {},
      "source": [
        "from scipy.sparse import linalg\n",
        "import numpy as np\n",
        "\n",
        "#Number of principal components to use\n",
        "num_comps = 5\n",
        "\n",
        "#Compute the principal components\n",
        "Vals, P = linalg.eigsh(X.T@X,k=num_comps,which='LM')\n",
        "\n",
        "#Compress the image by projecting to the linear subspace spanned by P\n",
        "X_compressed = X@P\n",
        "print(X_compressed.shape)\n",
        "\n",
        "#Compute size of compressed image and compression ratio\n",
        "compressed_size = X_compressed.size + P.size\n",
        "comp_ratio = I.size/compressed_size\n",
        "print('Compression ratio: %.1f:1'%comp_ratio)"
      ],
      "outputs": [],
      "execution_count": null
    },
    {
      "cell_type": "markdown",
      "metadata": {},
      "source": [
        "Let's now decompress the image by changing coordinates back to the standard ones. We'll also show the reconstructed image and the error between the original and reconstruction.\n",
        "\n",
        "The reconstruction quality in image compression is measured by the peak signal to noise ratio (PSNR) in dB. PSNR values between 30dB and 50dB are acceptable in image compression."
      ]
    },
    {
      "cell_type": "code",
      "metadata": {},
      "source": [
        "import matplotlib.pyplot as plt\n",
        "import numpy as np\n",
        "\n",
        "#Decompress image\n",
        "X_decompressed = X_compressed@P.T\n",
        "print(X_decompressed.shape)\n",
        "I_decompressed = patches_to_image(X_decompressed,I.shape,patch_size=(8,8))\n",
        "print(I_decompressed.shape)\n",
        "\n",
        "#Decompress and clip image to [0,1]\n",
        "I_decompressed = np.clip(I_decompressed,0,1)\n",
        "\n",
        "#Plot decompressed (reconstructed image) and difference image\n",
        "plt.figure(figsize=(30,10))\n",
        "plt.imshow(np.hstack((I,I_decompressed, I-I_decompressed+0.5)), cmap='gray', vmin=0, vmax=1)\n",
        "\n",
        "#Compute Peak Signal to Noise Ratio (PSNR)\n",
        "MSE = np.sum((I-I_decompressed)**2)/I.size\n",
        "PSNR = 10*np.log10(np.max(I)**2/MSE)\n",
        "print('PSNR: %.2f dB'%PSNR)\n",
        "plt.show()"
      ],
      "outputs": [],
      "execution_count": null
    },
    {
      "cell_type": "markdown",
      "metadata": {},
      "source": [
        "##Exercises\n",
        "1. Write Python code to perform row-wise compression of the cameraman image. Essentially you can just set X=I and avoid the image_to_patches and patches_to_image functions. Compare the PSNR at similar compression ratios to the patch/block-wise compression used in this notebook."
      ]
    }
  ],
  "metadata": {
    "anaconda-cloud": {},
    "kernelspec": {
      "display_name": "Python 3",
      "language": "python",
      "name": "python3"
    },
    "language_info": {
      "codemirror_mode": {
        "name": "ipython",
        "version": 3
      },
      "file_extension": ".py",
      "mimetype": "text/x-python",
      "name": "python",
      "nbconvert_exporter": "python",
      "pygments_lexer": "ipython3",
      "version": "3.6.1"
    }
  },
  "nbformat": 4,
  "nbformat_minor": 4
}