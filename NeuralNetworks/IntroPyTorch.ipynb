{
  "cells": [
    {
      "cell_type": "markdown",
      "metadata": {},
      "source": [
        "#Intro to Pytorch\n",
        "\n",
        "This is a brief introduction to PyTorch, which is a python package for deep learning. Much of PyTorch is similar to Numpy, except that torch keeps track of gradients for you with a method called *automatic differentiation* or in PyTorch, *autograd*, and it has support accelerated computations on graphics processing units (GPUs). Automatic differentiation uses the chain rule to compute derivatives of any composition of functions. In PyTorch, you simply need to ensure you write every step of the computation using torch functions and modules, and set the requires_grad flag to inform torch of which variables it should track gradients with respect to.\n",
        "\n",
        "This notebook gives an introduction to the autograd feature in Pytorch. The next lecture/notebook will introduce neural networks in PyTorch.\n",
        "\n",
        "The code below gives a simple example of the autograd feature in Pytorch. This makes training neural networks very easy since we don't need to explicitly compute the gradients with back propagation, etc. Torch also has support for performing computations on GPUs, which we will cover in a later lecture."
      ]
    },
    {
      "cell_type": "code",
      "metadata": {},
      "source": [
        "import torch\n",
        "x = torch.tensor(4.0, requires_grad = True)\n",
        "z = torch.sum(x**3)\n",
        "\n",
        "z.backward() #Invokes backpropgation to compute gradient with chain rule.\n",
        "\n",
        "grad = 3*x**2\n",
        "print('Gradient = ', grad) \n",
        "print('Torch Gradient = ', x.grad.data) "
      ],
      "outputs": [],
      "execution_count": null
    },
    {
      "cell_type": "code",
      "metadata": {},
      "source": [
        "import torch\n",
        "x = torch.tensor([1.0,2.0,3.0], requires_grad = True)\n",
        "z = torch.sum(torch.exp(torch.sin(x**3)))  #You can only call backward on scalars\n",
        "\n",
        "z.backward() #Invokes backpropgation to compute gradient with chain rule.\n",
        "\n",
        "grad = 3*x**2*torch.cos(x**3)*torch.exp(torch.sin(x**3))\n",
        "print('Gradient = ', grad) \n",
        "print('Torch Gradient = ', x.grad.data) "
      ],
      "outputs": [],
      "execution_count": null
    },
    {
      "cell_type": "markdown",
      "metadata": {},
      "source": [
        "Try playing around with the examples above to make sure you understand how autograd works. In particular, what is the role of the torch.sum in the second example?"
      ]
    },
    {
      "cell_type": "markdown",
      "metadata": {},
      "source": [
        "It is important to point out that gradients get accumulated in PyTorch, which makes the example below fail to give the correct answer."
      ]
    },
    {
      "cell_type": "code",
      "metadata": {},
      "source": [
        "import torch\n",
        "x = torch.tensor(4.0, requires_grad = True)\n",
        "z = torch.sum(x**3)\n",
        "z.backward() #Invokes backpropgation to compute gradient with chain rule.\n",
        "\n",
        "#A second example, after already computing the first above\n",
        "w = x**2\n",
        "w.backward()\n",
        "\n",
        "grad = 2*x\n",
        "print('Gradient = ', grad) \n",
        "print('Torch Gradient = ', x.grad.data) "
      ],
      "outputs": [],
      "execution_count": null
    },
    {
      "cell_type": "markdown",
      "metadata": {},
      "source": [
        "Exercise: Fix the code above by reseting the gradient of x immediately before computing w=x**2. This can be done by setting x.grad = None (you can also set x.grad = torch.tensor(0.0), but then you need to know the shape of the tensor)."
      ]
    },
    {
      "cell_type": "markdown",
      "metadata": {},
      "source": [
        "## Example: Gradient descent\n",
        "\n",
        "As a first example, let's use PyTorch to perform gradient descent on a simply toy function. Notice that we will not need to code the gradient, since PyTorch will compute it for us automatically.\n",
        "\n",
        "\\begin{equation}\n",
        "  f(x,y) = \\frac{1}{2} x^2 + \\frac{1}{4} y^4\n",
        "\\end{equation}\n",
        "and the gradient is\n",
        "\\begin{equation}\n",
        "  \\nabla f(x,y) = (x, y^3).\n",
        "\\end{equation}"
      ]
    },
    {
      "cell_type": "code",
      "metadata": {},
      "source": [
        "#Function you wish to minimize\n",
        "def f(x,y):\n",
        "    return (1/2)*x**2 + (1/4)*y**4"
      ],
      "outputs": [],
      "execution_count": null
    },
    {
      "cell_type": "code",
      "metadata": {},
      "source": [
        "import torch\n",
        "\n",
        "#Need to define x and y as tensors with requires_grad=True\n",
        "x = torch.tensor(1.0, requires_grad=True)\n",
        "y = torch.tensor(2.0, requires_grad=True)\n",
        "\n",
        "#Time step alpha for gradient descent\n",
        "alpha = 0.1\n",
        "\n",
        "#Gradient descent iterations\n",
        "for t in range(100):\n",
        "    \n",
        "    #Zero out gradients before computation, so that we do not carry over gradients\n",
        "    #from the previous iteration\n",
        "    x.grad, y.grad = None, None\n",
        "\n",
        "    #Compute the function you wish to optimize and then call backward\n",
        "    #Then x.grad and y.grad will be Tensors holding the gradient of the \n",
        "    #loss with respect to x and y.\n",
        "    loss = f(x,y)\n",
        "    loss.backward()\n",
        "\n",
        "    #Manually update (x,y) using gradient descent. Wrap in torch.no_grad()\n",
        "    #to stop autograd from tracking gradients.\n",
        "    with torch.no_grad():\n",
        "        #Print current state of gradient descent\n",
        "        print(\"(x,y)=(%.3f,%.3f), f(x,y)=%.3f, Grad f(x,y)=(%.5f,%.5f)\"%(x,y,f(x,y),x.grad.data,y.grad))\n",
        "\n",
        "        x -= alpha * x.grad\n",
        "        y -= alpha * y.grad"
      ],
      "outputs": [],
      "execution_count": null
    },
    {
      "cell_type": "markdown",
      "metadata": {},
      "source": [
        "## Example: Polynomial fitting (or regression)\n",
        "\n",
        "As another example application, we will show how to use PyTorch to fit a low degree polynomial to a given function, that is, given $f(x)$, find $a,b,c,d,e\\in \\mathbb{R}$ so that\n",
        "\n",
        "$$f(x) \\approx a + bx + cx^2 + dx^3 + ex^4.$$\n",
        "\n",
        "We'll use the function $f(x)=\\sin(x)$, but you can change this to anything else. In this example, we will use an optimizer in PyTorch to handle the gradient descent steps automatically."
      ]
    },
    {
      "cell_type": "code",
      "metadata": {},
      "source": [
        "import torch\n",
        "import torch.optim as optim\n",
        "import numpy as np\n",
        "import matplotlib.pyplot as plt\n",
        "\n",
        "#Create Tensors to hold input and outputs.\n",
        "#By default, requires_grad=False, which indicates that we do not need to\n",
        "#compute gradients with respect to these Tensors during the backward pass.\n",
        "x = torch.linspace(-np.pi, np.pi, 2000)\n",
        "\n",
        "# Create a random tensor for the weights. For a third order polynomial, we need\n",
        "# 5 weights: y = a + b x + c x^2 + d x^3 + e x^4\n",
        "# Setting requires_grad=True indicates that we want to compute gradients with\n",
        "# respect to these Tensors during the backward pass.\n",
        "a = torch.randn(5, requires_grad=True)\n",
        "\n",
        "#Use an optimizer so we can avoid explicitly coding gradient descent.\n",
        "#Need to provide a list of the parameters to be optimized over and the learning rate.\n",
        "#The SGD optimizer performs basic gradient desecent. PyTorch has other more sophisticated\n",
        "#optimizers that we will use later. \n",
        "optimizer = optim.SGD([a], lr=5e-4)  #Learning rate = time step = alpha\n",
        "\n",
        "for t in range(10**4):\n",
        "\n",
        "    #Set the gradients to zero (in place of a.grad = None, etc.)\n",
        "    optimizer.zero_grad()\n",
        "\n",
        "    #Forward pass: compute predicted y using operations on Tensors.\n",
        "    y = a[0] + a[1]*x + a[2]*x**2 + a[3]*x**3 + a[4]*x**4\n",
        "\n",
        "    #Compute the loss using operations on Tensors.\n",
        "    loss = torch.mean(torch.abs(y - torch.sin(x))**2)\n",
        "\n",
        "    #Call backward to compute gradients. This call will compute the\n",
        "    #gradient of loss with respect to all Tensors with requires_grad=True,\n",
        "    #namely the tensor of coefficients a.\n",
        "    loss.backward()\n",
        "\n",
        "    print('Iteration: ',t,'Loss:', loss.item())\n",
        "    #Take a step of gradient descent. The optimizer handles this for us\n",
        "    optimizer.step()\n",
        "\n",
        "b = a.tolist()\n",
        "print(f'Result: sin(x) ~ %.2f + %.2fx + %.2fx^2 + %.2fx^3 + %.2fx^4'%(b[0],b[1],b[2],b[3],b[4]))\n",
        "plt.figure()\n",
        "plt.plot(x,torch.sin(x),label='Sin(x)')\n",
        "plt.plot(x,y.detach(),label='Polynomial approximation') #Try this without .detach()\n",
        "plt.legend()"
      ],
      "outputs": [],
      "execution_count": null
    },
    {
      "cell_type": "markdown",
      "metadata": {},
      "source": [
        "## Example: Linear classifier\n",
        "\n",
        "Here, we'll give an example training a linear classifier on some toy data. Our linear classifier will have the form\n",
        "\n",
        "$$f(\\mathbf{x}) = \\sigma(\\mathbf{x}\\cdot \\mathbf{w} - b),$$\n",
        "\n",
        "where $\\mathbf{x}\\in \\mathbb{R}^d$ is the input, $\\mathbf{w}\\in \\mathbb{R}^d$ is the weight, and $b\\in \\mathbb{R}$ is the bias. The parameters $\\mathbf{w}$ and $b$ are learnable, just like with a support vector machine. Here, we'll choose $\\sigma$ to be the sigmoid activation function\n",
        "\n",
        "$$\\sigma(t) =  \\frac{1}{1 + e^{-t}}.$$\n",
        "\n",
        "It's role is to squash the values of the classifier to binary 0/1 values. A plot of the Sigmoid activation is shown below.\n",
        "\n",
        "We will see in the next lecture that this classifier is called a *perceptron*, and is the basic building block of a neural network. For now, we simply recall that this is essentially the same kind of linear classifier we encountered in support vector machines. "
      ]
    },
    {
      "cell_type": "code",
      "metadata": {},
      "source": [
        "import numpy as np\n",
        "import matplotlib.pyplot as plt\n",
        "\n",
        "t = np.arange(-10,10,0.01)\n",
        "sigma = 1/(1 + np.exp(-t))\n",
        "plt.figure()\n",
        "plt.plot(t,sigma)"
      ],
      "outputs": [],
      "execution_count": null
    },
    {
      "cell_type": "markdown",
      "metadata": {},
      "source": [
        "We'll need a simple toy data set to test our linear classifier on. We'll construct the dataset in numpy and then convert to torch."
      ]
    },
    {
      "cell_type": "code",
      "metadata": {},
      "source": [
        "import numpy as np\n",
        "import matplotlib.pyplot as plt\n",
        "import torch\n",
        "\n",
        "num_pts = 500 #Total number of points\n",
        "d = 2 #We are in dimension 2\n",
        "m = int(num_pts/2) #Number in each class\n",
        "data = np.random.randn(m,2) - [2,2]\n",
        "data = np.vstack((data,np.random.randn(m,2) + [4,4]))\n",
        "target = np.hstack((np.zeros((m,)),np.ones((m,)))).astype(int)\n",
        "\n",
        "#Scatter plot the points colored by class\n",
        "plt.figure()\n",
        "plt.scatter(data[:,0],data[:,1],c=target)"
      ],
      "outputs": [],
      "execution_count": null
    },
    {
      "cell_type": "markdown",
      "metadata": {},
      "source": [
        "Now let's train our linear classifier (perceptron) on this synthetic data."
      ]
    },
    {
      "cell_type": "code",
      "metadata": {},
      "source": [
        "import torch\n",
        "import torch.optim as optim\n",
        "import torch.nn.functional as F\n",
        "\n",
        "#Convert to torch\n",
        "data_torch = torch.from_numpy(data).float()\n",
        "target_torch = torch.from_numpy(target)\n",
        "\n",
        "#Create random Tensors for weight and bias\n",
        "w = torch.randn(d, requires_grad=True)\n",
        "b = torch.randn(1, requires_grad=True)\n",
        "\n",
        "#We now use the Adam optimizer, which is more efficient than plain gradient descent\n",
        "optimizer = optim.Adam([w,b], lr=1)  #Learning rate\n",
        "\n",
        "for i in range(500):\n",
        "    #Set the gradients to zero (in place of a.grad = None, etc.)\n",
        "    optimizer.zero_grad()\n",
        "\n",
        "    #Compute the output of our classifier\n",
        "    output = torch.sigmoid(data_torch@w - b)\n",
        "\n",
        "    #Compute the loss using operations on Tensors\n",
        "    loss = torch.mean((output - target_torch)**2)\n",
        "\n",
        "    #Print iteration and loss\n",
        "    print('Iteration: ',i,'Loss:', loss.item())\n",
        "\n",
        "    #Call backward to compute gradients. This call will compute the\n",
        "    loss.backward()\n",
        "\n",
        "    #Take a step of gradient descent\n",
        "    optimizer.step()"
      ],
      "outputs": [],
      "execution_count": null
    },
    {
      "cell_type": "markdown",
      "metadata": {},
      "source": [
        "The loss measures roughly how many points are misclassified. Let's plot the points and decision boundary to see how the classifier performed. We need our plot_region function for this."
      ]
    },
    {
      "cell_type": "code",
      "metadata": {},
      "source": [
        "import numpy as np\n",
        "import matplotlib.pyplot as plt\n",
        "\n",
        "def plot_region(X,L,clf,alpha=0.5,cmap='Paired',cp=np.array([0.5,2.5,6.5,8.5,10.5,11.5]),\n",
        "                markers = ['o','s','D','^','v','p'],vmin=0,vmax=12,fname=None,markersize=75,\n",
        "                linewidths=1.25,markerlinewidths=1,res=0.1,train_pts=None):\n",
        "\n",
        "    plt.figure()\n",
        "    x,y = X[:,0],X[:,1]\n",
        "    xmin, xmax = np.min(x),np.max(x)\n",
        "    ymin, ymax = np.min(y),np.max(y)\n",
        "    f =0.1*np.maximum(np.max(np.abs(x)),np.max(np.abs(y)))\n",
        "    xmin -= f\n",
        "    ymin -= f\n",
        "    xmax += f\n",
        "    ymax += f\n",
        "    c = cp[L]\n",
        "    c_u = np.unique(c)\n",
        "\n",
        "    for i,color in enumerate(c_u):\n",
        "        sub = c==color\n",
        "        plt.scatter(x[sub],y[sub],zorder=2,c=c[sub],cmap=cmap,edgecolors='black',vmin=vmin,vmax=vmax,linewidths=markerlinewidths,marker=markers[i],s=markersize)\n",
        "        if train_pts is not None:\n",
        "            plt.scatter(x[sub & train_pts],y[sub & train_pts],zorder=2,c=np.ones(np.sum(sub&train_pts))*5.5,cmap=cmap,edgecolors='black',vmin=vmin,vmax=vmax,linewidths=markerlinewidths,marker=markers[i],s=markersize)\n",
        "\n",
        "\n",
        "    X,Y = np.mgrid[xmin:xmax:res,ymin:ymax:res]\n",
        "    points = np.c_[X.ravel(),Y.ravel()]\n",
        "    z = clf.predict(points)\n",
        "    z = z.reshape(X.shape)\n",
        "    plt.contourf(X, Y, cp[z],alpha=alpha,cmap=cmap,antialiased=True,vmin=vmin,vmax=vmax)\n",
        "\n",
        "    X,Y = np.mgrid[xmin:xmax:res,ymin:ymax:res]\n",
        "    points = np.c_[X.ravel(),Y.ravel()]\n",
        "    if len(np.unique(c)) == 2:\n",
        "\n",
        "        if hasattr(clf, \"decision_function\"):\n",
        "            z = clf.decision_function(points)\n",
        "        else:\n",
        "            z = clf.predict_proba(points)\n",
        "            z = z[:,0] - z[:,1] + 1e-15\n",
        "        z = z.reshape(X.shape)\n",
        "        plt.contour(X, Y, z, [0], colors='black',linewidths=linewidths,antialiased=True)\n",
        "    else:\n",
        "        z = clf.predict(points)\n",
        "        z = z.reshape(X.shape)\n",
        "        plt.contour(X, Y, z, colors='black',linewidths=linewidths,antialiased=True)\n",
        "    plt.xlim((xmin,xmax))\n",
        "    plt.ylim((ymin,ymax))"
      ],
      "outputs": [],
      "execution_count": null
    },
    {
      "cell_type": "code",
      "metadata": {},
      "source": [
        "#Create a Python class so it looks like an sklearn classifier\n",
        "class Perceptron:\n",
        "    def __init__(self, w, b):\n",
        "        self.w = w\n",
        "        self.b = b\n",
        "        print('w=',w,'b=',b)\n",
        "\n",
        "    def decision_function(self, x):\n",
        "        return x@self.w - self.b\n",
        "    def predict(self, x):\n",
        "        return (self.decision_function(x)>0).astype(int)\n",
        "\n",
        "#Plot classifier\n",
        "clf = Perceptron(w.detach().numpy(),b.detach().numpy())\n",
        "plot_region(data,target,clf)"
      ],
      "outputs": [],
      "execution_count": null
    },
    {
      "cell_type": "markdown",
      "metadata": {},
      "source": [
        "# Exercises\n",
        "\n",
        "Here are some python exercises to get familiar with using PyTorch for optimization."
      ]
    },
    {
      "cell_type": "markdown",
      "metadata": {},
      "source": [
        "1. Use PyTorch to find $(x,y)$ that minimize the function\n",
        "\n",
        "$$f(x,y) = \\sin(x^4 + 3xy + y^2 + 2) + x^2 + y^2.$$"
      ]
    },
    {
      "cell_type": "code",
      "metadata": {},
      "source": [],
      "outputs": [],
      "execution_count": null
    },
    {
      "cell_type": "markdown",
      "metadata": {},
      "source": [
        "2. Write PyTorch code to approximate a function $f(x)$ by an $n$-th order trigonometric polynomial of the form\n",
        "$$p(x) = \\sum_{k=0}^{n-1} a_k \\sin((k+1) x).$$\n",
        "Use the polynomial approximation code above to start. Try approximating the function $f(x)=x$."
      ]
    },
    {
      "cell_type": "code",
      "metadata": {},
      "source": [],
      "outputs": [],
      "execution_count": null
    },
    {
      "cell_type": "markdown",
      "metadata": {},
      "source": [
        "3. Repeat question 2 for a trigonometric polynomial of the form\n",
        "$$p(x) = \\sum_{k=0}^{n-1} a_k \\sin\\left(\\frac{2}{3}(k+1) x\\right).$$\n",
        "Does this do a better job approximating $f(x)=x$ near the endpoints?"
      ]
    },
    {
      "cell_type": "code",
      "metadata": {},
      "source": [],
      "outputs": [],
      "execution_count": null
    },
    {
      "cell_type": "markdown",
      "metadata": {},
      "source": [
        "4. Apply the linear classifier above (i.e., the perceptron) to binary classification of MNIST digits."
      ]
    },
    {
      "cell_type": "code",
      "metadata": {},
      "source": [],
      "outputs": [],
      "execution_count": null
    },
    {
      "cell_type": "markdown",
      "metadata": {},
      "source": [
        "5. (Homework) Modify the linear classifier code above to implement a soft-margin SVM with the soft-plus regularization. How does the result compare to the perceptron. The key difference is that SVM is maxmizing the margin, while the perceptron code above does not consider the margin of the classifier (though gradient descent has some implicit bias towards good margins). "
      ]
    },
    {
      "cell_type": "code",
      "metadata": {},
      "source": [
        "\n",
        "\n",
        "\n",
        "\n",
        "\n",
        "\n",
        "\n",
        "\n",
        "\n",
        "\n",
        "\n",
        "\n"
      ],
      "outputs": [],
      "execution_count": null
    }
  ],
  "metadata": {
    "anaconda-cloud": {},
    "kernelspec": {
      "display_name": "Python 3",
      "language": "python",
      "name": "python3"
    },
    "language_info": {
      "codemirror_mode": {
        "name": "ipython",
        "version": 3
      },
      "file_extension": ".py",
      "mimetype": "text/x-python",
      "name": "python",
      "nbconvert_exporter": "python",
      "pygments_lexer": "ipython3",
      "version": "3.6.1"
    }
  },
  "nbformat": 4,
  "nbformat_minor": 4
}