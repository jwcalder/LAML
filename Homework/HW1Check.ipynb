{
  "cells": [
    {
      "cell_type": "markdown",
      "metadata": {},
      "source": [
        "Paste your code for all three functions in the code block below."
      ]
    },
    {
      "cell_type": "code",
      "metadata": {},
      "source": [
        "import numpy as np\n",
        "\n",
        "def babylonian_sqrt(x):\n",
        "    ??\n",
        "    return ??\n",
        "\n",
        "def cross_product(x,y):\n",
        "    ??\n",
        "    return ??\n",
        "\n",
        "def approx_pi(n):\n",
        "    ??\n",
        "    return ??"
      ],
      "outputs": [],
      "execution_count": null
    },
    {
      "cell_type": "markdown",
      "metadata": {},
      "source": [
        "Then run the block below to test. Do not modify anything in the code below. Modify your functions to make it work. \"Work\" means the error is reasonably close to zero and the cross product is correct. I will test you submissions with this code, except the numbers will change."
      ]
    },
    {
      "cell_type": "code",
      "metadata": {},
      "source": [
        "import numpy as np\n",
        "\n",
        "print('Babylonian Square Root:',end=' ')\n",
        "try:\n",
        "    a = babylonian_sqrt(16)\n",
        "    print('babylonian_sqrt(16)=%f'%a+', Error=%f'%(abs(4-a))+'\\n')\n",
        "except:\n",
        "    print('babylonian_sqrt not found.\\n\\n')\n",
        "\n",
        "print('\\nCross Product:',end=' ')\n",
        "try:\n",
        "    b = cross_product([1,0,2],[2,1,0])\n",
        "    print('cross_product([1,0,2],[2,1,0])=[%f,%f,%f]\\n'%(b[0],b[1],b[2]))\n",
        "    print('               True value: [1,0,2]x[2,1,0]=[-2,4,1]\\n')\n",
        "except:\n",
        "    print('cross_product not found.\\n\\n')\n",
        "\n",
        "print('\\nApproximate pi:',end=' ')\n",
        "try:\n",
        "    pi = approx_pi(1000)\n",
        "    print('approx_pi(1000)=%f, Error=%f\\n'%(pi,abs(pi-np.pi)))\n",
        "except:\n",
        "    print('approx_pi not found.\\n\\n')"
      ],
      "outputs": [],
      "execution_count": null
    }
  ],
  "metadata": {
    "anaconda-cloud": {},
    "kernelspec": {
      "display_name": "Python 3",
      "language": "python",
      "name": "python3"
    },
    "language_info": {
      "codemirror_mode": {
        "name": "ipython",
        "version": 3
      },
      "file_extension": ".py",
      "mimetype": "text/x-python",
      "name": "python",
      "nbconvert_exporter": "python",
      "pygments_lexer": "ipython3",
      "version": "3.6.1"
    }
  },
  "nbformat": 4,
  "nbformat_minor": 4
}