{
  "cells": [
    {
      "cell_type": "markdown",
      "metadata": {},
      "source": [
        "# QR Factorization\n",
        "\n",
        "The QR factorization of a square matrix $A$ produces an orthogonal matrix $Q$ and an upper triangular matrix $R$ such that\n",
        "$$A = QR.$$\n",
        "The QR factorization is useful for solving the linear equation $A\\mathbf{x}=\\mathbf{b}$ by solving the equivalent equation $QR\\mathbf{x}=\\mathbf{b}$, or rather\n",
        "$$R\\mathbf{x} = Q^T \\mathbf{b},$$\n",
        "where we recall that $Q^T$ is the inverse of $Q$, since $Q$ is orthonormal. As $R$ is upper triangular, we can solve $R\\mathbf{x}=Q^T\\mathbf{b}$ by back substitution. While we focus on square matrices in this notebook, it is important to note that QR factorization can also be applied to non-square matrices, in which case there are interesting connections to least squares solutions to linear systems.\n",
        "\n",
        "## QR via Gram-Schmidt\n",
        "\n",
        "The simplest way to compute a QR factorization is with the Gram-Schmidt algorithm. We assume $A$ is a square $n\\times n$ non-singular matrix (i.e., its columns are linearly independent). The main steps of the Gram-Schmidt algorithm are presented in pseudocode below.\n",
        "\n",
        "Let $\\mathbf{v}_1,\\mathbf{v}_2,\\dots,\\mathbf{v}_n$ denote the columns of $A$. We initialize $\\mathbf{u}_1=\\mathbf{v}_1/r_{11}$, where $r_{11}=\\|\\mathbf{v}_1\\|$ and repeat the steps below for $k=2$ through $k=n$.\n",
        "\n",
        "1. Compute the coefficients of the $k$th column of $R$, that is $r_{jk} = \\mathbf{u}_j\\cdot \\mathbf{v}_k$ for $j \\leq k-1$, $r_{kk} = \\sqrt{\\|\\mathbf{v}_k\\|^2 - \\sum_{j=1}^{k-1} r_{jk}^2}$, and $r_{jk}=0$ for $j>k$.\n",
        "2. Compute the $k$th column of $Q$, given by $\\mathbf{u}_k = \\frac{1}{r_{kk}}\\left( \\mathbf{v}_k - \\sum_{j=1}^{k-1} r_{jk}\\mathbf{u}_j \\right)$.\n",
        "\n",
        "The vectors $\\mathbf{u}_k$ form the columns of $Q$, and by the definition of $\\mathbf{u}_k$ we have\n",
        "$$\\mathbf{v}_k = \\sum_{j=1}^k r_{jk} \\mathbf{u}_j,$$\n",
        "for all $k$, which is equivalent to the QR factorization statement\n",
        "$$A = QR.$$"
      ]
    },
    {
      "cell_type": "markdown",
      "metadata": {},
      "source": [
        "### Exercise\n",
        "\n",
        "Write Python code for QR factorization using Gram-Schmidt. You can use the template in the code below; fill in the gaps. Try your algorithm on some toy matrices."
      ]
    },
    {
      "cell_type": "code",
      "metadata": {},
      "source": [
        "import numpy as np\n",
        "\n",
        "def QR_GS(A):\n",
        "    \"\"\"QR via Gram-Schmidt\n",
        "    ======\n",
        "    Produces a QR factorization via standard Gram-Schmidt.\n",
        "    The algorithm is numerically unstable and may not return orthonormal Q.\n",
        "\n",
        "    Parameters\n",
        "    ----------\n",
        "    A : numpy array, float\n",
        "        Non-singular matrix to perform QR on. A should be mxn with m >= n\n",
        "        and all columns linearly independent.\n",
        "\n",
        "    Returns\n",
        "    -------\n",
        "    Q : numpy array, float\n",
        "        Orthogonal basis.\n",
        "    R : numpy array, float\n",
        "        Upper triangular matrix R so that A=QR\n",
        "    \"\"\"\n",
        "\n",
        "    #Get shapes of matrices and initialize Q,R\n",
        "    m,n = A.shape\n",
        "    Q = np.zeros((m,n))\n",
        "    R = np.zeros((n,n))\n",
        "\n",
        "    #First step (note v_1 = A[:,0], v_2 = A[:,1], etc.)\n",
        "    R[0,0] =\n",
        "    Q[:,0] =\n",
        "\n",
        "    for k in range(1,m):\n",
        "\n",
        "        r = 0\n",
        "        for j in range(k): #j=0,...,k-1\n",
        "            R[j,k] = #u_j dot v_k (v_k = A[:,k], u_j = Q[:,j])\n",
        "            r = r + R[j,k]**2\n",
        "        R[k,k] = #sqrt(norm(v_k)^2 - r)\n",
        "        Q[:,k] =\n",
        "\n",
        "    return Q,R"
      ],
      "outputs": [],
      "execution_count": null
    },
    {
      "cell_type": "markdown",
      "metadata": {},
      "source": [
        "As an example, we define the matrix\n",
        "$$A = \\begin{pmatrix}\n",
        "1 & 1\\\\\n",
        "0 & 1\n",
        "\\end{pmatrix}.$$\n",
        "The QR factorization is $A = I A$, where $I$ is the identity matrix (in fact, we always have $Q=I$ for any $A$ that is already upper triangular). We can verify this in Python code below."
      ]
    },
    {
      "cell_type": "code",
      "metadata": {},
      "source": [
        "A = np.array([[1,0],[1,1]])\n",
        "print(\"A=\\n\",A.T)\n",
        "\n",
        "Q,R = QR_GS(A.T)\n",
        "print(\"Q=\\n\",Q)\n",
        "print(\"R=\\n\",R)"
      ],
      "outputs": [],
      "execution_count": null
    },
    {
      "cell_type": "markdown",
      "metadata": {},
      "source": [
        "In the code above, replace $A$ with $A^T$. How does the QR factorization change? Verify the QR factorization for $A^T$ by hand."
      ]
    },
    {
      "cell_type": "markdown",
      "metadata": {},
      "source": [
        "Let us check below that the QR factorization works for randomly generated matrices."
      ]
    },
    {
      "cell_type": "code",
      "metadata": {},
      "source": [
        "A = np.random.rand(10,10)\n",
        "Q,R = QR_GS(A)\n",
        "print(np.linalg.norm(A - Q@R))"
      ],
      "outputs": [],
      "execution_count": null
    },
    {
      "cell_type": "markdown",
      "metadata": {},
      "source": [
        "We see above that the norm $\\|A-QR\\|$ is close to machine precision, around $10^{-15}$ in this case. We can also check the orthogonality of $Q$ with the code below, which computes the norm $\\|I - Q^TQ\\|$. Clearly $Q$ is very close to orthogonal, up to machine precision."
      ]
    },
    {
      "cell_type": "code",
      "metadata": {},
      "source": [
        "print(np.linalg.norm(Q.T@Q - np.eye(Q.shape[0])))"
      ],
      "outputs": [],
      "execution_count": null
    },
    {
      "cell_type": "markdown",
      "metadata": {},
      "source": [
        "### Loss of orthogonality and numerical instabilities\n",
        "\n",
        "In exact arithmetic, the Gram-Schmidt procedure works to produce a valid QR factorization. However, in the inexact world of floating point arithmetic, the method is numerically unstable and floating point roundoff errors accumulate, leading to a loss of orthogonality in $Q$. When $Q$ is not orthogonal, the definition of $R$ is incorrect and does not lead to a correct factorization.\n",
        "\n",
        "The instabilities in Gram-Schmidt can be observed for very large matrices, or for ill-conditioned matrices. Our first example is for large matrices."
      ]
    },
    {
      "cell_type": "code",
      "metadata": {},
      "source": [
        "A = np.random.rand(1000,1000)\n",
        "Q,R = QR_GS(A)\n",
        "print(np.linalg.norm(A - Q@R))\n",
        "print(np.linalg.norm(Q.T@Q - np.eye(Q.shape[0])))"
      ],
      "outputs": [],
      "execution_count": null
    },
    {
      "cell_type": "markdown",
      "metadata": {},
      "source": [
        "Note that both $\\|A-QR\\|$ and $\\|I - Q^TQ\\|$ are much larger than the machine precision of around $10^{-15}$ we saw earlier, but they are still quite small."
      ]
    },
    {
      "cell_type": "markdown",
      "metadata": {},
      "source": [
        "Random matrices are in fact quite easy to compute with as they are often well-conditioned. The situation can be substantially worse for other matrices that are poorly conditioned. An example of an ill-conditioned matrix is the Hilbert matrix\n",
        "$$A = \\begin{pmatrix}\n",
        "1 & \\frac12 & \\frac13 & \\cdots & \\frac1n\\\\\n",
        "\\frac12 & \\frac13 & \\frac14 & \\cdots & \\frac{1}{n+1}\\\\\n",
        "\\frac13& \\frac14 & \\frac15 & \\cdots & \\frac{1}{n+2}\\\\\n",
        "\\vdots & \\vdots & \\vdots & \\ddots & \\vdots\\\\\n",
        "\\frac1n & \\frac{1}{n+1} & \\frac{1}{n+2} & \\cdots & \\frac{1}{2n-1}\n",
        "\\end{pmatrix}.$$"
      ]
    },
    {
      "cell_type": "code",
      "metadata": {},
      "source": [
        "def hilbert_matrix(n):\n",
        "    \"\"\"Hilbert Matrix\n",
        "    ======\n",
        "    Returns the nxn Hilbert matrix with (i,j) entry 1/(i+j+1), i,j=0,...,n-1\n",
        "\n",
        "    Parameters\n",
        "    ----------\n",
        "    n : int\n",
        "        Size of matrix (nxn)\n",
        "\n",
        "    Returns\n",
        "    -------\n",
        "    A : numpy array, float\n",
        "        Hilbert Matrix\n",
        "    \"\"\"\n",
        "\n",
        "    x = np.arange(n)[:,None]\n",
        "    A = 1/(x + x.T + 1)\n",
        "    return A"
      ],
      "outputs": [],
      "execution_count": null
    },
    {
      "cell_type": "markdown",
      "metadata": {},
      "source": [
        "Check the performance of your QR algorithm on the Hilbert matrix."
      ]
    },
    {
      "cell_type": "code",
      "metadata": {},
      "source": [
        "A = hilbert_matrix(20)\n",
        "Q,R = QR_GS(A)\n",
        "print(np.linalg.norm(A - Q@R,ord=np.inf))\n",
        "print(np.linalg.norm(Q.T@Q - np.eye(Q.shape[0])))"
      ],
      "outputs": [],
      "execution_count": null
    },
    {
      "cell_type": "markdown",
      "metadata": {},
      "source": [
        "Your code likely produced `nan` (not a number) and did not work. Can you figure out why? The Hilbert matrix is non-singular, but very poorly conditioned."
      ]
    },
    {
      "cell_type": "markdown",
      "metadata": {},
      "source": [
        "### Exercise\n",
        "\n",
        "To fix this, modify your QR code to do the computation in the following way.\n",
        "\n",
        "1. Compute some of the coefficients of the $k$th column of $R$, that is $r_{jk} = \\mathbf{u}_j\\cdot \\mathbf{v}_k$ for $j \\leq k-1$ and $r_{jk}=0$ for $j>k$.\n",
        "2. Compute $\\mathbf{x}_k = \\mathbf{v}_k - \\sum_{j-1}^{k-1} r_{jk}\\mathbf{u}_j$ and $r_{kk} = \\|\\mathbf{x}_k\\|$.\n",
        "3. Compute the $k$th column of $Q$,  $\\mathbf{u}_k = \\frac{\\mathbf{x}_k}{r_{kk}}$.\n",
        "\n",
        "After making your modifications, try the Hilbert matrix again."
      ]
    },
    {
      "cell_type": "code",
      "metadata": {},
      "source": [
        "A = hilbert_matrix(20)\n",
        "Q,R = QR_GS(A)\n",
        "print(np.linalg.norm(A - Q@R,ord=np.inf))\n",
        "print(np.linalg.norm(Q.T@Q - np.eye(Q.shape[0])))"
      ],
      "outputs": [],
      "execution_count": null
    },
    {
      "cell_type": "markdown",
      "metadata": {},
      "source": [
        "Your code should run this time and produce real numbers. You should see that $A=QR$ up to machine precision, but that $Q$ is very var from being orthogonal. This is the result of the accumulation of floating point roundoff errors, which is most evident in ill-conditioned matrices like the Hilbert matrix.\n",
        "\n",
        "If this is your first experience thinking about floating point numbers and roundoff errors, try running the code below, which should return 1 (it does not, due to accumulation of floating point roundoff errors, which is particularly bad when operating with very small and very large numbers at the same time). The exercise above also illustrates how the way a computation is performed can matter, even if it is mathematically equivalent!"
      ]
    },
    {
      "cell_type": "code",
      "metadata": {},
      "source": [
        "print(1+1e-16)\n",
        "print(0.6 == 0.6)\n",
        "print(0.1 + 0.2 + 0.3 == 0.6)\n",
        "print(0.1 + 0.2 + 0.3)"
      ],
      "outputs": [],
      "execution_count": null
    },
    {
      "cell_type": "code",
      "metadata": {},
      "source": [
        "n = int(1e6)\n",
        "b = 1e6\n",
        "c = b\n",
        "\n",
        "#In exact arithmetic, the loop below just adds 1 to c, and is the same as c=c+1\n",
        "#In floating point arithmetic, the errors in c += 1/n accumulate, expecially\n",
        "#since 1/n is far smaller than c.\n",
        "for i in range(n):\n",
        "    c += 1/n\n",
        "\n",
        "#Since we start at c=b and the loop above should just perform c=c+1\n",
        "#we should have c=b+1 and so c-b=1. This is not the case in floating point\n",
        "#arithmetic.\n",
        "print(c-b)"
      ],
      "outputs": [],
      "execution_count": null
    },
    {
      "cell_type": "markdown",
      "metadata": {},
      "source": [
        "### Additional exercises"
      ]
    },
    {
      "cell_type": "markdown",
      "metadata": {},
      "source": [
        "1. QR algorithms in Python packages.\n",
        "  * Find an implementation of QR factorization in Numpy or Scipy (or any other Python package).\n",
        "  * Compare the implementation of QR that you found to Gram-Schmidt and Modified Gram-Schmidt. Compute both $\\|A-QR\\|$ and $\\|I - Q^TQ\\|$ for all three methods. Try random matrices, and ill-conditioned ones.\n",
        "  * Can you find out what algorithm is used to compute QR for the implementation you found?\n",
        "  * Compare the run-times of all three algorithms for large matrices, say around $1000\\times 1000$."
      ]
    },
    {
      "cell_type": "code",
      "metadata": {},
      "source": [
        "import time\n",
        "\n",
        "#Recall this is how we can time the execution of code in python\n",
        "start_time = time.time()\n",
        "#Write code\n",
        "print(\"Time taken: %s seconds.\" % (time.time() - start_time))"
      ],
      "outputs": [],
      "execution_count": null
    },
    {
      "cell_type": "markdown",
      "metadata": {},
      "source": [
        "2. Write Python code to solve the linear system $A\\mathbf{x}=\\mathbf{b}$ with $QR$ factorization. Test your method on some large random matrices. You can use `np.linalg.inv` to compute the inverse of the upper triangular matrix $R$."
      ]
    },
    {
      "cell_type": "code",
      "metadata": {},
      "source": [],
      "outputs": [],
      "execution_count": null
    }
  ],
  "metadata": {
    "anaconda-cloud": {},
    "kernelspec": {
      "display_name": "Python 3",
      "language": "python",
      "name": "python3"
    },
    "language_info": {
      "codemirror_mode": {
        "name": "ipython",
        "version": 3
      },
      "file_extension": ".py",
      "mimetype": "text/x-python",
      "name": "python",
      "nbconvert_exporter": "python",
      "pygments_lexer": "ipython3",
      "version": "3.6.1"
    }
  },
  "nbformat": 4,
  "nbformat_minor": 4
}