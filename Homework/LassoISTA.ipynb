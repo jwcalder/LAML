{
  "cells": [
    {
      "cell_type": "markdown",
      "metadata": {},
      "source": [
        "# Lasso Regression via ISTA\n",
        "\n",
        "Here we solve the lasso regression problem with the iterative\n",
        "shrinkage\u2013thresholding algorithm (ISTA) algorithm and apply it to the diabetes data set"
      ]
    },
    {
      "cell_type": "code",
      "metadata": {},
      "source": [
        "from sklearn import datasets\n",
        "\n",
        "diabetes = datasets.load_diabetes()\n",
        "print(diabetes.DESCR)"
      ],
      "outputs": [],
      "execution_count": null
    },
    {
      "cell_type": "markdown",
      "metadata": {},
      "source": [
        "The returned object `diabetes` contains the data and target. To see how to access it, we can just print it out."
      ]
    },
    {
      "cell_type": "code",
      "metadata": {},
      "source": [
        "print(diabetes)"
      ],
      "outputs": [],
      "execution_count": null
    },
    {
      "cell_type": "markdown",
      "metadata": {},
      "source": [
        "We see there are arrays `data` and `target`. Let's give those new names and check their shapes."
      ]
    },
    {
      "cell_type": "code",
      "metadata": {},
      "source": [
        "x = diabetes.data\n",
        "y = diabetes.target\n",
        "\n",
        "print(x.shape)\n",
        "print(y.shape)"
      ],
      "outputs": [],
      "execution_count": null
    },
    {
      "cell_type": "markdown",
      "metadata": {},
      "source": [
        "Let's plot some of the data against the target to get a feel for the dataset. The plots do not show any clear corellations between individual variables and the target disease progression."
      ]
    },
    {
      "cell_type": "code",
      "metadata": {},
      "source": [
        "import matplotlib.pyplot as plt\n",
        "\n",
        "feature_labels =  ['Age (years)',\n",
        "                   'Sex',\n",
        "                   'Body mass index',\n",
        "                   'Average blood pressure',\n",
        "                   'TC (total serum cholesterol)',\n",
        "                   'LDL (low-density lipoproteins)',\n",
        "                   'HDL (high-density lipoproteins)',\n",
        "                   'TCH (total cholesterol / HDL)',\n",
        "                   'LTG (log of serum triglycerides level)',\n",
        "                   'GLU (blood sugar level)']\n",
        "\n",
        "for i in [0,2,3,4,5,6,7,8,9]:\n",
        "    plt.figure()\n",
        "    plt.scatter(x[:,i],y)\n",
        "    plt.xlabel(feature_labels[i],fontsize=16)\n",
        "    plt.ylabel('Disease progression',fontsize=16)"
      ],
      "outputs": [],
      "execution_count": null
    },
    {
      "cell_type": "markdown",
      "metadata": {},
      "source": [
        "Let's now split into training and testing sets and run a linear regression, reporting the training and testing error. Play around with the regularization parameter $\\lambda$ (`lam`) below."
      ]
    },
    {
      "cell_type": "code",
      "metadata": {},
      "source": [
        "from sklearn.model_selection import train_test_split\n",
        "import numpy as np\n",
        "\n",
        "#To handle affine data, we extend the features by a constant 1\n",
        "x = diabetes.data\n",
        "y = diabetes.target\n",
        "n = x.shape[0]\n",
        "x = np.hstack((x,np.ones((n,1))))\n",
        "\n",
        "#Train/test split\n",
        "x_train, x_test, y_train, y_test = train_test_split(x, y, test_size=0.33)\n",
        "\n",
        "#linear regression on training set\n",
        "lam = 0.01 #Regularization parameter\n",
        "m = x_train.shape[1]\n",
        "A = x_train.T@x_train + lam*np.eye(m)\n",
        "rank = np.linalg.matrix_rank(A)\n",
        "if rank != m:\n",
        "    print(\"Matrix is singular!\")\n",
        "\n",
        "#Since the system is only 11x11, we don't care that much how Ax=b\n",
        "#solved. We'll just use numpy.linalg.solve\n",
        "w = np.linalg.solve(A,x_train.T@y_train)\n",
        "\n",
        "#print testing and training mean squared error\n",
        "train_error = np.sqrt(np.mean((y_train - x_train@w)**2))\n",
        "test_error = np.sqrt(np.mean((y_test - x_test@w)**2))\n",
        "print('Training error: ',train_error)\n",
        "print('Testing error: ',test_error)"
      ],
      "outputs": [],
      "execution_count": null
    },
    {
      "cell_type": "markdown",
      "metadata": {},
      "source": [
        "We can also print out the weights corresponding to each feature, to understand which are more imporant for the regression/prediction."
      ]
    },
    {
      "cell_type": "code",
      "metadata": {},
      "source": [
        "print('\\nFeature weights:')\n",
        "print('================')\n",
        "for i in range(len(feature_labels)):\n",
        "    print(feature_labels[i]+': %.2f'%w[i])\n",
        "print('Offest b: %.2f'%w[10])"
      ],
      "outputs": [],
      "execution_count": null
    },
    {
      "cell_type": "markdown",
      "metadata": {},
      "source": [
        "We now implement Lasso regression with the ISTA algorithm."
      ]
    },
    {
      "cell_type": "code",
      "metadata": {},
      "source": [
        "import numpy as np\n",
        "\n",
        "def shrink(x,lam):\n",
        "    return np.sign(x)*np.maximum(0,np.absolute(x) - lam/2)\n",
        "\n",
        "X = x_train\n",
        "Y = y_train\n",
        "\n",
        "w = np.random.randn(X.shape[1])\n",
        "alpha = 0.001\n",
        "lam = 0.1\n",
        "for i in range(10000):\n",
        "    lasso_energy = np.sum((X@w - Y)**2 + lam*np.sum(np.abs(w)))\n",
        "    if i % 1000 == 0:\n",
        "        print('Iteration =', i, 'Lasso energy =',lasso_energy)\n",
        "    z = w - 2*alpha*X.T@(X@w-Y)\n",
        "    w = shrink(z,2*alpha*lam)\n",
        "\n",
        "print('\\nFeature weights:')\n",
        "print('================')\n",
        "for i in range(len(feature_labels)):\n",
        "    print(feature_labels[i]+': %.2f'%w[i])\n",
        "print('Offest b: %.2f'%w[10])"
      ],
      "outputs": [],
      "execution_count": null
    }
  ],
  "metadata": {
    "anaconda-cloud": {},
    "kernelspec": {
      "display_name": "Python 3",
      "language": "python",
      "name": "python3"
    },
    "language_info": {
      "codemirror_mode": {
        "name": "ipython",
        "version": 3
      },
      "file_extension": ".py",
      "mimetype": "text/x-python",
      "name": "python",
      "nbconvert_exporter": "python",
      "pygments_lexer": "ipython3",
      "version": "3.6.1"
    }
  },
  "nbformat": 4,
  "nbformat_minor": 4
}