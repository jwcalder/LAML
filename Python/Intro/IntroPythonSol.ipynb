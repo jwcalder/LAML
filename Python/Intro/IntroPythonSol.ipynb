{
  "cells": [
    {
      "cell_type": "markdown",
      "metadata": {},
      "source": [
        "#Introduction to Python\n",
        "This notebook has a brief introduction to python. For something more in-depth, see this [Introduction to Python](https://www.w3schools.com/python/python_intro.asp)."
      ]
    },
    {
      "cell_type": "markdown",
      "metadata": {},
      "source": [
        "## Variables\n",
        "Python variables can hold many different kinds of objects, including integers, floating numbers, lists, strings, numpy arrays, and so on. The basic operations of addition and multiplication depend on which data type you work with. Make sure you understand the examples below."
      ]
    },
    {
      "cell_type": "markdown",
      "metadata": {},
      "source": [
        "Here is an example of numerical variables:"
      ]
    },
    {
      "cell_type": "code",
      "metadata": {},
      "source": [
        "a = 2\n",
        "b = 4\n",
        "print(a+b) #addition\n",
        "print(a*b) #multiplication\n",
        "print(a/b) #division\n",
        "print(a**b)#Exponents a^b"
      ],
      "outputs": [],
      "execution_count": null
    },
    {
      "cell_type": "markdown",
      "metadata": {},
      "source": [
        "String variables:"
      ]
    },
    {
      "cell_type": "code",
      "metadata": {},
      "source": [
        "a = 'hello'\n",
        "b = ' '\n",
        "c = 'world'\n",
        "print(a+b+c)\n",
        "print(7*(a+b))"
      ],
      "outputs": [],
      "execution_count": null
    },
    {
      "cell_type": "markdown",
      "metadata": {},
      "source": [
        "Lists:"
      ]
    },
    {
      "cell_type": "code",
      "metadata": {},
      "source": [
        "a = [4,'hello world', 3.14159]\n",
        "b = ['data science', 46]\n",
        "print(len(a),len(b)) #Length of lists\n",
        "print(a+b)\n",
        "print(3*b)\n",
        "\n",
        "#We can modify lists\n",
        "a[0] = 6\n",
        "print(a)"
      ],
      "outputs": [],
      "execution_count": null
    },
    {
      "cell_type": "markdown",
      "metadata": {},
      "source": [
        "Tuples: Python tuples are similar to lists but canot be modified. They can be defined using parentheses or without any. When Python functions return multiple arguments, they are usually returned as tuples."
      ]
    },
    {
      "cell_type": "code",
      "metadata": {},
      "source": [
        "a = (4,'hello world', 3.14159)\n",
        "b = 'data science', 46\n",
        "print(len(a),len(b))\n",
        "print(a+b)\n",
        "print(3*b)\n",
        "\n",
        "#We cannot modify a tuple\n",
        "a[0] = 3"
      ],
      "outputs": [],
      "execution_count": null
    },
    {
      "cell_type": "markdown",
      "metadata": {},
      "source": [
        "##For loop\n",
        "\n",
        "Loops are simple in python, using the range(n) function, which iterates over $0,1,2,...,n-1$."
      ]
    },
    {
      "cell_type": "code",
      "metadata": {},
      "source": [
        "for i in range(3,20,3):\n",
        "    print(i)\n",
        "print('done')"
      ],
      "outputs": [],
      "execution_count": null
    },
    {
      "cell_type": "markdown",
      "metadata": {},
      "source": [
        "In Python, you can loop over lists very easily."
      ]
    },
    {
      "cell_type": "code",
      "metadata": {},
      "source": [
        "x = [1,2,3,'hello','world']\n",
        "for s in x:\n",
        "    print(s)"
      ],
      "outputs": [],
      "execution_count": null
    },
    {
      "cell_type": "markdown",
      "metadata": {},
      "source": [
        "Often you may want to loop over a list and keep track of the index as well, which is easy to do."
      ]
    },
    {
      "cell_type": "code",
      "metadata": {},
      "source": [
        "x = ['this','class','is','about','machine','learning']\n",
        "for i,s in enumerate(x):\n",
        "    print(i,s)"
      ],
      "outputs": [],
      "execution_count": null
    },
    {
      "cell_type": "markdown",
      "metadata": {},
      "source": [
        "In Python, there is no need to end a loop or conditional statement. The scope is deduced by your indentation. In the code above, the statement print(i) is indented, showing Python that this should be inside the for loop, while print('done') is not indented, which indicates the for loop scope has ended. It doesn't mater how many spaces you use for indentation, as long as you are consistent in each scope.\n",
        "\n",
        "Try to run the code below. What is wrong? Can you fix it?"
      ]
    },
    {
      "cell_type": "code",
      "metadata": {},
      "source": [
        "for i in range(10):\n",
        "    j = 2*i\n",
        " print(j)"
      ],
      "outputs": [],
      "execution_count": null
    },
    {
      "cell_type": "markdown",
      "metadata": {},
      "source": [
        "We can also use while loops."
      ]
    },
    {
      "cell_type": "code",
      "metadata": {},
      "source": [
        "i = 0\n",
        "while i < 10:\n",
        "    print(i,end=':')\n",
        "    i += 1"
      ],
      "outputs": [],
      "execution_count": null
    },
    {
      "cell_type": "markdown",
      "metadata": {},
      "source": [
        "##If statements\n",
        "If statements work similarly to for statements concerning indentation."
      ]
    },
    {
      "cell_type": "code",
      "metadata": {},
      "source": [
        "n = 60 #Choose any number you like\n",
        "if n > 50:\n",
        "    print('n is larger than 50')\n",
        "else:\n",
        "    print('n is less than or equal to 50')\n"
      ],
      "outputs": [],
      "execution_count": null
    },
    {
      "cell_type": "markdown",
      "metadata": {},
      "source": [
        "We can have longer if else statements:"
      ]
    },
    {
      "cell_type": "code",
      "metadata": {},
      "source": [
        "n = 41 #Choose any number you like\n",
        "if n > 50:\n",
        "    print('n is larger than 50')\n",
        "elif n > 40:\n",
        "    print('n is larger than 40 but less than or equal to 50')\n",
        "else:\n",
        "    print('n is smaller than or equal to 40')\n"
      ],
      "outputs": [],
      "execution_count": null
    },
    {
      "cell_type": "markdown",
      "metadata": {},
      "source": [
        "##Functions\n",
        "It is easy to define new functions in python."
      ]
    },
    {
      "cell_type": "code",
      "metadata": {},
      "source": [
        "def sum(a,b):\n",
        "    c = a + b\n",
        "    return c\n",
        "\n",
        "print(sum(1,3))\n",
        "print(sum(10,21))\n",
        "print(sum('hello ','world'))"
      ],
      "outputs": [],
      "execution_count": null
    },
    {
      "cell_type": "markdown",
      "metadata": {},
      "source": [
        "## Exercises\n",
        "These exercises should all be completed with basic Python, without importing any packages (e.g., do not use numpy, scipy, etc)."
      ]
    },
    {
      "cell_type": "markdown",
      "metadata": {},
      "source": [
        "1. Write a Python function that approximates $\\sin(x)$ using the Taylor expansion $\\sin(x) \\approx x - \\frac{x^3}{3!} + \\frac{x^5}{5!} - \\frac{x^7}{7!}$. Test your function for simple known values of $\\sin(x)$, such as $\\sin(0)=0$, $\\sin(\\pi/4) = \\frac{1}{\\sqrt{2}}$, $\\sin(\\pi/2)=1$, and $\\sin(\\pi)=0$, etc. How good is the approximation?"
      ]
    },
    {
      "cell_type": "code",
      "metadata": {},
      "source": [
        "def taylor_sin(x):\n",
        "    return x - x**3/(3*2) + x**5/(5*4*3*2) - x**7/(7*6*5*4*3*2)\n",
        "\n",
        "#Test your function (e.g. taylor_sin(3.14159) should be close to zero, taylor_sin(3.14159/2) should be close to 1)\n",
        "print(taylor_sin(3.14159))\n",
        "print(taylor_sin(3.14159/2))\n",
        "\n",
        "#Recursive factorial function\n",
        "def factorial(n):\n",
        "    if n == 1:\n",
        "        return 1\n",
        "    else:\n",
        "        return n*factorial(n-1)\n",
        "\n",
        "#Higher order expansion\n",
        "def taylor_sin(x):\n",
        "    return x - x**3/factorial(3) + x**5/factorial(5) - x**7/factorial(7) + x**9/factorial(9) - x**11/factorial(11)\n",
        "print(taylor_sin(3.14159))\n",
        "print(taylor_sin(3.14159/2))"
      ],
      "outputs": [],
      "execution_count": null
    },
    {
      "cell_type": "markdown",
      "metadata": {},
      "source": [
        "2. Write a Python function that computes the square root of a positive number using the Babylonian method. The Babylonian method to compute $\\sqrt{S}$ for $S>0$ constructs the sequence $x_n$ by setting $x_0=S$ and iterating\n",
        "$$x_{n+1} = \\frac{1}{2}\\left(x_n + \\frac{S}{x_n}\\right).$$\n",
        "Your code can take as input a tolerance parameter $\\varepsilon>0$, and should iterate until $|x_n^2 - S| \\leq \\varepsilon$, and then return $x_n$. Test your square root function to make sure it works.\n",
        "\n",
        "Notes: You can use `abs` for absolute value in Python. Also note the use of the optional argument for `eps`."
      ]
    },
    {
      "cell_type": "code",
      "metadata": {},
      "source": [
        "#This is not correct (it's a homework problem). It's just here \n",
        "#so the Euclidean norm works below.\n",
        "import numpy as np\n",
        "def babylonian_sqrt(S,eps=1e-6):\n",
        "    return np.sqrt(S)"
      ],
      "outputs": [],
      "execution_count": null
    },
    {
      "cell_type": "markdown",
      "metadata": {},
      "source": [
        "3. [Challenge (optional)] Prove that the iteration in the Babylonian method above converges quadratically to the square root of $S$. In particular, show that the error $\\epsilon_n = \\frac{x_n}{\\sqrt{S}}-1$ satisfies\n",
        "$$\\epsilon_{n+1} = \\frac{\\epsilon_n^2}{2(\\epsilon_n+1)}.$$\n",
        "From this, we get that $\\epsilon_n\\geq 0$ for $n\\geq 1$, and so\n",
        "$$\\epsilon_{n+1} \\leq \\frac{1}{2}\\min\\{\\epsilon_n^2,\\epsilon_n\\}.$$\n",
        "Why does the inequality above guarantee convergence (i.e., that $\\epsilon_n\\to 0$ as $n\\to \\infty$)?"
      ]
    },
    {
      "cell_type": "markdown",
      "metadata": {},
      "source": [
        "4. Write a Python function that adds two vectors together. Represent your vectors as Python lists."
      ]
    },
    {
      "cell_type": "code",
      "metadata": {},
      "source": [
        "def add(x,y):\n",
        "\n",
        "    n = len(x)\n",
        "    if len(y) != n:\n",
        "        print('Vectors are not the same length!')\n",
        "        return 0\n",
        "    else:\n",
        "        z = []\n",
        "        for i in range(n):\n",
        "            z.append(x[i] + y[i])\n",
        "        return z\n",
        "\n",
        "#Test your function (try others)\n",
        "print(add([1,1,1,1],[2,3,4,7]))"
      ],
      "outputs": [],
      "execution_count": null
    },
    {
      "cell_type": "markdown",
      "metadata": {},
      "source": [
        "5. Write a Python function that computes the dot product between two vectors. Represent your vectors as Python lists. [Challenge: Choose an inner product that is not the dot product, and write a python function to compute it.]"
      ]
    },
    {
      "cell_type": "code",
      "metadata": {},
      "source": [
        "def dot_product(x,y):\n",
        "\n",
        "    d = 0\n",
        "    for i in range(len(x)):\n",
        "        d += x[i]*y[i]\n",
        "\n",
        "    return d\n",
        "\n",
        "#Test your dot product (try other examples)\n",
        "x = [1,2,3]\n",
        "y = [1,0,1]\n",
        "print(dot_product(x,y)) #Should be 4\n",
        "print(dot_product([1,2,4],[4,4,2]))\n",
        "print(dot_product(100*[1],100*[2]))"
      ],
      "outputs": [],
      "execution_count": null
    },
    {
      "cell_type": "markdown",
      "metadata": {},
      "source": [
        "6. Write a function that multiplies a vector $\\mathbf{x}$ (represented by a Python list) by a scalar $a\\in \\mathbb{R}$. The function should return $a\\mathbf{x}$. Make sure to define a new list to store the ouptut (don't overwrite $\\mathbf{x}$)."
      ]
    },
    {
      "cell_type": "code",
      "metadata": {},
      "source": [
        "def scalar_product(x,a):\n",
        "\n",
        "    n = len(x)\n",
        "    y = n*[1]\n",
        "    for i in range(len(x)):\n",
        "        y[i] = a*x[i]\n",
        "    return y\n",
        "\n",
        "#Test your function\n",
        "y = scalar_product([1,2,3],2)\n",
        "print(y)\n",
        "\n",
        "x = scalar_product(10*[1],5)\n",
        "print(x)\n",
        "\n",
        "#Test your function"
      ],
      "outputs": [],
      "execution_count": null
    },
    {
      "cell_type": "markdown",
      "metadata": {},
      "source": [
        "7. Write a function that computes the Euclidean norm of a vector $\\mathbf{x}$ represented as a list. (Hint: Use your dot product and square root functions)."
      ]
    },
    {
      "cell_type": "code",
      "metadata": {},
      "source": [
        "def norm(x):\n",
        "    return babylonian_sqrt(dot_product(x,x))\n",
        "\n",
        "#Test your function\n",
        "print(norm([1,1,1,1]))\n",
        "print(norm([1]*25))\n",
        "\n",
        "#Test your function"
      ],
      "outputs": [],
      "execution_count": null
    },
    {
      "cell_type": "markdown",
      "metadata": {},
      "source": [
        "8. Write a function that performs Gram-Schmidt on two vectors $\\mathbf{u}_1,\\mathbf{u}_2$. The output of Gram-Schmidt is two orthonormal vectors $\\mathbf{v}_1$ and $\\mathbf{v}_2$ defined by\n",
        "$$\\mathbf{v}_1 = \\frac{\\mathbf{u}_1}{\\|\\mathbf{u}_1\\|}\\ \\ \\text{and} \\ \\ \\mathbf{v_2} = \\frac{\\mathbf{u}_2 - (\\mathbf{u}_2 \\cdot \\mathbf{v}_1)\\mathbf{v}_1}{\\|\\mathbf{u}_2 - (\\mathbf{u}_2 \\cdot \\mathbf{v}_1)\\mathbf{v}_1\\|}.$$"
      ]
    },
    {
      "cell_type": "code",
      "metadata": {},
      "source": [
        "def gram_schmidt(u1,u2):\n",
        "    v1 = scalar_product(u1,1/norm(u1))\n",
        "    x = scalar_product(v1,dot_product(u2,v1))\n",
        "    y = add(u2,scalar_product(x,-1))\n",
        "    v2 = scalar_product(y,1/norm(y))\n",
        "    return v1,v2\n",
        "\n",
        "v1,v2 = gram_schmidt([1,0],[1,1])\n",
        "print(v1,v2)\n",
        "\n",
        "v1,v2 = gram_schmidt([1,1],[1,0])\n",
        "print(v1,v2)"
      ],
      "outputs": [],
      "execution_count": null
    },
    {
      "cell_type": "markdown",
      "metadata": {},
      "source": [
        "9. The cross product between two vectors $\\mathbf{x}=(x_1,x_2,x_3)$ and $\\mathbf{y}=(y_1,y_2,y_3)$ in $\\mathbb{R}^3$ is the vector $\\mathbf{z} = \\mathbf{x}\\times \\mathbf{y}$ defined by\n",
        "$$\\mathbf{z} = (x_2y_3-x_3y_2,x_3y_1-x_1y_3,x_1y_2-x_2y_1).$$\n",
        "Write a Python function to compute the cross product and test it on several examples."
      ]
    },
    {
      "cell_type": "code",
      "metadata": {},
      "source": [
        "#This is homework\n",
        "#def cross_product(x,y):\n",
        "\n",
        "#Test your cross product function"
      ],
      "outputs": [],
      "execution_count": null
    },
    {
      "cell_type": "markdown",
      "metadata": {},
      "source": [
        "10. Write a Python program that uses the [Sieve of Eratosthenes](https://en.wikipedia.org/wiki/Sieve_of_Eratosthenes) to find all prime numbers between $2$ and a given integer $n$."
      ]
    },
    {
      "cell_type": "code",
      "metadata": {},
      "source": [
        "def prime_sieve(n):\n",
        "\n",
        "    primes = [] #Empty list for primes\n",
        "    prime_mask = [True]*(n+1)\n",
        "    prime_mask[0] = False\n",
        "    prime_mask[1] = False\n",
        "\n",
        "    c = 0\n",
        "    while c < n:\n",
        "        while c <= n and prime_mask[c] == False:\n",
        "            c+=1\n",
        "        if c <= n:\n",
        "            primes += [c]\n",
        "        for i in range(c,n+1,c):\n",
        "            prime_mask[i]=False\n",
        "\n",
        "    return primes\n",
        "\n",
        "primes = prime_sieve(10**5)\n",
        "for p in primes:\n",
        "    print(p)\n"
      ],
      "outputs": [],
      "execution_count": null
    },
    {
      "cell_type": "markdown",
      "metadata": {},
      "source": [
        "11. The Fibonacci sequence is given by\n",
        "$$1,1,2,3,5,8,13,\\dots.$$\n",
        "The general rule is that the next number is the sum of the previous two numbers, i.e., $a_n = a_{n-1} + a_{n-2}$, with $a_0=a_1=1$. The golden ratio is the limit of the ratio of subsequent terms in the Fibonacci sequence\n",
        "$$\\phi = \\lim_{n\\to \\infty}\\frac{a_n}{a_{n-1}}.$$\n",
        "It turns out that $\\phi = \\frac{1}{2}(1 + \\sqrt{5})$ (proving this requires some work). Write a Python program to approximate the golden ratio $\\phi$ by computing $N$ terms in the Fibonacci sequence and then computing\n",
        "$$\\phi_N = \\frac{a_N}{a_{N-1}}$$\n",
        "for a large value of $N$. How accurate is your approximation? Try different values for $N$."
      ]
    },
    {
      "cell_type": "code",
      "metadata": {},
      "source": [
        "def approx_phi(N):\n",
        "\n",
        "    a, aprev = 1,1\n",
        "    for i in range(N):\n",
        "        atmp = a\n",
        "        a = a + aprev\n",
        "        aprev = atmp\n",
        "    return a/aprev\n",
        "\n",
        "print(approx_phi(100))\n",
        "print((1+babylonian_sqrt(5))/2)\n",
        "\n"
      ],
      "outputs": [],
      "execution_count": null
    }
  ],
  "metadata": {
    "anaconda-cloud": {},
    "kernelspec": {
      "display_name": "Python 3",
      "language": "python",
      "name": "python3"
    },
    "language_info": {
      "codemirror_mode": {
        "name": "ipython",
        "version": 3
      },
      "file_extension": ".py",
      "mimetype": "text/x-python",
      "name": "python",
      "nbconvert_exporter": "python",
      "pygments_lexer": "ipython3",
      "version": "3.6.1"
    }
  },
  "nbformat": 4,
  "nbformat_minor": 4
}