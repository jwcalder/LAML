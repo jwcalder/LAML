{
  "cells": [
    {
      "cell_type": "markdown",
      "metadata": {},
      "source": [
        "# Solving linear equations in Numpy\n",
        "This notebook overviews some basic approaches to solving linear systems and eigenvalue problems in [NumPy](https://NumPy.org/)."
      ]
    },
    {
      "cell_type": "markdown",
      "metadata": {},
      "source": [
        "## Solving small linear systems\n",
        "We can use the `numpy.linalg.solve` command to exactly solve small or moderate size linear systems of full rank. We can check if a system is full rank using `numpy.linalg.matrix_rank`. Below we show how to solve a linear system with matrix\n",
        "$$A = \\begin{pmatrix} \n",
        "4 & -1 & 0 & 0\\\\\n",
        "-1 & 4 & -1 & 0\\\\  \n",
        "0 & -1 & 4 & -1 \\\\  \n",
        "0 & 0 & -1 & 4 \n",
        "\\end{pmatrix},\n",
        "$$\n",
        "which appears in the linear solvers for certain partial differential equations involving the Laplacian. Solving linear systems is the subject of Chapter 4 in the textbook, and direct solutions are usually computed via QR factorization (Section 4.7) or Gaussian elimination (which we do not cover in the book). "
      ]
    },
    {
      "cell_type": "code",
      "metadata": {},
      "source": [
        "import numpy as np\n",
        "\n",
        "A = np.array([[4,-1,0,0],\n",
        "              [-1,4,-1,0],\n",
        "              [0,-1,4,-1],\n",
        "              [0,0,-1,4]])\n",
        "\n",
        "k = np.linalg.matrix_rank(A)\n",
        "print('Rank = ',k)\n",
        "\n",
        "b = np.ones(4)\n",
        "x = np.linalg.solve(A,b)\n",
        "print('Solution = ',x)\n",
        "print('A*x=',A@x,'b=',b)"
      ],
      "outputs": [],
      "execution_count": null
    },
    {
      "cell_type": "markdown",
      "metadata": {},
      "source": [
        "## Solving large sparse linear systems\n",
        "Direct solvers for linear systems typically struggle with large systems of linear equations. When the matrix $A$ is has some structure, such as symmetric positive definiteness and sparsity (meaning many entries are zero), there are far more efficient solvers based on indirect iterative methods. Below we use the conjugate gradient method (covered in Chapters 6 and 11 of the textbook) to solve a linear system with a matrix $A$ of the same form as above, but much larger. In this case, we use the `scipy` package, which has support for sparse matrices. "
      ]
    },
    {
      "cell_type": "code",
      "metadata": {},
      "source": [
        "from scipy import sparse\n",
        "\n",
        "n = 1000\n",
        "o = np.ones(n)\n",
        "A = sparse.diags(4*o) - sparse.diags(o[1:],1) - sparse.diags(o[1:],-1)\n",
        "print(A)\n",
        "\n",
        "x0 = np.random.randn(n) #Initialization\n",
        "b = np.ones(n)\n",
        "x,_ = sparse.linalg.cg(A,b,x0=x0) #Call conjugate gradient method\n",
        "\n",
        "print('Solution = ',x)\n",
        "print('A*x=',A*x,'b=',b)"
      ],
      "outputs": [],
      "execution_count": null
    },
    {
      "cell_type": "markdown",
      "metadata": {},
      "source": [
        "Notice the solution is not exact, but is correct up to several decimal places. \n",
        "\n",
        "### Exercise\n",
        "Change the upper diagonal entries of $A$ to be $-2$ instead of $-1$, so that $A$ is not symmetric, and the conjugate gradient method cannot be applied. In this case, the more general method GMRES can still be applied. Write Python code below to solve the same linear system using `sparse.linalg.gmres`."
      ]
    },
    {
      "cell_type": "code",
      "metadata": {},
      "source": [
        "from scipy import sparse"
      ],
      "outputs": [],
      "execution_count": null
    },
    {
      "cell_type": "markdown",
      "metadata": {},
      "source": [
        "## Solving small eigenvalue problems\n",
        "We can use the `numpy.linalg.eig` or `numpy.linalg.eigh` (the latter is for symmetric matrices) to compute all of the eigenvectors and eigenvalues of a matrix $A$. We do this below for the $4\\times 4$ matrix $A$ introduced above. Eigenvalues and eigenvectors are the subject of Chapter 5 in the textbook."
      ]
    },
    {
      "cell_type": "code",
      "metadata": {},
      "source": [
        "import numpy as np\n",
        "\n",
        "A = np.array([[4,-1,0,0],\n",
        "              [-1,4,-1,0],\n",
        "              [0,-1,4,-1],\n",
        "              [0,0,-1,4]])\n",
        "\n",
        "vals, vecs = np.linalg.eigh(A)\n",
        "print('Eigenvalues = ',vals)\n",
        "print('Eigenvectors = \\n',vecs)"
      ],
      "outputs": [],
      "execution_count": null
    },
    {
      "cell_type": "markdown",
      "metadata": {},
      "source": [
        "Notice the eigenvalues are returned in ascending order. The columns of the array `vecs` contain the eigenvectors. As an alternative to using a linear solver, we can directly compute $A^{-1}$ using the spectral decomposition and use this to solve the linear system, as is done in the code below. Computing powers of symmetric (or more generally, self-adjoint) matrices using spectral decompositions is covered in Section 5.3 of the textbook). "
      ]
    },
    {
      "cell_type": "code",
      "metadata": {},
      "source": [
        "import numpy as np\n",
        "\n",
        "A = np.array([[4,-1,0,0],\n",
        "              [-1,4,-1,0],\n",
        "              [0,-1,4,-1],\n",
        "              [0,0,-1,4]])\n",
        "\n",
        "vals, vecs = np.linalg.eigh(A)\n",
        "Q = vecs\n",
        "L = np.diag(1/vals)\n",
        "Ainv = Q@L@Q.T\n",
        "print(Ainv)\n",
        "\n",
        "b = np.ones(4)\n",
        "x = Ainv@b\n",
        "print('Solution = ',x)\n",
        "print('A*x=',A@x,'b=',b)"
      ],
      "outputs": [],
      "execution_count": null
    },
    {
      "cell_type": "markdown",
      "metadata": {},
      "source": [
        "### Exercise\n",
        "Use the spectral factorization above to compute the matrix square root $A^{1/2}$ of $A$. Verify the matrix square root is correct by squaring it.  "
      ]
    },
    {
      "cell_type": "markdown",
      "metadata": {},
      "source": [
        "## Solving large sparse eigenvalue problems\n",
        "For large sparse symmetric positive definite matrices (which often show up in applications), it is usually intractable to compute all of the eigenvectors and eigenvalues, and in fact, we are usually only interested in the $k$ top eigenvectors, which are those with the largest eigenvalues (or sometimes the smallest). For this, we can use the `scipy.sparse.eigs` and `scipy.sparse.eigsh` commands (the latter is again for symmetric matrices). These methods employ iterative indirect solvers, like the power method and QR method introduced in the book in Section 5.6."
      ]
    },
    {
      "cell_type": "code",
      "metadata": {},
      "source": [
        "from scipy import sparse\n",
        "\n",
        "n = 1000\n",
        "o = np.ones(n)\n",
        "A = sparse.diags(4*o) - sparse.diags(o[1:],1) - sparse.diags(o[1:],-1)\n",
        "\n",
        "vals,vecs = sparse.linalg.eigsh(A, k=10, which='SM') #find k=10 smallest eigenvalues\n",
        "\n",
        "print('Eigenvalues=',vals)"
      ],
      "outputs": [],
      "execution_count": null
    },
    {
      "cell_type": "markdown",
      "metadata": {},
      "source": [
        "### Exercises\n",
        "\n",
        "1. Approximate the solution of the large sparse linear system above using a truncated eigenvector decomposition. That is, approximate the inverse matrix by $Q_k\\Lambda_k^{-1}Q_k^T$, where we use only the first $k=100$ eigenvectors (in this case use the smallest). Compare your results to the conjugate gradient method. This exercise is related to the truncated singular value decomposition (SVD) of a matrix, which is the best low rank approximation of a matrix, as discussed in Section 8.2 of the textbook.\n",
        "2. Use `numpy.random.randn` to construct a moderately sized rectangular matrix $X$. Compute the singular value decomposition (SVD) of $X$ by using the code above to find the eigenvector decomposition of $A=X^TX$. Compare your results to `np.linalg.svd`. SVD is the subject of Chapter 5 in the textbook.\n",
        "3. Repeat exercise 2 with a large sparse matrix $X$ and use `scipy.sparse.eigsh` instead, comparing to `scipy.sparse.svds`. One possible choice for $X$ is the $(n-1)\\times n$ matrix with $x_{i,i-1}=-1$, $x_{i,i+1}=1$, and all other entries zero. "
      ]
    }
  ],
  "metadata": {
    "anaconda-cloud": {},
    "kernelspec": {
      "display_name": "Python 3",
      "language": "python",
      "name": "python3"
    },
    "language_info": {
      "codemirror_mode": {
        "name": "ipython",
        "version": 3
      },
      "file_extension": ".py",
      "mimetype": "text/x-python",
      "name": "python",
      "nbconvert_exporter": "python",
      "pygments_lexer": "ipython3",
      "version": "3.6.1"
    }
  },
  "nbformat": 4,
  "nbformat_minor": 4
}