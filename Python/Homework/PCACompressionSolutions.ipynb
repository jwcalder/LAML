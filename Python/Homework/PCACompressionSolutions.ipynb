{
  "cells": [
    {
      "cell_type": "code",
      "metadata": {},
      "source": [
        "pip install graphlearning"
      ],
      "outputs": [],
      "execution_count": null
    },
    {
      "cell_type": "code",
      "metadata": {},
      "source": [
        "from scipy import sparse\n",
        "import numpy as np\n",
        "from scipy import linalg\n",
        "import matplotlib.pyplot as plt\n",
        "import graphlearning as gl\n",
        "\n",
        "img = gl.datasets.load_image('chairtoy')\n",
        "X = np.hstack((img[:,:,0],img[:,:,1],img[:,:,2]))\n",
        "\n",
        "#How many singular vectors to compute\n",
        "num_eig = 100\n",
        "\n",
        "#SVD (order of singular values not guaranteed so we have to sort)\n",
        "P,S,QT = sparse.linalg.svds(X,k=num_eig)\n",
        "ind = np.argsort(-S)\n",
        "Q = QT[ind,:].T #Scipy returns the SVD transposed\n",
        "S = S[ind]\n",
        "\n",
        "#SVD block-wise\n",
        "m = 8\n",
        "X = gl.utils.image_to_patches(img,patch_size=(m,m))\n",
        "Vals, Q = np.linalg.eigh(X.T@X)\n",
        "Vals = Vals[::-1]\n",
        "\n",
        "plt.plot(S, label='rowwise')\n",
        "plt.plot(np.sqrt(Vals)[:100], label='blockwise')\n",
        "plt.yscale('log')\n",
        "plt.legend()\n",
        "plt.title('Singular Values')"
      ],
      "outputs": [],
      "execution_count": null
    }
  ],
  "metadata": {
    "anaconda-cloud": {},
    "kernelspec": {
      "display_name": "Python 3",
      "language": "python",
      "name": "python3"
    },
    "language_info": {
      "codemirror_mode": {
        "name": "ipython",
        "version": 3
      },
      "file_extension": ".py",
      "mimetype": "text/x-python",
      "name": "python",
      "nbconvert_exporter": "python",
      "pygments_lexer": "ipython3",
      "version": "3.6.1"
    }
  },
  "nbformat": 4,
  "nbformat_minor": 4
}