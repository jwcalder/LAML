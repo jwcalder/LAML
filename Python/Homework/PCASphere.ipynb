{
  "cells": [
    {
      "cell_type": "code",
      "metadata": {},
      "source": [
        "import numpy as np\n",
        "\n",
        "#Draw uniformly sampled points on unit sphere\n",
        "n = 50000\n",
        "Y = 2*np.random.rand(n,3)-1\n",
        "norms = np.linalg.norm(Y,axis=1)\n",
        "inds = norms <= 1\n",
        "X = Y[inds,:]\n",
        "X = X/norms[inds,None]\n",
        "\n",
        "mu = 0.95 #Fraction of variance to capture\n",
        "\n",
        "#Find points close to north pole\n",
        "#Need r <= 1 to see the 2-dimensional nature of the sphere\n",
        "for r in np.arange(2,0.1,-0.1):\n",
        "    Y = X - [0,0,1]\n",
        "    norms = np.linalg.norm(Y,axis=1)\n",
        "    Z = X[norms <= r,:]\n",
        "\n",
        "    #PCA\n",
        "    Zc = Z - np.mean(Z,axis=0)\n",
        "    vals,vecs = np.linalg.eigh(Zc.T@Zc)\n",
        "    trace = np.sum(vals)\n",
        "    var_capt = np.array([vals[2]/trace, (vals[1] + vals[2])/trace])\n",
        "    dim = 3\n",
        "    if var_capt[1] > 0.95:\n",
        "        dim = 2\n",
        "    if var_capt[0] > 0.95:\n",
        "        dim = 1\n",
        "    print('\\nRadius = ',r)\n",
        "    print('Variance Captured = ', var_capt)\n",
        "    print('PCA Dimension = ', dim)\n"
      ],
      "outputs": [],
      "execution_count": null
    }
  ],
  "metadata": {
    "anaconda-cloud": {},
    "kernelspec": {
      "display_name": "Python 3",
      "language": "python",
      "name": "python3"
    },
    "language_info": {
      "codemirror_mode": {
        "name": "ipython",
        "version": 3
      },
      "file_extension": ".py",
      "mimetype": "text/x-python",
      "name": "python",
      "nbconvert_exporter": "python",
      "pygments_lexer": "ipython3",
      "version": "3.6.1"
    }
  },
  "nbformat": 4,
  "nbformat_minor": 4
}