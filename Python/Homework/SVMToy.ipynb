{
  "cells": [
    {
      "cell_type": "markdown",
      "metadata": {},
      "source": [
        "# Support Vector Machines Homework (toy problem)\n",
        "\n",
        "This notebook solves Exercise 3.3 in Chapter 7."
      ]
    },
    {
      "cell_type": "code",
      "metadata": {},
      "source": [
        "from sklearn.svm import SVC\n",
        "from sklearn import datasets\n",
        "import numpy as np\n",
        "\n",
        "X = np.array([[0,0,0],\n",
        "              [1,-1,1],\n",
        "              [0,1,1],\n",
        "              [2,-2,3]])\n",
        "y = np.array([0,1,0,1])\n",
        "clf = SVC(kernel='linear')\n",
        "clf.fit(X,y)\n",
        "\n",
        "#Print the solution\n",
        "w = clf.coef_.flatten()\n",
        "b = -clf.intercept_\n",
        "print('w=',w)\n",
        "print('b=',b)\n",
        "print('Classification function: ',X@w-b)"
      ],
      "outputs": [],
      "execution_count": null
    }
  ],
  "metadata": {
    "anaconda-cloud": {},
    "kernelspec": {
      "display_name": "Python 3",
      "language": "python",
      "name": "python3"
    },
    "language_info": {
      "codemirror_mode": {
        "name": "ipython",
        "version": 3
      },
      "file_extension": ".py",
      "mimetype": "text/x-python",
      "name": "python",
      "nbconvert_exporter": "python",
      "pygments_lexer": "ipython3",
      "version": "3.6.1"
    }
  },
  "nbformat": 4,
  "nbformat_minor": 4
}