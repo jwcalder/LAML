{
  "cells": [
    {
      "cell_type": "code",
      "metadata": {},
      "source": [
        "pip install graphlearning"
      ],
      "outputs": [],
      "execution_count": null
    },
    {
      "cell_type": "code",
      "metadata": {},
      "source": [
        "import graphlearning as gl\n",
        "import numpy as np\n",
        "import matplotlib.pyplot as plt\n",
        "\n",
        "G = gl.datasets.load_graph('karate')\n",
        "#G = gl.datasets.load_graph('polbooks')\n",
        "L = G.labels\n",
        "d = G.degree_vector()[:,None]\n",
        "W = G.weight_matrix.toarray()\n",
        "print(type(W))\n",
        "M = W - d@d.T/np.sum(d)\n",
        "\n",
        "#Power iteration\n",
        "#Shift M to make positive semidefinite\n",
        "c = np.sqrt(np.sum(W**2)) + np.sum(d**2)/np.sum(d)\n",
        "A = M + c*np.eye(G.num_nodes)\n",
        "v = np.random.randn(G.num_nodes)\n",
        "for i in range(100):\n",
        "    w = A@v\n",
        "    v = w/np.linalg.norm(w)\n",
        "\n",
        "if v[0] < 0:\n",
        "    v = -v\n",
        "print('True Labels        ',L)\n",
        "print('Spectral Clustering',(v < 0).astype(int))\n",
        "\n",
        "ind = np.argsort(v)\n",
        "plt.figure()\n",
        "plt.scatter(range(G.num_nodes),v[ind],c=L[ind])\n",
        "plt.ylabel('Modularity vector value')\n",
        "plt.xlabel('Sorted member number')"
      ],
      "outputs": [],
      "execution_count": null
    }
  ],
  "metadata": {
    "anaconda-cloud": {},
    "kernelspec": {
      "display_name": "Python 3",
      "language": "python",
      "name": "python3"
    },
    "language_info": {
      "codemirror_mode": {
        "name": "ipython",
        "version": 3
      },
      "file_extension": ".py",
      "mimetype": "text/x-python",
      "name": "python",
      "nbconvert_exporter": "python",
      "pygments_lexer": "ipython3",
      "version": "3.6.1"
    }
  },
  "nbformat": 4,
  "nbformat_minor": 4
}