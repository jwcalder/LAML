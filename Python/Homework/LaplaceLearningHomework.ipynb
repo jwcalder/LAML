{
  "cells": [
    {
      "cell_type": "markdown",
      "metadata": {},
      "source": [
        "#Solutions to Laplace Learning Homework Exercise"
      ]
    },
    {
      "cell_type": "code",
      "metadata": {},
      "source": [
        "pip install -q graphlearning annoy"
      ],
      "outputs": [],
      "execution_count": null
    },
    {
      "cell_type": "code",
      "metadata": {},
      "source": [
        "import graphlearning as gl\n",
        "import numpy as np\n",
        "from scipy import sparse\n",
        "\n",
        "def spectral_laplace_learning(G,train_ind,train_labels,lam=0.1,k=20):\n",
        "\n",
        "    n = G.num_nodes\n",
        "    z = train_labels.copy()\n",
        "    z[train_labels == 0] = -1\n",
        "    y = np.zeros(n)\n",
        "    y[train_ind] = z\n",
        "\n",
        "    b = np.zeros(n)\n",
        "    b[train_ind] = 1\n",
        "    B = sparse.diags(b)\n",
        "    M = B + lam*G.laplacian()\n",
        "\n",
        "    vals,P = sparse.linalg.eigsh(M,k=k,which='SM')\n",
        "    u = P@(np.diag(1/vals)@(P.T@(B@y)))\n",
        "\n",
        "    return u > 0"
      ],
      "outputs": [],
      "execution_count": null
    },
    {
      "cell_type": "markdown",
      "metadata": {},
      "source": [
        "We first consider the two-moons data set. The red stars are the locations of the labeled nodes. See how well you can do with one label per moon."
      ]
    },
    {
      "cell_type": "code",
      "metadata": {},
      "source": [
        "import numpy as np\n",
        "import graphlearning as gl\n",
        "import matplotlib.pyplot as plt\n",
        "import sklearn.datasets as datasets\n",
        "\n",
        "#Draw data randomly and build a k-nearest neighbor graph with k=10 neighbors\n",
        "n = 500\n",
        "X,labels = datasets.make_moons(n_samples=n,noise=0.1)\n",
        "#X,labels = datasets.make_circles(n_samples=n,noise=0.1,factor=0.3)\n",
        "W = gl.weightmatrix.knn(X,10)\n",
        "G = gl.graph(W)\n",
        "\n",
        "#Generate training data\n",
        "train_ind = gl.trainsets.generate(labels, rate=3)\n",
        "train_labels = labels[train_ind]\n",
        "\n",
        "#Poisson Learning\n",
        "pred_labels = spectral_laplace_learning(G,train_ind,train_labels)\n",
        "\n",
        "#Compute accuracy\n",
        "accuracy = gl.ssl.ssl_accuracy(pred_labels, labels, train_ind)\n",
        "print(\"Accuracy: %.2f%%\"%accuracy)\n",
        "\n",
        "#Make plots\n",
        "plt.figure()\n",
        "plt.scatter(X[:,0],X[:,1], c=pred_labels)\n",
        "plt.scatter(X[train_ind,0],X[train_ind,1], c='r', marker='*', s=100)\n",
        "plt.show()"
      ],
      "outputs": [],
      "execution_count": null
    },
    {
      "cell_type": "markdown",
      "metadata": {},
      "source": [
        "We can now run an experiment classifying MNIST digits. We first load the dataset and display some images."
      ]
    },
    {
      "cell_type": "code",
      "metadata": {},
      "source": [
        "import graphlearning as gl\n",
        "\n",
        "#Load MNIST data\n",
        "labels = gl.datasets.load('mnist', labels_only=True)\n",
        "W = gl.weightmatrix.knn('mnist',10)\n",
        "G = gl.graph(W)\n",
        "labels = (labels <= 4).astype(int) #Binary 0--4 vs 5--9\n",
        "\n",
        "#Generate training data\n",
        "train_ind = gl.trainsets.generate(labels, rate=100)\n",
        "train_labels = labels[train_ind]\n",
        "\n",
        "#Poisson Learning\n",
        "pred_labels = spectral_laplace_learning(G,train_ind,train_labels)\n",
        "\n",
        "#Compute accuracy\n",
        "accuracy = gl.ssl.ssl_accuracy(pred_labels, labels, train_ind)\n",
        "print(\"Accuracy: %.2f%%\"%accuracy)"
      ],
      "outputs": [],
      "execution_count": null
    }
  ],
  "metadata": {
    "anaconda-cloud": {},
    "kernelspec": {
      "display_name": "Python 3",
      "language": "python",
      "name": "python3"
    },
    "language_info": {
      "codemirror_mode": {
        "name": "ipython",
        "version": 3
      },
      "file_extension": ".py",
      "mimetype": "text/x-python",
      "name": "python",
      "nbconvert_exporter": "python",
      "pygments_lexer": "ipython3",
      "version": "3.6.1"
    }
  },
  "nbformat": 4,
  "nbformat_minor": 4
}