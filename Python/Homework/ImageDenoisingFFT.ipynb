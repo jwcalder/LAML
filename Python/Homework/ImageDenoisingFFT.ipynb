{
  "cells": [
    {
      "cell_type": "markdown",
      "metadata": {},
      "source": [
        "#Image Denoising with the FFT Exercise\n",
        "\n",
        "This code solves the image denoising with FFT exercise."
      ]
    },
    {
      "cell_type": "code",
      "metadata": {},
      "source": [
        "pip install -q graphlearning"
      ],
      "outputs": [],
      "execution_count": null
    },
    {
      "cell_type": "code",
      "metadata": {},
      "source": [
        "import matplotlib.pyplot as plt\n",
        "import graphlearning as gl\n",
        "\n",
        "img = gl.datasets.load_image('chairtoy')\n",
        "img = 0.2126*img[:,:,0] + 0.7152*img[:,:,1] + 0.0722*img[:,:,2] #convert to grayscale\n",
        "plt.imshow(img,cmap='gray')\n",
        "\n",
        "#Check data range and shape\n",
        "print('Pixel intensity range: (%f,%f)'%(img.min(),img.max()))\n",
        "print(img.shape)"
      ],
      "outputs": [],
      "execution_count": null
    },
    {
      "cell_type": "markdown",
      "metadata": {},
      "source": [
        "Let's now add some noise to the image."
      ]
    },
    {
      "cell_type": "code",
      "metadata": {},
      "source": [
        "import numpy as np\n",
        "\n",
        "f_noisy = img + 0.1*np.random.randn(img.shape[0],img.shape[1])\n",
        "\n",
        "plt.figure(figsize=(10,10))\n",
        "plt.imshow(f_noisy,cmap='gray',vmin=0,vmax=1)"
      ],
      "outputs": [],
      "execution_count": null
    },
    {
      "cell_type": "markdown",
      "metadata": {},
      "source": [
        "Let's define the functions for Tikhonov and Total Variation Denoising."
      ]
    },
    {
      "cell_type": "code",
      "metadata": {},
      "source": [
        "from scipy.fft import ifft2\n",
        "from scipy.fft import fft2\n",
        "\n",
        "def even_ext(f):\n",
        "    \"\"\"Even extension of an image f\n",
        "\n",
        "    Args:\n",
        "        f: Size nxm numpy array for image\n",
        "\n",
        "    Returns:\n",
        "        Numpy array of length 2(n-1)x2(m-1) containing even extension\n",
        "    \"\"\"\n",
        "    g = np.hstack((f,f[:,-1:1:-1]))\n",
        "    return np.vstack((g,g[-1:1:-1,:]))\n",
        "\n",
        "def tikhonov_denoising(f,lam):\n",
        "    \"\"\"Tikhonov regularized image denoising\n",
        "\n",
        "    Args:\n",
        "        f: Noisy image (numpy array)\n",
        "        lam: Regularization parameter\n",
        "\n",
        "    Returns:\n",
        "        Denoised image\n",
        "    \"\"\"\n",
        "\n",
        "    fn = even_ext(f)\n",
        "    n = fn.shape[0]\n",
        "    k1 = np.zeros((n,n), dtype=int)+np.arange(n, dtype=int)\n",
        "    k2 = k1.T\n",
        "    G = 1/(1 + 4*lam - 2*lam*(np.cos(2*np.pi*k1/n) + np.cos(2*np.pi*k2/n)))\n",
        "    fd = ifft2(G*fft2(fn)).real\n",
        "    return fd[:f.shape[0],:f.shape[1]]\n",
        "\n",
        "plt.figure(figsize=(10,10))\n",
        "plt.imshow(even_ext(img),cmap='gray',vmin=0,vmax=1)\n",
        "plt.title('Even Extension of an Image')"
      ],
      "outputs": [],
      "execution_count": null
    },
    {
      "cell_type": "markdown",
      "metadata": {},
      "source": [
        "Let's now run an experiment comparing Tikhonov to TV denoising."
      ]
    },
    {
      "cell_type": "code",
      "metadata": {},
      "source": [
        "f_tik = tikhonov_denoising(f_noisy,2)\n",
        "\n",
        "plt.figure(figsize=(20,30))\n",
        "plt.imshow(np.hstack((f_noisy,f_tik)),cmap='gray',vmin=0,vmax=1)"
      ],
      "outputs": [],
      "execution_count": null
    }
  ],
  "metadata": {
    "anaconda-cloud": {},
    "kernelspec": {
      "display_name": "Python 3",
      "language": "python",
      "name": "python3"
    },
    "language_info": {
      "codemirror_mode": {
        "name": "ipython",
        "version": 3
      },
      "file_extension": ".py",
      "mimetype": "text/x-python",
      "name": "python",
      "nbconvert_exporter": "python",
      "pygments_lexer": "ipython3",
      "version": "3.6.1"
    }
  },
  "nbformat": 4,
  "nbformat_minor": 4
}