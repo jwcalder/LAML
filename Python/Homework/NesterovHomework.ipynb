{
  "cells": [
    {
      "cell_type": "markdown",
      "metadata": {},
      "source": [
        "#Momentum Descent\n",
        "\n",
        "This notebook gives an introduction to he heavy ball method.\n",
        "\n",
        "First define the function you wish to minimize, and its gradient"
      ]
    },
    {
      "cell_type": "code",
      "metadata": {},
      "source": [
        "def f(x):\n",
        "    return x[0]**4 + x[1]**2\n",
        "\n",
        "def grad_f(x):\n",
        "    return np.array([4*x[0]**3,2*x[1]])"
      ],
      "outputs": [],
      "execution_count": null
    },
    {
      "cell_type": "markdown",
      "metadata": {},
      "source": [
        "The function we defined is\n",
        "$$f(x,y) = x^4 + y^2,$$\n",
        "whose gradient is\n",
        "$$\\nabla f(x,y) = (4x^3,2y).$$\n",
        "This is convex, but not strongly convex, function with minimizer at $(0,0)$"
      ]
    },
    {
      "cell_type": "code",
      "metadata": {},
      "source": [
        "import numpy as np\n",
        "\n",
        "x_gd = np.array([1.,1.])  #initial condition\n",
        "x_hb = np.array([1.,1.])  #initial condition\n",
        "y_ns = np.array([1.,1.])  #initial condition\n",
        "x_ns = np.array([1.,1.])  #initial condition\n",
        "x_hb_prev = x_hb\n",
        "num_steps = 20\n",
        "alpha = 0.05\n",
        "beta = 0.7\n",
        "\n",
        "f_vals_gd = np.zeros(num_steps)\n",
        "f_vals_hb = np.zeros(num_steps)\n",
        "f_vals_ns = np.zeros(num_steps)\n",
        "\n",
        "l = 0\n",
        "for i in range(num_steps):\n",
        "    #Gradient descent update\n",
        "    x_gd -= alpha*grad_f(x_gd)\n",
        "    f_vals_gd[i] = f(x_gd)\n",
        "\n",
        "    #Heavyball update\n",
        "    x_temp = x_hb.copy()\n",
        "    x_hb = x_hb - alpha*grad_f(x_hb) + beta*(x_hb - x_hb_prev)\n",
        "    x_hb_prev = x_temp\n",
        "    f_vals_hb[i] = f(x_hb)\n",
        "\n",
        "    #Nesterov update\n",
        "    l = (1 + np.sqrt(1 + 4*l**2))/2\n",
        "    lnext = (1 + np.sqrt(1 + 4*l**2))/2\n",
        "    ynext = x_ns - alpha*grad_f(x_ns)\n",
        "    x_ns = ynext + ((l-1)/lnext)*(ynext - y_ns)   #Original Nesterov\n",
        "    #x_ns = ynext + ((i-1)/(i+2))*(ynext - y_ns)  #Alternative Nesterov\n",
        "    y_ns = ynext\n",
        "    f_vals_ns[i] = f(y_ns)"
      ],
      "outputs": [],
      "execution_count": null
    },
    {
      "cell_type": "markdown",
      "metadata": {},
      "source": [
        "To see if/how it worked, let's plot the energy and distance to the minimizer over each step of gradient descent."
      ]
    },
    {
      "cell_type": "code",
      "metadata": {},
      "source": [
        "import matplotlib.pyplot as plt\n",
        "\n",
        "plt.plot(f_vals_gd, label='Gradient Descent')\n",
        "plt.plot(f_vals_hb, label='Heavy Ball')\n",
        "plt.plot(f_vals_ns, label='Nesterov')\n",
        "plt.xlabel('Number of steps (k)', fontsize=16)\n",
        "plt.legend(fontsize=16)"
      ],
      "outputs": [],
      "execution_count": null
    },
    {
      "cell_type": "markdown",
      "metadata": {},
      "source": [
        "In order to see a convergence rate, we should plot on a log scale."
      ]
    },
    {
      "cell_type": "code",
      "metadata": {},
      "source": [
        "plt.figure(figsize=(10,10))\n",
        "plt.plot(f_vals_gd, label='Gradient Descent')\n",
        "plt.plot(f_vals_hb, label='Heavy Ball')\n",
        "plt.plot(f_vals_ns, label='Nesterov')\n",
        "plt.yscale('log')\n",
        "plt.xlabel('Number of steps', fontsize=16)\n",
        "plt.ylabel('f(x_t) - f(x_*)')\n",
        "plt.legend(fontsize=16)"
      ],
      "outputs": [],
      "execution_count": null
    }
  ],
  "metadata": {
    "anaconda-cloud": {},
    "kernelspec": {
      "display_name": "Python 3",
      "language": "python",
      "name": "python3"
    },
    "language_info": {
      "codemirror_mode": {
        "name": "ipython",
        "version": 3
      },
      "file_extension": ".py",
      "mimetype": "text/x-python",
      "name": "python",
      "nbconvert_exporter": "python",
      "pygments_lexer": "ipython3",
      "version": "3.6.1"
    }
  },
  "nbformat": 4,
  "nbformat_minor": 4
}