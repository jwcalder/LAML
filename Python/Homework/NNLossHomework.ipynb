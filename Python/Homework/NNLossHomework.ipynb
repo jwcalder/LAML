{
  "cells": [
    {
      "cell_type": "markdown",
      "metadata": {},
      "source": [
        "# Modified Loss Homework"
      ]
    },
    {
      "cell_type": "code",
      "metadata": {},
      "source": [
        "pip install -q graphlearning"
      ],
      "outputs": [],
      "execution_count": null
    },
    {
      "cell_type": "code",
      "metadata": {},
      "source": [
        "import graphlearning as gl\n",
        "import torch\n",
        "import torch.nn as nn\n",
        "import torch.nn.functional as F\n",
        "import numpy as np\n",
        "import torch.optim as optim\n",
        "\n",
        "def new_loss(x,y,p=2):\n",
        "    a = torch.arange(x.shape[0])\n",
        "    norms = torch.linalg.norm(x,dim=1,ord=p)\n",
        "    loss = -torch.mean(x[a,y]/norms)\n",
        "    return loss\n",
        "\n",
        "class ClassifyNet(nn.Module):\n",
        "    def __init__(self, num_in, num_hidden, num_out):\n",
        "        super(ClassifyNet, self).__init__()\n",
        "        self.fc1 = nn.Linear(num_in,num_hidden)\n",
        "        self.fc2 = nn.Linear(num_hidden,num_out)\n",
        "\n",
        "    def forward(self, x):\n",
        "        return self.fc2(F.relu(self.fc1(x)))\n",
        "\n",
        "#Load MNIST data\n",
        "x,y = gl.datasets.load('mnist')\n",
        "\n",
        "num_hidden = 64\n",
        "batch_size = 480\n",
        "\n",
        "#GPU\n",
        "cuda = True\n",
        "use_cuda = cuda and torch.cuda.is_available()\n",
        "device = torch.device(\"cuda\" if use_cuda else \"cpu\")\n",
        "\n",
        "#Training data (select at random from first 600000)\n",
        "train_size = 60000\n",
        "train_ind = np.random.permutation(60000)[:train_size]\n",
        "\n",
        "#Convert data to torch and device\n",
        "data_train = torch.from_numpy(x[train_ind,:]).float().to(device)\n",
        "target_train = torch.from_numpy(y[train_ind]).long().to(device)\n",
        "data_test = torch.from_numpy(x[60000:,:]).float().to(device)\n",
        "target_test = torch.from_numpy(y[60000:]).long().to(device)\n",
        "\n",
        "#Setup model and optimizer\n",
        "model = ClassifyNet(784,num_hidden,10).to(device)\n",
        "optimizer = optim.Adam(model.parameters(), lr=0.01)  #Learning rates\n",
        "\n",
        "#Training\n",
        "print('Iteration,Testing Accuracy,Training Accuracy')\n",
        "for i in range(20):\n",
        "\n",
        "    #Model evaluation\n",
        "    model.eval()\n",
        "    with torch.no_grad():\n",
        "        pred = torch.argmax(model(data_test),axis=1)\n",
        "        test_accuracy = torch.sum(pred == target_test)/len(pred)\n",
        "        pred = torch.argmax(model(data_train),axis=1)\n",
        "        train_accuracy = torch.sum(pred == target_train)/len(pred)\n",
        "        print(i,test_accuracy.item()*100,train_accuracy.item()*100)\n",
        "\n",
        "    #Training mode, run data through neural network in mini-batches (SGD)\n",
        "    model.train()\n",
        "    for j in range(0,len(target_train),batch_size):\n",
        "        optimizer.zero_grad()\n",
        "        loss = new_loss(model(data_train[j:j+batch_size,:]), target_train[j:j+batch_size],p=5)\n",
        "        loss.backward()\n",
        "        optimizer.step()"
      ],
      "outputs": [],
      "execution_count": null
    }
  ],
  "metadata": {
    "anaconda-cloud": {},
    "kernelspec": {
      "display_name": "Python 3",
      "language": "python",
      "name": "python3"
    },
    "language_info": {
      "codemirror_mode": {
        "name": "ipython",
        "version": 3
      },
      "file_extension": ".py",
      "mimetype": "text/x-python",
      "name": "python",
      "nbconvert_exporter": "python",
      "pygments_lexer": "ipython3",
      "version": "3.6.1"
    }
  },
  "nbformat": 4,
  "nbformat_minor": 4
}