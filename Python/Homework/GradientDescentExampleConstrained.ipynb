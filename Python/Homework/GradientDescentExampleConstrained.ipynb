{
  "cells": [
    {
      "cell_type": "markdown",
      "metadata": {},
      "source": [
        "#Gradient Descent Homework Example Solutions"
      ]
    },
    {
      "cell_type": "code",
      "metadata": {},
      "source": [
        "import numpy as np\n",
        "import matplotlib.pyplot as plt\n",
        "\n",
        "def cons_grad_desc(f,grad_f,min_f,x0,num_steps=100,alpha=0.2,title='Gradient Descent'):\n",
        "    x = np.array(x0).astype(float)  #initial condition\n",
        "\n",
        "    B = np.array([[1,-1],[-1,1]])\n",
        "    f_vals = np.zeros(num_steps)\n",
        "    for i in range(num_steps):\n",
        "        x -= alpha*B@grad_f(x)\n",
        "        f_vals[i] = f(x) - min_f\n",
        "\n",
        "    print('Output of gradient descent=',x)\n",
        "\n",
        "    plt.figure()\n",
        "    plt.plot(f_vals, label='f(x_k)')\n",
        "    plt.yscale('log')\n",
        "    plt.xlabel('Number of steps', fontsize=16)\n",
        "    plt.legend(fontsize=16)\n",
        "    plt.title(title)\n",
        "\n",
        "    k = np.arange(len(f_vals))\n",
        "    m,b = np.polyfit(k,np.log(f_vals),1)\n",
        "    mu = np.exp(m)\n",
        "    plt.title(title)\n",
        "    print('Convergence rate for f(x_k) (mu) = ', mu)"
      ],
      "outputs": [],
      "execution_count": null
    },
    {
      "cell_type": "code",
      "metadata": {},
      "source": [
        "def f1(x):\n",
        "    return x[0]**2 + 2*x[1]**2\n",
        "\n",
        "def grad_f1(x):\n",
        "    return np.array([2*x[0], 4*x[1]])\n",
        "\n",
        "def f2(x):\n",
        "    return x[0]**2 + 10*x[1]**2\n",
        "\n",
        "def grad_f2(x):\n",
        "    return np.array([2*x[0], 20*x[1]])\n",
        "\n",
        "def f3(x):\n",
        "    return np.sin(x[0])*np.sin(x[1])\n",
        "\n",
        "def grad_f3(x):\n",
        "    return np.array([np.cos(x[0])*np.sin(x[1]), np.sin(x[0])*np.cos(x[1])])"
      ],
      "outputs": [],
      "execution_count": null
    },
    {
      "cell_type": "code",
      "metadata": {},
      "source": [
        "cons_grad_desc(f1,grad_f1,f1([4*np.pi/3,2*np.pi/3]),[0,2*np.pi],num_steps=20,alpha=0.25,title='f1')\n",
        "cons_grad_desc(f2,grad_f2,f2([20*np.pi/11,2*np.pi/11]),[0,2*np.pi],num_steps=20,alpha=0.02,title='f2')\n",
        "cons_grad_desc(f3,grad_f3,-1,[1,2*np.pi-1],num_steps=20,alpha=0.25,title='f3')\n",
        "\n",
        "\n"
      ],
      "outputs": [],
      "execution_count": null
    }
  ],
  "metadata": {
    "anaconda-cloud": {},
    "kernelspec": {
      "display_name": "Python 3",
      "language": "python",
      "name": "python3"
    },
    "language_info": {
      "codemirror_mode": {
        "name": "ipython",
        "version": 3
      },
      "file_extension": ".py",
      "mimetype": "text/x-python",
      "name": "python",
      "nbconvert_exporter": "python",
      "pygments_lexer": "ipython3",
      "version": "3.6.1"
    }
  },
  "nbformat": 4,
  "nbformat_minor": 4
}