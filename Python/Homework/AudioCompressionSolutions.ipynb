{
  "cells": [
    {
      "cell_type": "markdown",
      "metadata": {},
      "source": [
        "#PCA-based Audio Compression Solutions\n",
        "\n",
        "Let's download an audio file. You can use anything you like; there is a file with classical music availble on the course website."
      ]
    },
    {
      "cell_type": "code",
      "metadata": {},
      "source": [
        "import urllib.request\n",
        "\n",
        "urllib.request.urlretrieve('https://github.com/jwcalder/LAML/raw/refs/heads/main/Python/Data/classical.mp3','classical.mp3')"
      ],
      "outputs": [],
      "execution_count": null
    },
    {
      "cell_type": "markdown",
      "metadata": {},
      "source": [
        "Let's convert the mp3 to wav and load into Python."
      ]
    },
    {
      "cell_type": "code",
      "metadata": {},
      "source": [
        "pip install ffmpeg-python"
      ],
      "outputs": [],
      "execution_count": null
    },
    {
      "cell_type": "code",
      "metadata": {},
      "source": [
        "from scipy.io import wavfile\n",
        "import ffmpeg\n",
        "\n",
        "ffmpeg.input('classical.mp3').output('classical.wav').run()\n",
        "fs, data = wavfile.read('classical.wav')\n",
        "data = data.T\n",
        "print(fs)\n",
        "data.shape"
      ],
      "outputs": [],
      "execution_count": null
    },
    {
      "cell_type": "markdown",
      "metadata": {},
      "source": [
        "Let's also play the audio file."
      ]
    },
    {
      "cell_type": "code",
      "metadata": {},
      "source": [
        "from IPython.display import Audio\n",
        "\n",
        "Audio(data,rate=fs,autoplay=True)"
      ],
      "outputs": [],
      "execution_count": null
    },
    {
      "cell_type": "markdown",
      "metadata": {},
      "source": [
        "As in the case of image compression, we'll use the image_to_patches and patches_to_image functions to convert the audio signal into short segments."
      ]
    },
    {
      "cell_type": "code",
      "metadata": {},
      "source": [
        "import numpy as np\n",
        "\n",
        "def image_to_patches(I,patch_size=(16,16)):\n",
        "    \"\"\"\"\n",
        "    Converts an image into an array of patches\n",
        "\n",
        "    Args:\n",
        "        I: Image as numpy array\n",
        "        patch_size: tuple giving size of patches to use\n",
        "\n",
        "    Returns:\n",
        "        Numpy array of size num_patches x num_pixels_per_patch\n",
        "    \"\"\"\n",
        "\n",
        "    #Compute number of patches and enlarge image if necessary\n",
        "    num_patches = (np.ceil(np.array(I.shape)/np.array(patch_size))).astype(int)\n",
        "    image_size = num_patches*patch_size\n",
        "    J = np.zeros(tuple(image_size.astype(int)))\n",
        "    J[:I.shape[0],:I.shape[1]]=I\n",
        "\n",
        "    patches = np.zeros((num_patches[0]*num_patches[1],patch_size[0]*patch_size[1]))\n",
        "    p = 0\n",
        "    for i in range(int(num_patches[0])):\n",
        "        for j in range(int(num_patches[1])):\n",
        "            patches[p,:] = J[patch_size[0]*i:patch_size[0]*(i+1),patch_size[1]*j:patch_size[1]*(j+1)].flatten()\n",
        "            p+=1\n",
        "\n",
        "    return patches\n",
        "\n",
        "def patches_to_image(patches,image_shape,patch_size=(16,16)):\n",
        "    \"\"\"\"\n",
        "    Converts an array of patches back into an image\n",
        "\n",
        "    Args:\n",
        "        patches: Array of patches, same as output of image_to_patches\n",
        "        image_shape: tuple giving the size of the image to return (e.g. I.shape)\n",
        "        patch_size: tuple giving size of patches\n",
        "\n",
        "    Returns:\n",
        "        Image as a numpy array\n",
        "    \"\"\"\n",
        "\n",
        "    #Compute number of patches and enlarge image if necessary\n",
        "    num_patches = (np.ceil(np.array(image_shape)/np.array(patch_size))).astype(int)\n",
        "    image_size = num_patches*np.array(patch_size)\n",
        "\n",
        "    I = np.zeros(tuple(image_size.astype(int)))\n",
        "    p = 0\n",
        "    for i in range(num_patches[0]):\n",
        "        for j in range(num_patches[1]):\n",
        "            I[patch_size[0]*i:patch_size[0]*(i+1),patch_size[1]*j:patch_size[1]*(j+1)] = np.reshape(patches[p,:],patch_size)\n",
        "            p+=1\n",
        "\n",
        "    return I[:image_shape[0],:image_shape[1]]"
      ],
      "outputs": [],
      "execution_count": null
    },
    {
      "cell_type": "markdown",
      "metadata": {},
      "source": [
        "Let's convert the audio file into an array of patches. Use a patch size of (n,2), since there are only 2 channels. You can vary n, a lenght 100 or so patch size gives good results."
      ]
    },
    {
      "cell_type": "code",
      "metadata": {},
      "source": [
        "psize = (2,64)\n",
        "X = image_to_patches(data,patch_size=psize)\n",
        "\n",
        "print(X.shape)"
      ],
      "outputs": [],
      "execution_count": null
    },
    {
      "cell_type": "markdown",
      "metadata": {},
      "source": [
        "Let's run PCA on the patches. Let the number of components be a variable that you can play around with."
      ]
    },
    {
      "cell_type": "code",
      "metadata": {},
      "source": [
        "from scipy.sparse import linalg\n",
        "import numpy as np\n",
        "\n",
        "#Number of principal components to use\n",
        "num_comps = 16\n",
        "\n",
        "#Compute the principal components\n",
        "Vals, V = linalg.eigs(X.T@X,k=num_comps,which='LM')\n",
        "V = V.real\n",
        "\n",
        "#Compress the audio by projecting to the linear subspace spanned by V\n",
        "X_compressed = X@V\n",
        "\n",
        "#Compute size of compressed audio and compression ratio\n",
        "compressed_size = X_compressed.size + V.size\n",
        "comp_ratio = data.size/compressed_size\n",
        "print('Compression ratio: %.1f:1'%comp_ratio)"
      ],
      "outputs": [],
      "execution_count": null
    },
    {
      "cell_type": "markdown",
      "metadata": {},
      "source": [
        "Let's now plot some of the principal components. They look suspiciously like sinusoids!"
      ]
    },
    {
      "cell_type": "code",
      "metadata": {},
      "source": [
        "import matplotlib.pyplot as plt\n",
        "\n",
        "for i in range(7):\n",
        "    plt.plot(np.arange(psize[1]),V[:psize[1],i])"
      ],
      "outputs": [],
      "execution_count": null
    },
    {
      "cell_type": "markdown",
      "metadata": {},
      "source": [
        "Let's now decompress the audio by changing coordinates back to the standard ones."
      ]
    },
    {
      "cell_type": "code",
      "metadata": {},
      "source": [
        "import numpy as np\n",
        "\n",
        "#Decompress audio\n",
        "X_decompressed = X_compressed@V.T\n",
        "data_decompressed = patches_to_image(X_decompressed,data.shape,patch_size=psize)"
      ],
      "outputs": [],
      "execution_count": null
    },
    {
      "cell_type": "markdown",
      "metadata": {},
      "source": [
        "It is difficult to measure the accuracy of the reconstructed audio file, since the real test is how it sounds to the human ear, and two audio signals can sound the same while appearing to be vastly different signals (since phase shifting a pure tone does not change the sound).\n",
        "\n",
        "So let's play the decompressed audio. How does it sound? What is the highest compression ratio you can achieve without audible noise?"
      ]
    },
    {
      "cell_type": "code",
      "metadata": {},
      "source": [
        "from IPython.display import Audio\n",
        "\n",
        "Audio(data_decompressed,rate=fs,autoplay=True)"
      ],
      "outputs": [],
      "execution_count": null
    },
    {
      "cell_type": "markdown",
      "metadata": {},
      "source": [
        "To improve the compression, use a windowing function on the patches, and use overlapping patches, as described in the project description."
      ]
    },
    {
      "cell_type": "code",
      "metadata": {},
      "source": [
        "from scipy.sparse import linalg\n",
        "import numpy as np\n",
        "\n",
        "#Patch size and shift signal\n",
        "psize = (2,256)\n",
        "N = int(psize[1]/2)\n",
        "datashift = data[:,N:]\n",
        "\n",
        "#Window function\n",
        "W = np.sin(np.pi*(np.arange(2*N)+0.5)/(2*N))**2\n",
        "W = np.vstack((W,W)).flatten() #For the two channels\n",
        "\n",
        "#Convert to paches and multiply by window function\n",
        "X = image_to_patches(data,patch_size=psize)\n",
        "Xshift = image_to_patches(datashift,patch_size=psize)\n",
        "\n",
        "#Number of principal components\n",
        "num_comps = int(psize[1]/8)\n",
        "\n",
        "#Compute the principal components\n",
        "Vals, V = linalg.eigs(X.T@X,k=num_comps,which='LM')\n",
        "V = V.real\n",
        "\n",
        "#Compress the audio by projecting to the linear subspace spanned by V\n",
        "X_compressed = X@V\n",
        "Xshift_compressed = Xshift@V\n",
        "\n",
        "#Compute size of compressed audio and compression ratio\n",
        "compressed_size = X_compressed.size + Xshift_compressed.size + V.size\n",
        "comp_ratio = data.size/compressed_size\n",
        "print('Compression ratio: %.1f:1'%comp_ratio)\n",
        "\n",
        "#Decompress audio and multiply by window function again\n",
        "X_decompressed = X_compressed@V.T*W\n",
        "Xshift_decompressed = Xshift_compressed@V.T*W\n",
        "data_decompressed = patches_to_image(X_decompressed,data.shape,patch_size=psize)\n",
        "datashift_decompressed = patches_to_image(Xshift_decompressed,datashift.shape,patch_size=psize)\n",
        "\n",
        "#Add data and datashit\n",
        "data_decompressed = data_decompressed[:,N:] + datashift_decompressed"
      ],
      "outputs": [],
      "execution_count": null
    },
    {
      "cell_type": "markdown",
      "metadata": {},
      "source": [
        "The noise problem should be mitigated to some degree, but you may still hear noise. Audio compression is a much different problem than image compression, and advanced audio compression algorithms use psychoacoustic modeling to discard only the information that is not audible to the human ear."
      ]
    },
    {
      "cell_type": "code",
      "metadata": {},
      "source": [
        "from IPython.display import Audio\n",
        "\n",
        "Audio(data_decompressed,rate=fs,autoplay=True)"
      ],
      "outputs": [],
      "execution_count": null
    }
  ],
  "metadata": {
    "anaconda-cloud": {},
    "kernelspec": {
      "display_name": "Python 3",
      "language": "python",
      "name": "python3"
    },
    "language_info": {
      "codemirror_mode": {
        "name": "ipython",
        "version": 3
      },
      "file_extension": ".py",
      "mimetype": "text/x-python",
      "name": "python",
      "nbconvert_exporter": "python",
      "pygments_lexer": "ipython3",
      "version": "3.6.1"
    }
  },
  "nbformat": 4,
  "nbformat_minor": 4
}