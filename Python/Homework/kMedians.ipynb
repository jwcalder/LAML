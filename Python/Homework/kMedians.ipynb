{
  "cells": [
    {
      "cell_type": "markdown",
      "metadata": {},
      "source": [
        "#k-Medians Clustering\n",
        "This notebook solves the k medians clustering homework problem."
      ]
    },
    {
      "cell_type": "code",
      "metadata": {},
      "source": [
        "import numpy as np\n",
        "import matplotlib.pyplot as plt\n",
        "\n",
        "def kmedians(X,k,visualize=False,T=200):\n",
        "    \"\"\"\n",
        "    k-medians Clustering\n",
        "\n",
        "    Args:\n",
        "        X: nxm array of data, each row is a datapoint\n",
        "        k: Number of clusters\n",
        "        visualize: Whether to plot internal iterations\n",
        "        T: Max number of iterations\n",
        "\n",
        "    Returns:\n",
        "        Numpy array of labels obtained by k-medians clustering\n",
        "    \"\"\"\n",
        "\n",
        "    #Number of data points\n",
        "    n = X.shape[0]\n",
        "\n",
        "    #Randomly choose initial cluster medians\n",
        "    medians = X[np.random.choice(n,size=k,replace=False),:]\n",
        "\n",
        "    #Initialize arrays for distances and labels\n",
        "    dist = np.zeros((k,n))\n",
        "    labels = np.zeros((n,))\n",
        "\n",
        "    #Main iteration for kmedians\n",
        "    num_changed = 1\n",
        "    i=0\n",
        "    while i < T and num_changed > 0:\n",
        "\n",
        "        #Update labels\n",
        "        old_labels = labels.copy()\n",
        "        for j in range(k):\n",
        "            dist[j,:] = np.sum(np.abs(X - medians[j,:]),axis=1)\n",
        "        labels = np.argmin(dist,axis=0)\n",
        "        num_changed = np.sum(labels != old_labels)\n",
        "\n",
        "        #Update medians\n",
        "        for j in range(k):\n",
        "            medians[j,:] = np.median(X[labels==j,:],axis=0)\n",
        "\n",
        "        #Iterate counter\n",
        "        i+=1\n",
        "\n",
        "        #Plot result (red points are labels)\n",
        "        if visualize:\n",
        "            print('Iteration %d'%i)\n",
        "            plt.scatter(X[:,0],X[:,1], c=labels)\n",
        "            plt.scatter(medians[:,0],medians[:,1], c='r')\n",
        "            plt.pause(0.1)\n",
        "\n",
        "    return labels"
      ],
      "outputs": [],
      "execution_count": null
    },
    {
      "cell_type": "markdown",
      "metadata": {},
      "source": [
        "Let's create some synthetic data and run k-medians. Run it several times. Do you every see a poor clustering result?"
      ]
    },
    {
      "cell_type": "code",
      "metadata": {},
      "source": [
        "import sklearn.datasets as datasets\n",
        "\n",
        "n = 500\n",
        "X,L = datasets.make_blobs(n_samples=n, cluster_std=[1,1.5,0.5], random_state=60)\n",
        "labels = kmedians(X,3,visualize=True)"
      ],
      "outputs": [],
      "execution_count": null
    },
    {
      "cell_type": "markdown",
      "metadata": {},
      "source": [
        "##Real data\n",
        "We now consider using k-means to cluster MNIST digits. Let's install the [Graph Learning](https://github.com/jwcalder/GraphLearning) Python package."
      ]
    },
    {
      "cell_type": "code",
      "metadata": {},
      "source": [
        "pip install -q graphlearning"
      ],
      "outputs": [],
      "execution_count": null
    },
    {
      "cell_type": "markdown",
      "metadata": {},
      "source": [
        "Load MNIST data into memory."
      ]
    },
    {
      "cell_type": "code",
      "metadata": {},
      "source": [
        "import graphlearning as gl\n",
        "\n",
        "data, labels = gl.datasets.load('mnist')"
      ],
      "outputs": [],
      "execution_count": null
    },
    {
      "cell_type": "markdown",
      "metadata": {},
      "source": [
        "Let's plot some MNIST images."
      ]
    },
    {
      "cell_type": "code",
      "metadata": {},
      "source": [
        "gl.utils.image_grid(data, n_rows=10, n_cols=10, title='Some MNIST Images', fontsize=26)"
      ],
      "outputs": [],
      "execution_count": null
    },
    {
      "cell_type": "code",
      "metadata": {},
      "source": [
        "#Binary clustering problem witih 2 digits\n",
        "class1 = 0\n",
        "class2 = 1\n",
        "\n",
        "#Subset data to two digits\n",
        "I = labels == class1\n",
        "J = labels == class2\n",
        "X = data[I | J,:]\n",
        "L = labels[I | J]\n",
        "\n",
        "#Convert labels to 0/1\n",
        "I = L == class1\n",
        "L[I] = 0\n",
        "L[~I] = 1\n",
        "\n",
        "#kmeans clustering\n",
        "cluster_labels = kmedians(X, 2)\n",
        "\n",
        "#Check accuracy\n",
        "acc1 = np.mean(cluster_labels == L)\n",
        "acc2 = np.mean(cluster_labels != L)\n",
        "print('Clustering accuracy = %.2f%%'%(100*max(acc1,acc2)))\n",
        "\n",
        "#Show images from each cluster\n",
        "gl.utils.image_grid(X[cluster_labels==0,:], n_rows=10, n_cols=10, title='Cluster 1', fontsize=26)\n",
        "gl.utils.image_grid(X[cluster_labels==1,:], n_rows=10, n_cols=10, title='Cluster 2', fontsize=26)"
      ],
      "outputs": [],
      "execution_count": null
    }
  ],
  "metadata": {
    "anaconda-cloud": {},
    "kernelspec": {
      "display_name": "Python 3",
      "language": "python",
      "name": "python3"
    },
    "language_info": {
      "codemirror_mode": {
        "name": "ipython",
        "version": 3
      },
      "file_extension": ".py",
      "mimetype": "text/x-python",
      "name": "python",
      "nbconvert_exporter": "python",
      "pygments_lexer": "ipython3",
      "version": "3.6.1"
    }
  },
  "nbformat": 4,
  "nbformat_minor": 4
}