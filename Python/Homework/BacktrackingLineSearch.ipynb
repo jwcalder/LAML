{
  "cells": [
    {
      "cell_type": "code",
      "metadata": {},
      "source": [
        "import numpy as np\n",
        "\n",
        "def F(x):\n",
        "    return x[0]**3 + 10*x[1]**2\n",
        "def gF(x):\n",
        "    return np.array([3*x[0]**2,20*x[1]])\n",
        "def hF(x):\n",
        "    return np.array([[6*x[0],0],[0,20]])"
      ],
      "outputs": [],
      "execution_count": null
    },
    {
      "cell_type": "code",
      "metadata": {},
      "source": [
        "import matplotlib.pyplot as plt\n",
        "\n",
        "x_gd = [np.array([1.0,1.0])]\n",
        "alpha = 0.05\n",
        "T = 100\n",
        "for i in range(T-1):\n",
        "    x = x_gd[-1]\n",
        "    x_gd += [x-alpha*gF(x)]\n",
        "\n",
        "\n",
        "x_bl = [np.array([1.0,1.0])]\n",
        "beta = 0.9\n",
        "gamma = 0.5\n",
        "T = 100\n",
        "for i in range(T-1):\n",
        "    x = x_bl[-1]\n",
        "    v = -gF(x)\n",
        "    alpha = 1\n",
        "    e = F(x + alpha*v) - F(x) + gamma*alpha*np.sum(v**2)\n",
        "    while e > 0:\n",
        "        alpha = alpha*beta\n",
        "        e = F(x + alpha*v) - F(x) + gamma*alpha*np.sum(v**2)\n",
        "    x_bl += [x+alpha*v]\n",
        "\n",
        "r_gd = np.linalg.norm(np.array(x_gd),axis=1)\n",
        "r_bl = np.linalg.norm(np.array(x_bl),axis=1)\n",
        "it = np.arange(T)\n",
        "plt.plot(it,r_gd,label='gd')\n",
        "plt.plot(it,r_bl,label='backtracking')\n",
        "plt.yscale('log')\n",
        "plt.legend()"
      ],
      "outputs": [],
      "execution_count": null
    },
    {
      "cell_type": "code",
      "metadata": {},
      "source": [
        "import matplotlib.pyplot as plt\n",
        "\n",
        "x_nt = [np.array([1.0,1.0])]\n",
        "T = 100\n",
        "for i in range(T-1):\n",
        "    x = x_nt[-1]\n",
        "    x_nt += [x-np.linalg.inv(hF(x))@gF(x)]\n",
        "\n",
        "\n",
        "x_ntbl = [np.array([1.0,1.0])]\n",
        "beta = 0.9\n",
        "gamma = 0.5\n",
        "T = 100\n",
        "for i in range(T-1):\n",
        "    x = x_ntbl[-1]\n",
        "    v = -np.linalg.inv(hF(x))@gF(x)\n",
        "    alpha = 2\n",
        "    e = F(x + alpha*v) - F(x) - gamma*alpha*np.sum(gF(x)*v)\n",
        "    while e > 0:\n",
        "        alpha = alpha*beta\n",
        "        e = F(x + alpha*v) - F(x) - gamma*alpha*np.sum(gF(x)*v)\n",
        "    x_ntbl += [x+alpha*v]\n",
        "\n",
        "r_nt = np.linalg.norm(np.array(x_nt),axis=1)\n",
        "r_ntbl = np.linalg.norm(np.array(x_ntbl),axis=1)\n",
        "it = np.arange(T)\n",
        "plt.plot(it,r_nt,label='Newton')\n",
        "plt.plot(it,r_ntbl,label='Backtracking Newton')\n",
        "plt.yscale('log')\n",
        "plt.legend()\n"
      ],
      "outputs": [],
      "execution_count": null
    }
  ],
  "metadata": {
    "anaconda-cloud": {},
    "kernelspec": {
      "display_name": "Python 3",
      "language": "python",
      "name": "python3"
    },
    "language_info": {
      "codemirror_mode": {
        "name": "ipython",
        "version": 3
      },
      "file_extension": ".py",
      "mimetype": "text/x-python",
      "name": "python",
      "nbconvert_exporter": "python",
      "pygments_lexer": "ipython3",
      "version": "3.6.1"
    }
  },
  "nbformat": 4,
  "nbformat_minor": 4
}