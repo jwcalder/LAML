{
  "cells": [
    {
      "cell_type": "markdown",
      "metadata": {},
      "source": [
        "#Pandas\n",
        "\n",
        "You will now learn about Pandas and how to load and play with real data.\n",
        "\n",
        "**Pandas** is a Python package that is designed to make it easy to work with data, and has many useful functions for loading data from files, manipulating and displaying data, and storing data to files.\n",
        "\n",
        "Let's first import Pandas and Numpy."
      ]
    },
    {
      "cell_type": "code",
      "metadata": {},
      "source": [
        "import numpy as np\n",
        "import pandas as pd"
      ],
      "outputs": [],
      "execution_count": null
    },
    {
      "cell_type": "markdown",
      "metadata": {},
      "source": [
        "###Loading some sample data\n",
        "\n",
        "Let's first see what files are already included in Google Colab. We can use the 'ls' command to list the current directory and see what files and folders we have."
      ]
    },
    {
      "cell_type": "code",
      "metadata": {},
      "source": [
        "%%bash\n",
        "ls -l"
      ],
      "outputs": [],
      "execution_count": null
    },
    {
      "cell_type": "markdown",
      "metadata": {},
      "source": [
        "Apparently Google Colabs provides some sample data sets in the folder 'sample_data'. Let's list them with the ls command."
      ]
    },
    {
      "cell_type": "code",
      "metadata": {},
      "source": [
        "%%bash\n",
        "ls -lh sample_data"
      ],
      "outputs": [],
      "execution_count": null
    },
    {
      "cell_type": "markdown",
      "metadata": {},
      "source": [
        "We see some datasets stored in Comma Separated Value (csv) files and a json file, as well as a Readme file.\n",
        "\n",
        "Some notes on 'ls' (which you can ignore):\n",
        "\n",
        "1. The -l flag asks for information to be listed for each file, including file size. The -h flag asks for the file sizes to be in MB, KB (human-readable), instead of bytes.\n",
        "\n",
        "2. The exclamation mark ! we keep using is an 'escape character' that allows us to run commands outside of Python in the shell (Google Colabs runs a Bash shell, like in Unix operating systems). We won't use this very often.\n",
        "\n",
        "Let's view the readme file to see about the datasets. Here, we use the shell command 'cat'"
      ]
    },
    {
      "cell_type": "code",
      "metadata": {},
      "source": [
        "%%bash\n",
        "cat sample_data/README.md"
      ],
      "outputs": [],
      "execution_count": null
    },
    {
      "cell_type": "markdown",
      "metadata": {},
      "source": [
        "Let's open the california housing data, which is stored as a csv file. A csv file is just a text file with the data stored as plain text separated by commas. A lot of our datasets will be stored this way.\n",
        "\n",
        "To view a bit of the csv file, we can use the 'head' shell command."
      ]
    },
    {
      "cell_type": "code",
      "metadata": {},
      "source": [
        "%%bash\n",
        "head -n 20 sample_data/california_housing_train.csv"
      ],
      "outputs": [],
      "execution_count": null
    },
    {
      "cell_type": "markdown",
      "metadata": {},
      "source": [
        "It would be rather complicated to write a Python function to read a csv file and store the data in a Python list or Numpy array.\n",
        "\n",
        "This is where Pandas is extremely useful. Pandas has built in functions for reading csv files (and many other data types). We can read the data with Pandas using the code below."
      ]
    },
    {
      "cell_type": "code",
      "metadata": {},
      "source": [
        "data_train = pd.read_csv('sample_data/california_housing_train.csv')\n",
        "data_test = pd.read_csv('sample_data/california_housing_test.csv')"
      ],
      "outputs": [],
      "execution_count": null
    },
    {
      "cell_type": "markdown",
      "metadata": {},
      "source": [
        "We ran the code and it appears nothing happend! The code above read the csv files and stored their data in the 'data_train' and 'data_test' variables. We didn't ask it to produce any ouptut.\n",
        "\n",
        "We can now use Pandas to look at the data and try to understand it better. Let's check the size first."
      ]
    },
    {
      "cell_type": "code",
      "metadata": {},
      "source": [
        "data_train.shape"
      ],
      "outputs": [],
      "execution_count": null
    },
    {
      "cell_type": "code",
      "metadata": {},
      "source": [
        "data_test.shape"
      ],
      "outputs": [],
      "execution_count": null
    },
    {
      "cell_type": "markdown",
      "metadata": {},
      "source": [
        "So the training data is a Data Frame (an array) with 17,000 data points, each of which has 9 features. The testing data has 3,000 data points.\n",
        "\n",
        "But what does this data look like? Let's look at the first few rows."
      ]
    },
    {
      "cell_type": "code",
      "metadata": {},
      "source": [
        "data_train.head()"
      ],
      "outputs": [],
      "execution_count": null
    },
    {
      "cell_type": "markdown",
      "metadata": {},
      "source": [
        "It seems each row corresponds to a county in California, and the row includes various statistics of that county."
      ]
    },
    {
      "cell_type": "markdown",
      "metadata": {},
      "source": [
        "If you just want to know the column headers."
      ]
    },
    {
      "cell_type": "code",
      "metadata": {},
      "source": [
        "data_train.columns"
      ],
      "outputs": [],
      "execution_count": null
    },
    {
      "cell_type": "markdown",
      "metadata": {},
      "source": [
        "Pandas also has a 'describe' function that provides a useful summary of your data."
      ]
    },
    {
      "cell_type": "code",
      "metadata": {},
      "source": [
        "data_train.describe()"
      ],
      "outputs": [],
      "execution_count": null
    },
    {
      "cell_type": "markdown",
      "metadata": {},
      "source": [
        "##Downloading data from the internet\n",
        "Another great place to find datasets is [Kaggle](https://www.kaggle.com/datasets) and [Github](https://www.github.com). If you have a URL, pandas can read a csv file directly from the internet, or you can download it first and load a local file. Let's download some covid infection data from the Nytimes [Covid data repository](https://github.com/nytimes/covid-19-data)."
      ]
    },
    {
      "cell_type": "code",
      "metadata": {},
      "source": [
        "import pandas as pd\n",
        "covid_data = pd.read_csv('https://github.com/nytimes/covid-19-data/raw/master/us-counties-2020.csv')\n",
        "covid_data.head(n=50000)"
      ],
      "outputs": [],
      "execution_count": null
    },
    {
      "cell_type": "code",
      "metadata": {},
      "source": [
        "covid_data.describe()"
      ],
      "outputs": [],
      "execution_count": null
    },
    {
      "cell_type": "markdown",
      "metadata": {},
      "source": [
        "Sometimes, when downloading a dataset, we do not get a URL to use with wget. This is the case with [Kaggle](https://www.kaggle.com/datasets). In this case, we can import the file by clicking on the folder on the left and clicking the upload button (the page with the up arrow). Then select the file from your hard drive to upload."
      ]
    },
    {
      "cell_type": "markdown",
      "metadata": {},
      "source": [
        "##Exercise 1\n",
        "1. Find another dataset as a csv file on Github or Kaggle. For example, try another csv file from the Nytimes [Covid data repository](https://github.com/nytimes/covid-19-data).\n",
        "\n",
        "2. Read the csv file into Colab and use the Pandas 'head()' and 'describe()' functions to view the data."
      ]
    },
    {
      "cell_type": "code",
      "metadata": {},
      "source": [
        "#Put your code here, or make more code boxes\n",
        "df = pd.read_json('sample_data/anscombe.json')\n",
        "df"
      ],
      "outputs": [],
      "execution_count": null
    },
    {
      "cell_type": "markdown",
      "metadata": {},
      "source": [
        "#Manipulating and visualizing data\n",
        "Pandas has lots of useful functions for manipulating data. Let's go back and use our California housing data."
      ]
    },
    {
      "cell_type": "code",
      "metadata": {},
      "source": [
        "data_train = pd.read_csv('sample_data/california_housing_train.csv')"
      ],
      "outputs": [],
      "execution_count": null
    },
    {
      "cell_type": "markdown",
      "metadata": {},
      "source": [
        "First, we can sort the data by any of the features. For example"
      ]
    },
    {
      "cell_type": "code",
      "metadata": {},
      "source": [
        "data_train.sort_values(by='median_income', ascending=True)"
      ],
      "outputs": [],
      "execution_count": null
    },
    {
      "cell_type": "markdown",
      "metadata": {},
      "source": [
        "Suppose you just want to focus on just one column of the dataset. We can extract a column by label."
      ]
    },
    {
      "cell_type": "code",
      "metadata": {},
      "source": [
        "age = data_train['housing_median_age']\n",
        "print(age)"
      ],
      "outputs": [],
      "execution_count": null
    },
    {
      "cell_type": "markdown",
      "metadata": {},
      "source": [
        "We can now compute mean, median, or standard devaition easily."
      ]
    },
    {
      "cell_type": "code",
      "metadata": {},
      "source": [
        "age.mean()"
      ],
      "outputs": [],
      "execution_count": null
    },
    {
      "cell_type": "code",
      "metadata": {},
      "source": [
        "age.median()"
      ],
      "outputs": [],
      "execution_count": null
    },
    {
      "cell_type": "code",
      "metadata": {},
      "source": [
        "age.std()"
      ],
      "outputs": [],
      "execution_count": null
    },
    {
      "cell_type": "markdown",
      "metadata": {},
      "source": [
        "We can also visualize data by creating a histogram."
      ]
    },
    {
      "cell_type": "code",
      "metadata": {},
      "source": [
        "age.hist(bins=50)"
      ],
      "outputs": [],
      "execution_count": null
    },
    {
      "cell_type": "markdown",
      "metadata": {},
      "source": [
        "Question: Why do we see a spike at 52 years old? You may want to look at the website for the dataset, from the readme file above."
      ]
    },
    {
      "cell_type": "markdown",
      "metadata": {},
      "source": [
        "##Exercise 2\n",
        "\n",
        "1. Figure out why there is a spike at 52 years old in the data histogram above.\n",
        "2. Load another dataset, as in the last exercise, and sort it by different columns. Create histograms of some of the columns. What do you see?"
      ]
    },
    {
      "cell_type": "code",
      "metadata": {},
      "source": [
        "#Put your code here, or make another code box."
      ],
      "outputs": [],
      "execution_count": null
    },
    {
      "cell_type": "markdown",
      "metadata": {},
      "source": [
        "##Subsetting data\n",
        "\n",
        "Sometimes we wish to subset our data; that is, remove some columns or rows that are not needed, or separate data from labels. This is easy with Pandas.\n",
        "\n",
        "To get the first 5 rows:"
      ]
    },
    {
      "cell_type": "code",
      "metadata": {},
      "source": [
        "data_train[0:20]"
      ],
      "outputs": [],
      "execution_count": null
    },
    {
      "cell_type": "markdown",
      "metadata": {},
      "source": [
        "To select only some columns (columns 1,2,4,7) and the first 5 rows."
      ]
    },
    {
      "cell_type": "code",
      "metadata": {},
      "source": [
        "data_train.iloc[0:5,[1,2,4,7]]"
      ],
      "outputs": [],
      "execution_count": null
    },
    {
      "cell_type": "markdown",
      "metadata": {},
      "source": [
        "To do the same thing but select all rows:"
      ]
    },
    {
      "cell_type": "code",
      "metadata": {},
      "source": [
        "data_train.iloc[:,[1,2,4,7]]"
      ],
      "outputs": [],
      "execution_count": null
    },
    {
      "cell_type": "markdown",
      "metadata": {},
      "source": [
        "You can also use the labels of the columns, instead of their numbers. Notice we used 'iloc' above and 'loc' below (the i is for index)."
      ]
    },
    {
      "cell_type": "code",
      "metadata": {},
      "source": [
        "data_train.loc[:,['latitude','housing_median_age','total_bedrooms','median_income']]"
      ],
      "outputs": [],
      "execution_count": null
    },
    {
      "cell_type": "markdown",
      "metadata": {},
      "source": [
        "You can index with any Python list or using notation 'a:b' to specify the range a,a+1,...,b-1. If a=0 it can be omitted (same if b is the length of the array). You can use any combination of these to select rows and columns from your data. A colon : by itself means all rows or columns."
      ]
    },
    {
      "cell_type": "markdown",
      "metadata": {},
      "source": [
        "You can also select data matching some criteria. Say you want to look at counties with median age at least 20."
      ]
    },
    {
      "cell_type": "code",
      "metadata": {},
      "source": [
        "I = data_train['housing_median_age'] > 20\n",
        "print(I)\n",
        "data_train[I]"
      ],
      "outputs": [],
      "execution_count": null
    },
    {
      "cell_type": "markdown",
      "metadata": {},
      "source": [
        "In the code above, I is a boolean array of True or False, based on whether the row satisfies housing_median_age > 20. The line data_train[I] is called *logical indexing*. It allows indexing Pandas data frames (or Numpy arrays) by Boolean (or logical) arrays.\n",
        "\n",
        "You can combine these with logical operations. Say we also want to subset the data to median_income < 2. The code below creates another boolean array J indicating when median income is less than 2, and then uses the logical 'and' with 'I & J' to index where both I and J are true."
      ]
    },
    {
      "cell_type": "code",
      "metadata": {},
      "source": [
        "J = data_train['median_income'] < 2\n",
        "data_train[I & J]  #Shows data where median_income < 2 and housing_median_age > 20\n",
        "data_train[I | J]  #Shows data where median_income < 2 or housing_median_age > 20"
      ],
      "outputs": [],
      "execution_count": null
    },
    {
      "cell_type": "markdown",
      "metadata": {},
      "source": [
        "To subset the data where median_income < 2 or housing_median_age > 20, use the logical or 'I | J'."
      ]
    },
    {
      "cell_type": "code",
      "metadata": {},
      "source": [
        "data_train[I | J]  #median_income < 2 or housing_median_age > 20"
      ],
      "outputs": [],
      "execution_count": null
    },
    {
      "cell_type": "markdown",
      "metadata": {},
      "source": [
        "Finally, you may also need to change values of your data (say, they are corrupted)."
      ]
    },
    {
      "cell_type": "code",
      "metadata": {},
      "source": [
        "data_train['housing_median_age'][0:314] = range(314)\n",
        "data_train.head(n=20)"
      ],
      "outputs": [],
      "execution_count": null
    },
    {
      "cell_type": "markdown",
      "metadata": {},
      "source": [
        "Can you spot which value was changed above?"
      ]
    },
    {
      "cell_type": "markdown",
      "metadata": {},
      "source": [
        "There are lots of other useful functions in Pandas. Please see [Pandas Tutorial](https://pandas.pydata.org/pandas-docs/stable/getting_started/10min.html) for more details."
      ]
    },
    {
      "cell_type": "markdown",
      "metadata": {},
      "source": [
        "##Saving datasets to files and to your computer\n",
        "Now that we have changed our dataset, we may wish to save it to a csv file."
      ]
    },
    {
      "cell_type": "code",
      "metadata": {},
      "source": [
        "data_train.to_csv('test.zip',compression='infer')"
      ],
      "outputs": [],
      "execution_count": null
    },
    {
      "cell_type": "markdown",
      "metadata": {},
      "source": [
        "To check the file has been created, list the directory."
      ]
    },
    {
      "cell_type": "code",
      "metadata": {},
      "source": [
        "!ls"
      ],
      "outputs": [],
      "execution_count": null
    },
    {
      "cell_type": "markdown",
      "metadata": {},
      "source": [
        "If you now want to download the modified file to your computer:"
      ]
    },
    {
      "cell_type": "code",
      "metadata": {},
      "source": [
        "from google.colab import files\n",
        "files.download('test.zip')"
      ],
      "outputs": [],
      "execution_count": null
    },
    {
      "cell_type": "markdown",
      "metadata": {},
      "source": [
        "This can also be used for uploading files."
      ]
    },
    {
      "cell_type": "code",
      "metadata": {},
      "source": [
        "files.upload()"
      ],
      "outputs": [],
      "execution_count": null
    },
    {
      "cell_type": "markdown",
      "metadata": {},
      "source": [
        "##Exercise 3\n",
        "\n",
        "Use the dataset you downloaded in the earlier exercise.\n",
        "\n",
        "1. Subset the data in different ways, using basic indexing and some logical indexing.\n",
        "2. Modify the data and save it in a new csv file.\n",
        "3. Download the csv file to your computer."
      ]
    },
    {
      "cell_type": "code",
      "metadata": {},
      "source": [
        "#Code here"
      ],
      "outputs": [],
      "execution_count": null
    },
    {
      "cell_type": "markdown",
      "metadata": {},
      "source": [
        "##Challenge Exercise\n",
        "\n",
        "1. Find a dataset that interests you on [Kaggle](https://www.kaggle.com/datasets).\n",
        "2. Download the csv file for the dataset to your computer and upload it to Google Colab.\n",
        "3. Load it into Pandas and view the data, sort by various columns, subset the data in different ways, and use the 'describe()' function."
      ]
    },
    {
      "cell_type": "code",
      "metadata": {},
      "source": [
        "#Code here"
      ],
      "outputs": [],
      "execution_count": null
    }
  ],
  "metadata": {
    "anaconda-cloud": {},
    "kernelspec": {
      "display_name": "Python 3",
      "language": "python",
      "name": "python3"
    },
    "language_info": {
      "codemirror_mode": {
        "name": "ipython",
        "version": 3
      },
      "file_extension": ".py",
      "mimetype": "text/x-python",
      "name": "python",
      "nbconvert_exporter": "python",
      "pygments_lexer": "ipython3",
      "version": "3.6.1"
    }
  },
  "nbformat": 4,
  "nbformat_minor": 4
}