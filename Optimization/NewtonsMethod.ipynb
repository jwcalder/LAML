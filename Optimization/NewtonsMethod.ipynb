{
  "cells": [
    {
      "cell_type": "markdown",
      "metadata": {},
      "source": [
        "#Newton's Method\n",
        "\n",
        "This notebook gives a brief introduction to Newton's method.\n",
        "\n",
        "We define a function to optimize. Newton's method converges in one step for quadratic functions, so we need to depart from the example we used for gradient descent, and consider a function with some higher-order non-quadratic terms."
      ]
    },
    {
      "cell_type": "code",
      "metadata": {},
      "source": [
        "def f(x):\n",
        "    return x[0]**2 + 4*x[1]**2 + (x[0] + x[1] + 1)**4 - 4*(x[0]+x[1]) - 1\n",
        "\n",
        "def grad_f(x):\n",
        "    T = (x[0] + x[1] + 1)**3\n",
        "    f0 = 2*x[0] + 4*T - 4\n",
        "    f1 = 8*x[1] + 4*T - 4\n",
        "    return np.array([f0,f1])\n",
        "\n",
        "def hess_f(x):\n",
        "    T = (x[0] + x[1] + 1)**2\n",
        "    f00 = 2 + 4*3*T\n",
        "    f01 = 4*3*T\n",
        "    f10 = f01\n",
        "    f11 = 8 + 4*3*T\n",
        "    return np.array([[f00,f01],[f10,f11]])\n"
      ],
      "outputs": [],
      "execution_count": null
    },
    {
      "cell_type": "markdown",
      "metadata": {},
      "source": [
        "The function we defined is\n",
        "$$f(x) = x(0)^2 + 4x(1)^2 + (x(0)+x(1) +1)^4 - 4(x(0) + x(1)) - 1,$$\n",
        "The gradient and Hessian are computed in the code above. This function has its global minimum at $x=(0,0)$, with minimal value $f(0,0)=0$.\n",
        "\n",
        "We will now compare gradient descent with Newton's method for optimizing this $f$."
      ]
    },
    {
      "cell_type": "code",
      "metadata": {},
      "source": [
        "import numpy as np\n",
        "\n",
        "x_init = np.array([0.1,0.1])  #initial condition\n",
        "num_steps = 100\n",
        "alpha = 0.01  #For gradient descent\n",
        "\n",
        "f_GD = np.zeros(num_steps)\n",
        "f_NT = np.zeros(num_steps)\n",
        "\n",
        "x_GD = x_init.copy()\n",
        "x_NT = x_init.copy()\n",
        "\n",
        "for i in range(num_steps):\n",
        "\n",
        "    #Gradient Descent\n",
        "    x_GD -= alpha*grad_f(x_GD)\n",
        "    f_GD[i] = max(f(x_GD),0)\n",
        "\n",
        "    #Newton's Method\n",
        "    x_NT -= np.linalg.inv(hess_f(x_NT))@grad_f(x_NT)\n",
        "    f_NT[i] = max(f(x_NT),0)"
      ],
      "outputs": [],
      "execution_count": null
    },
    {
      "cell_type": "markdown",
      "metadata": {},
      "source": [
        "Let's compare gradient descent and Newton's method for speed of convergence."
      ]
    },
    {
      "cell_type": "code",
      "metadata": {},
      "source": [
        "import matplotlib.pyplot as plt\n",
        "\n",
        "plt.plot(f_GD, label='Gradient Descent')\n",
        "plt.plot(f_NT, label='Newton')\n",
        "plt.yscale('log')\n",
        "plt.xlabel('Number of steps', fontsize=16)\n",
        "plt.ylabel('f(x)', fontsize=16)\n",
        "plt.legend(fontsize=16)"
      ],
      "outputs": [],
      "execution_count": null
    },
    {
      "cell_type": "markdown",
      "metadata": {},
      "source": [
        "The difference is very clear; Newton's method gives superlinear convergence. To see the quadratic convergence of Newton's method, we need to set the $y$-axis to a loglog scale."
      ]
    },
    {
      "cell_type": "code",
      "metadata": {},
      "source": [
        "plt.plot(-np.log(-np.log(f_GD)), label='Gradient Descent')\n",
        "plt.xlabel('Number of steps', fontsize=16)\n",
        "plt.ylabel('-log(-log(f(x)))', fontsize=16)\n",
        "plt.legend(fontsize=16)\n",
        "\n",
        "plt.figure()\n",
        "plt.plot(-np.log(-np.log(f_NT)), label='Newton')\n",
        "plt.xlabel('Number of steps', fontsize=16)\n",
        "plt.ylabel('-log(-log(f(x)))', fontsize=16)\n",
        "plt.legend(fontsize=16)"
      ],
      "outputs": [],
      "execution_count": null
    },
    {
      "cell_type": "markdown",
      "metadata": {},
      "source": [
        "#Exercises\n",
        "\n",
        "1. Try choosing an initial point further away from the minimizer. Can you make Newton's method fail to converge?\n",
        "2. Try a non-smooth function $f$."
      ]
    }
  ],
  "metadata": {
    "anaconda-cloud": {},
    "kernelspec": {
      "display_name": "Python 3",
      "language": "python",
      "name": "python3"
    },
    "language_info": {
      "codemirror_mode": {
        "name": "ipython",
        "version": 3
      },
      "file_extension": ".py",
      "mimetype": "text/x-python",
      "name": "python",
      "nbconvert_exporter": "python",
      "pygments_lexer": "ipython3",
      "version": "3.6.1"
    }
  },
  "nbformat": 4,
  "nbformat_minor": 4
}