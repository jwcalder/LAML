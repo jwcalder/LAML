{
  "cells": [
    {
      "cell_type": "markdown",
      "metadata": {},
      "source": [
        "#Introduction to NumPy\n",
        "This notebook contains an introduction to [NumPy](https://NumPy.org/), a fundamental pacakge for scientific computing in Python. For a more in-depth tutorial, see this [NumPy Tutorial](https://NumPy.org/doc/stable/user/quickstart.html)."
      ]
    },
    {
      "cell_type": "markdown",
      "metadata": {},
      "source": [
        "##Python Packages\n",
        "The power of Python is due to the availability of many useful 3rd party packages. All packages must be explicitly imported in python code, and import statements normally go at the top of a python script.\n",
        "\n",
        "There are several ways to import packages. Below shows a few ways to import NumPy."
      ]
    },
    {
      "cell_type": "code",
      "metadata": {},
      "source": [
        "import numpy\n",
        "import numpy as np\n",
        "from numpy import array\n",
        "from numpy import sin"
      ],
      "outputs": [],
      "execution_count": null
    },
    {
      "cell_type": "markdown",
      "metadata": {},
      "source": [
        "The second way \"import numpy as np\" is the most common. The \"as np\" gives a shortcut name \"np\" to numpy, to make coding easier. You can change the shortcut \"np\" to be anything you like. All functions within NumPy have to be explicitly referenced with code like \"numpy.array\", \"numpy.max\", or \"np.array\" and \"np.max\", depending on how you imported NumPy.\n",
        "\n",
        "The third option is used if you want to import just a single function from within NumPy (or another package). With the third option, you have only imported the function \"array\", and can use it without the \"numpy\" or \"np\" prefix. Nothing else from NumPy is imported. The third option is almost never used with NumPy, but is often used for specialty packages when you only need to import a specific function.\n",
        "\n",
        "Option 4: \"from numpy import *\" - this imports every NumPy function so one doesn't need the \"np.\" Generally this is not done for NumPy since it is large - more conventional for smaller modules. Note the builtin sum command is overwritten with this command for NumPy. Dangerous to do this with multiple packages at once- can confuse cross-listed functions."
      ]
    },
    {
      "cell_type": "markdown",
      "metadata": {},
      "source": [
        "##NumPy arrays\n",
        "The basic data type in NumPy is an array.\n",
        "\n",
        "###Initializing arrays\n",
        "Arrays can have any number of dimensions, and can be initalized in a variety of ways. The code below shows how to initialize arrays a length 3 one-dimensional array in various ways."
      ]
    },
    {
      "cell_type": "code",
      "metadata": {},
      "source": [
        "import numpy as np\n",
        "\n",
        "a = np.array([1,2,3])\n",
        "b = np.ones(10)\n",
        "c = np.zeros((3,))\n",
        "print(a)\n",
        "print(b)\n",
        "print(c)"
      ],
      "outputs": [],
      "execution_count": null
    },
    {
      "cell_type": "markdown",
      "metadata": {},
      "source": [
        "For multi-dimensional arrays, we simply add the sizes of the other dimensions. You can have as many dimensions as you like."
      ]
    },
    {
      "cell_type": "code",
      "metadata": {},
      "source": [
        "import numpy as np\n",
        "\n",
        "d = np.array([[1,2,3,4,5],[6,7,8,9,10]])  #2D array of size 2x5, initialized manually\n",
        "e = np.ones((2,5))          #2D ones array of size 2x5\n",
        "f = np.zeros((2,5,8))       #3D zeros array of size 2x5x8\n",
        "g = np.random.rand(2,8)     #Random 2D array of size 2x8\n",
        "print(d)\n",
        "print(e)\n",
        "print(f)\n",
        "print(g)\n",
        "print(d.shape)"
      ],
      "outputs": [],
      "execution_count": null
    },
    {
      "cell_type": "markdown",
      "metadata": {},
      "source": [
        "Most NumPy construtors take a python tuple, i.e., the (2,5) on the second line above, as input. This is why there are two sets of brackets. This is not always the case, since we can see that np.random.rand takes multiple arguments instead of a python tuple. You will get used to this eventually.\n",
        "\n",
        "The values of arrays are referenced with square brackets. Python starts with zero as the first index (contrary to, e.g., Matlab, which starts indexing at 1)."
      ]
    },
    {
      "cell_type": "code",
      "metadata": {},
      "source": [
        "import numpy as np\n",
        "\n",
        "x = np.random.rand(3,5)\n",
        "print(x)\n",
        "print(x[0,1])\n",
        "print(x[-2,-1])\n",
        "\n",
        "x[0,0] = np.pi\n",
        "print(x)"
      ],
      "outputs": [],
      "execution_count": null
    },
    {
      "cell_type": "markdown",
      "metadata": {},
      "source": [
        "It is often useful to create a list of numbers increasing at regular intervals. There are two commands for doing this."
      ]
    },
    {
      "cell_type": "code",
      "metadata": {},
      "source": [
        "x = np.arange(10)\n",
        "print(x)\n",
        "\n",
        "x = np.arange(2,10)\n",
        "print(x)\n",
        "\n",
        "x = np.arange(2,10,2)\n",
        "print(x)\n",
        "\n",
        "x = np.linspace(0,10,21)\n",
        "print(x)"
      ],
      "outputs": [],
      "execution_count": null
    },
    {
      "cell_type": "markdown",
      "metadata": {},
      "source": [
        "Notice that `np.arange` is not inclusive, so the list stops before the upper limit of 10 in this case, while `np.linspace` is inclusive. The last argument of `np.linspace` is the desired length of the list, while the last argument for `np.arange` is the step size."
      ]
    },
    {
      "cell_type": "markdown",
      "metadata": {},
      "source": [
        "###Operations on NumPy arrays\n",
        "The advantage of using NumPy arrays instead of Python lists is that NumPy contains very efficient implementations of common operations (e.g., matrix/vector multiplication) with NumPy arrays. These operations are executed with highly optimized compiled C-code.\n",
        "\n",
        "The code below shows the advantage of using NumPy operations instead of basic Python. This is just for adding two arrays; the difference becomes far larger for more complicated operations, like matrix/vector operations. The moral of this example is to try an \"vectorize\" all your NumPy code, using built in NumPy functions, instead of using loops."
      ]
    },
    {
      "cell_type": "code",
      "metadata": {},
      "source": [
        "import numpy as np\n",
        "import time\n",
        "\n",
        "#Let's make two long lists that we wish to add elementwise\n",
        "n = 300000\n",
        "A = n*[1]\n",
        "B = n*[2]\n",
        "print('A=',end='');print(A)\n",
        "print('B=',end='');print(B)\n",
        "\n",
        "#Let's add A and B elementwise using a loop in Python\n",
        "start_time = time.time()\n",
        "C = n*[0]\n",
        "for i in range(n):\n",
        "    C[i] = A[i] + B[i]\n",
        "python_time_taken = time.time() - start_time\n",
        "print('C=',end='');print(C)\n",
        "print(\"Python took %s seconds.\" % python_time_taken)\n",
        "\n",
        "#Let's convert to NumPy and add using NumPy operations\n",
        "A = np.array(A)\n",
        "B = np.array(B)\n",
        "\n",
        "start_time = time.time()\n",
        "C = A + B\n",
        "numpy_time_taken = time.time() - start_time\n",
        "print(\"NumPy took %s seconds.\" % (numpy_time_taken))\n",
        "\n",
        "print('NumPy was %f times faster.'%(python_time_taken/numpy_time_taken))\n"
      ],
      "outputs": [],
      "execution_count": null
    },
    {
      "cell_type": "markdown",
      "metadata": {},
      "source": [
        "As you can see in the code above, the operation $+$ in NumPy adds two arrays elementwise. The operation $-$ is the same for subtraction. The operation $*$ multiplies two arrays of the same size elementwise, and is *not* matrix multiplication. To perform matrix multiplication, use $@$ in NumPy. Matrices must have compatible sizes to perform matrix multiplication. Some examples are below."
      ]
    },
    {
      "cell_type": "code",
      "metadata": {},
      "source": [
        "import numpy as np\n",
        "\n",
        "A = np.random.rand(3,5)\n",
        "B = np.random.rand(3,5)\n",
        "\n",
        "print('A*B=',end='');print(A*B)  #elementwise multiplication\n",
        "print('A-B=',end='');print(A-B)  #elementwise subtraction\n",
        "\n",
        "#Examples of matrix multiplication and matrix/vector multiplication\n",
        "print('A@B.T=',end='');print(A@B.T)   #B.T means the transpose of B\n",
        "C = np.random.rand(5,7)\n",
        "D = np.ones((5,))\n",
        "print('A@C=',end='');print(A@C)\n",
        "print('A@D=',end='');print(A@D)"
      ],
      "outputs": [],
      "execution_count": null
    },
    {
      "cell_type": "markdown",
      "metadata": {},
      "source": [
        "**Warning**: There are some situations in Python where $*$ can refer to matrix/vector multiplication, and this can easily be confusing. We will not see this often (if ever), but it arises when one uses matrix data types, instead of NumPy arrays. There are matrix data types in NumPy and Scipy. See examples below. I prefer to use only NumPy arrays and use @ for matrix multiplication, so it is always clear what operation is intended."
      ]
    },
    {
      "cell_type": "code",
      "metadata": {},
      "source": [
        "import numpy as np\n",
        "import scipy.sparse as sparse\n",
        "\n",
        "A = np.random.rand(3,3)\n",
        "x = np.random.rand(3,1)\n",
        "\n",
        "print(A@x)\n",
        "print(A*x)\n",
        "\n",
        "A = np.matrix(A)\n",
        "print(A*x)\n",
        "\n",
        "A = sparse.csr_matrix(A)\n",
        "print(A*x)"
      ],
      "outputs": [],
      "execution_count": null
    },
    {
      "cell_type": "markdown",
      "metadata": {},
      "source": [
        "## Computing dot products\n",
        "\n",
        "There are several ways to compute dot products in Numpy. If the vectors are stored as column vectors, we can use the $x^Ty$, or we can elementwise multiply the vectors and sum.  Alternatively,if the arrays are one dimensional, we can use `np.dot`."
      ]
    },
    {
      "cell_type": "code",
      "metadata": {},
      "source": [
        "x = np.random.rand(3,1)\n",
        "y = np.random.rand(3,1)\n",
        "\n",
        "print('x =',x)\n",
        "print('y =',y)\n",
        "\n",
        "#Different ways to compute the dot product\n",
        "print('x dot y = ',x.T@y)\n",
        "print('x dot y = ',np.sum(x*y))\n",
        "\n",
        "#For one dimensional arrays\n",
        "x = x.flatten()\n",
        "y = y.flatten()\n",
        "\n",
        "print('x =',x)\n",
        "print('y =',y)\n",
        "print('x dot y = ',np.dot(x,y))"
      ],
      "outputs": [],
      "execution_count": null
    },
    {
      "cell_type": "markdown",
      "metadata": {},
      "source": [
        "The `np.sum` command is very useful in a variety of situations. Other operations, such as `np.mean`, `np.median`, etc., are available as well."
      ]
    },
    {
      "cell_type": "markdown",
      "metadata": {},
      "source": [
        "##Exercises\n",
        "\n",
        "1. Write a function that takes two vectors $\\mathbf{x}$ and $\\mathbf{y}$, of the same length $n$, and an $n \\times n$ matrix $C$, and returns the inner products $\\langle \\mathbf{x},\\mathbf{y}\\rangle = \\mathbf{x}^TC\\mathbf{y}$. Test your function on some small matrices and vectors where you can also check the result by hand."
      ]
    },
    {
      "cell_type": "code",
      "metadata": {},
      "source": [
        "def inner_product(x,y,C):\n",
        "\n",
        "    return ??"
      ],
      "outputs": [],
      "execution_count": null
    },
    {
      "cell_type": "markdown",
      "metadata": {},
      "source": [
        "2. Write a function that numerically approximates $\\pi$ via the series\n",
        "$$\\frac{\\pi^2}{6} = \\sum_{n=1}^\\infty \\frac{1}{n^2}.$$\n",
        "To do this, use `np.arange` to construct the array $(1,2,3,\\dots,N)$, for a large integer $N$, and use numpy vectorized operations to approximate the series by the partial sum\n",
        "$$S_N = \\sum_{n=1}^N \\frac{1}{n^2}.$$\n",
        "Then you can approximate $\\pi$ as\n",
        "$$\\pi \\approx \\sqrt{6 S_N}.$$\n",
        "Your code should not have any loops. How many decimal places of $\\pi$ can you approximate this way?"
      ]
    },
    {
      "cell_type": "code",
      "metadata": {},
      "source": [
        "def approx_pi(N):\n",
        "\n",
        "    return ??"
      ],
      "outputs": [],
      "execution_count": null
    },
    {
      "cell_type": "markdown",
      "metadata": {},
      "source": [
        "3. Write a function that numerically approximates $\\pi$ via the integral expression\n",
        "$$\\pi = 4\\int_0^1 \\sqrt{1-x^2} \\, dx,$$\n",
        "which is simply the area enclosed by the unit circle. Your function should not use any loops. Use a NumPy array and NumPy functions instead. How many decimal places of $\\pi$ can you accurately compute? You should approximate the integral by a Riemann sum\n",
        "$$\\pi \\approx 4\\sum_{i=1}^n \\sqrt{1-x_i^2}\\Delta x,$$\n",
        "where $\\Delta x = 1/n$, $n$ is a large integer, and $x_i$ is a point in the interval $[(i-1)\\Delta x,i\\Delta x]$. Use `np.arange` to construct an numpy array containing $(x_1,\\dots,x_n)$. [Challenge: Compare left point, right point, and mid-point rules for choosing $x_i$ in the Riemann sum.]"
      ]
    },
    {
      "cell_type": "code",
      "metadata": {},
      "source": [
        "def riemann_pi(n):\n",
        "\n",
        "    return ??"
      ],
      "outputs": [],
      "execution_count": null
    },
    {
      "cell_type": "markdown",
      "metadata": {},
      "source": [
        "4. [Very challenging] To date, about 100 trillion digits of $\\pi$ have been computed using the [Chudnovsky Algorithm](https://en.wikipedia.org/wiki/Chudnovsky_algorithm), which converges much faster than the methods above. Write a python program to implement the Chudnovsky algorithm and test how many terms you need to get 10 decimal places of accuracy."
      ]
    },
    {
      "cell_type": "code",
      "metadata": {},
      "source": [],
      "outputs": [],
      "execution_count": null
    }
  ],
  "metadata": {
    "anaconda-cloud": {},
    "kernelspec": {
      "display_name": "Python 3",
      "language": "python",
      "name": "python3"
    },
    "language_info": {
      "codemirror_mode": {
        "name": "ipython",
        "version": 3
      },
      "file_extension": ".py",
      "mimetype": "text/x-python",
      "name": "python",
      "nbconvert_exporter": "python",
      "pygments_lexer": "ipython3",
      "version": "3.6.1"
    }
  },
  "nbformat": 4,
  "nbformat_minor": 4
}