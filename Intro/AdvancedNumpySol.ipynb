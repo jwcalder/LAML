{
  "cells": [
    {
      "cell_type": "markdown",
      "metadata": {},
      "source": [
        "# Advanced NumPy\n",
        "This notebook overview some more advanced aspects of the [NumPy](https://NumPy.org/) package, such as slicing, logical indexing, and broadcasting. For a more in-depth tutorial, see this [NumPy Tutorial](https://NumPy.org/doc/stable/user/quickstart.html)."
      ]
    },
    {
      "cell_type": "markdown",
      "metadata": {},
      "source": [
        "###Slicing arrays\n",
        "It is often the case that you need to access only part of an array, say, a column of a matrix, or just the first few entries of a vector. NumPy has many useful ways to slice into arrays. Some examples of slicing rows or columns are below."
      ]
    },
    {
      "cell_type": "code",
      "metadata": {},
      "source": [
        "import numpy as np\n",
        "\n",
        "A = np.random.rand(5,3)\n",
        "print(A)\n",
        "print(A[:,0]) #First column of A\n",
        "print(A[0,:]) #First row of A"
      ],
      "outputs": [],
      "execution_count": null
    },
    {
      "cell_type": "markdown",
      "metadata": {},
      "source": [
        "To extract only some of the entries in a given column or row of an array, the indexing notation \"a:b:c\" can be used. Generally this means start indexing at a, increment by c, and stop *before* you get to b. It is important to note that b is not included in the range of indexing.\n",
        "\n",
        "Some important points: If a is ommitted, it is taken as 0. If b is ommitted, the indexing goes to the end of the array. If any numbers are negative, the array is treated as periodic. Examples are given below. It is a good idea to master this type of indexing, as it is used very often in NumPy."
      ]
    },
    {
      "cell_type": "code",
      "metadata": {},
      "source": [
        "import numpy as np\n",
        "\n",
        "a = np.arange(0,19,1) #Array of numbers from 0 to 18=19-1 going by 1\n",
        "print(a)\n",
        "print(a[0:7])\n",
        "print(a[:7])\n",
        "print(a[7:])\n",
        "print(a[10:-2])  #Note the -2 means 2 before the end of the array\n",
        "print(a[::3])"
      ],
      "outputs": [],
      "execution_count": null
    },
    {
      "cell_type": "markdown",
      "metadata": {},
      "source": [
        "We can mix the indexing above with slicing 2D or 3D arrays."
      ]
    },
    {
      "cell_type": "code",
      "metadata": {},
      "source": [
        "import numpy as np\n",
        "\n",
        "A = np.reshape(np.arange(30),(3,10))\n",
        "print(A)\n",
        "print(A[:,::2])\n",
        "print(A[0:2,:])\n",
        "print(A[0,:])\n",
        "print(A[:,[3,4]])"
      ],
      "outputs": [],
      "execution_count": null
    },
    {
      "cell_type": "markdown",
      "metadata": {},
      "source": [
        "###Logical indexing\n",
        "It is often useful to index an array logically, by another true/false array. The code below draws a random array, and replaces any entry greater than $0.5$ with $10$, and all other entries are set to zero."
      ]
    },
    {
      "cell_type": "code",
      "metadata": {},
      "source": [
        "import numpy as np\n",
        "\n",
        "A = np.random.rand(3,5)\n",
        "print(A)\n",
        "\n",
        "I = A > 0.5  #Boolean true/false\n",
        "print(I)\n",
        "A[I] = 10\n",
        "print(A)\n",
        "A[~I] = 0\n",
        "print(A)"
      ],
      "outputs": [],
      "execution_count": null
    },
    {
      "cell_type": "markdown",
      "metadata": {},
      "source": [
        "Finally, there are many useful functions in NumPy for computing with arrays, that is, finding the mean or median value of each column, summing all the entries in a matrix, finding the norm of the matrix, etc. Pretty much any function you may want to apply to a matrix has a built-in NumPy function to do the job, and as per the discussion above, this is much faster than writing a loop to do it in Python. Examples below."
      ]
    },
    {
      "cell_type": "code",
      "metadata": {},
      "source": [
        "import numpy as np\n",
        "\n",
        "A = np.reshape(np.arange(30),(3,10))\n",
        "\n",
        "print(A)\n",
        "print(np.sum(A))   #Sums all entries in A\n",
        "print(np.max(A,axis=0))  #Gives sums along axis=0, so it reports column sums\n",
        "print(np.sum(A,axis=1))  #Row sums"
      ],
      "outputs": [],
      "execution_count": null
    },
    {
      "cell_type": "markdown",
      "metadata": {},
      "source": [
        "In the code above, experiment with replacing \"sum\" by \"mean\" or \"median\"."
      ]
    },
    {
      "cell_type": "markdown",
      "metadata": {},
      "source": [
        "###Broadcasting\n",
        "When operating on NumPy arrays, it is sometimes useful to perform elementwise operations on two arrays of different sizes. Say, you want to add a vector to every row of a matrix. NumPy broadcasts automatically, as long as the sizes of the last dimensions match up."
      ]
    },
    {
      "cell_type": "code",
      "metadata": {},
      "source": [
        "import numpy as np\n",
        "\n",
        "A = np.reshape(np.arange(30),(3,10))\n",
        "print(A)\n",
        "\n",
        "x = np.arange(10)\n",
        "print(x.shape)\n",
        "print(x)\n",
        "print(A+x) #Adds the row vector of all ones to each row of A\n",
        "print(A+1)"
      ],
      "outputs": [],
      "execution_count": null
    },
    {
      "cell_type": "markdown",
      "metadata": {},
      "source": [
        "Suppose we wanted to add a column vector to each column of A. The code below fails, why?"
      ]
    },
    {
      "cell_type": "code",
      "metadata": {},
      "source": [
        "import numpy as np\n",
        "\n",
        "A = np.reshape(np.arange(30),(3,10))\n",
        "print(A)\n",
        "\n",
        "x = np.ones((3,))\n",
        "print(x)\n",
        "print(A+x[:,None]) #Adds the row column of all ones to each row of A\n"
      ],
      "outputs": [],
      "execution_count": null
    },
    {
      "cell_type": "markdown",
      "metadata": {},
      "source": [
        "Answer: For broadcasting, the sizes of the last dimensions must match up. Above they are 10 and 3, which are not compatible, whereas in the first example they were 10 and 10. To fix this, you can add a dummy axis to x, to make the last dimensions match up, using np.newaxis."
      ]
    },
    {
      "cell_type": "code",
      "metadata": {},
      "source": [
        "print(x)\n",
        "print(x.shape)\n",
        "print(x[:,None])\n",
        "print(x[:,None].shape)\n",
        "print(A+x[:,None])"
      ],
      "outputs": [],
      "execution_count": null
    },
    {
      "cell_type": "markdown",
      "metadata": {},
      "source": [
        "##Exercises\n",
        "\n",
        "All of the exercises below should be completed with Numpy operations, indexing, slicing, etc., and should not involve any kind of Python loop.\n",
        "\n",
        "1. Write code to compute the mean row vector for a matrix $X$. Do the same for the mean column vector."
      ]
    },
    {
      "cell_type": "code",
      "metadata": {},
      "source": [
        "X = np.random.rand(10,3)\n",
        "mrow = np.mean(X,axis=0)#mean row\n",
        "mcol = np.mean(X,axis=1)#mean column\n",
        "\n",
        "#To check your code\n",
        "print(X)\n",
        "print(mrow)\n",
        "print(mcol)"
      ],
      "outputs": [],
      "execution_count": null
    },
    {
      "cell_type": "markdown",
      "metadata": {},
      "source": [
        "2. Write code to center the rows of the matrix $X$, by subtracting the mean row vector from every row. Do the same for column centering."
      ]
    },
    {
      "cell_type": "code",
      "metadata": {},
      "source": [
        "X = np.random.rand(10,3)\n",
        "mrow = np.mean(X,axis=0)#mean row\n",
        "Xc = X - mrow[None,:] #Centered X by subtracting mrow\n",
        "\n",
        "#To check your code\n",
        "print(X)\n",
        "print(Xc)\n",
        "\n",
        "#Compute the mean of rows of Xc to check that they are zero\n",
        "print('rowmeans=',np.mean(Xc,axis=0))\n",
        "\n",
        "#Do the same for columns \n",
        "mcol = np.mean(X,axis=1)#mean column\n",
        "Xc = X - mcol[:,None] #Centered X by subtracting mcol\n",
        "print('colmeans=',np.mean(Xc,axis=1))"
      ],
      "outputs": [],
      "execution_count": null
    },
    {
      "cell_type": "markdown",
      "metadata": {},
      "source": [
        "3. Write code to compute the Euclidean norm of every row of a matrix $X$. Do the same for columns. Your answers should be contained in a vector."
      ]
    },
    {
      "cell_type": "code",
      "metadata": {},
      "source": [
        "X = np.random.rand(10,3)\n",
        "Xrows = np.sqrt(np.sum(X**2,axis=0)) #Norms of rows\n",
        "Xcols = np.sqrt(np.sum(X**2,axis=1)) #Norms of columns\n",
        "\n",
        "print(Xrows)\n",
        "print(Xrows)"
      ],
      "outputs": [],
      "execution_count": null
    },
    {
      "cell_type": "markdown",
      "metadata": {},
      "source": [
        "4. Write code to normalize a matrix $X$ so that all rows are unit vectors. Do the same for columns."
      ]
    },
    {
      "cell_type": "code",
      "metadata": {},
      "source": [
        "X = np.random.rand(10,3)\n",
        "Xrows = np.sqrt(np.sum(X**2,axis=0)) #Norms of rows\n",
        "Xnorm = X/Xrows[None,:] #Normalize rows\n",
        "\n",
        "print(X)\n",
        "print(Xnorm)\n",
        "\n",
        "#Compute the norms of the rows of X to check they are 1\n",
        "print('rownorms=',np.sqrt(np.sum(Xnorm**2,axis=0)))"
      ],
      "outputs": [],
      "execution_count": null
    },
    {
      "cell_type": "markdown",
      "metadata": {},
      "source": [
        "5. Create the column vector $\\mathbf{x} = (0,1,2,3,4)^T$ as an $n\\times 1$ array in NumPy using `x = np.arange(5)[:,None]`. Then add $\\mathbf{x}$ and its transpose $\\mathbf{x}^T$, which is `x.T` in numpy. The results should be a $5\\times 5$ matrix. Print and inspect the result. Explain why NumPy allowed you to add an $n\\times 1$ array to a $1\\times n$ array, and the result, using the rules of [broadcasting](https://NumPy.org/doc/stable/user/basics.broadcasting.html) in NumPy."
      ]
    },
    {
      "cell_type": "code",
      "metadata": {},
      "source": [
        "\n",
        "x = np.arange(5)[:,None]\n",
        "print(x.T)\n",
        "print(x)\n",
        "print(x.T + x)"
      ],
      "outputs": [],
      "execution_count": null
    },
    {
      "cell_type": "markdown",
      "metadata": {},
      "source": [
        "6. [Challenge] Write a Python program that uses the [Sieve of Eratosthenes](https://en.wikipedia.org/wiki/Sieve_of_Eratosthenes) to find all prime numbers between $2$ and a given integer $n$. In contrast to the question in last lecture's [notebook](https://colab.research.google.com/drive/1R23TOiQ1s8AgCvDk8xbc90fxBu2vYF7D?usp=sharing), here you should use NumPy arrays and NumPy functions. In particular, use only one outer `while` loop, and convert all the inner loops into NumPy operations and functions."
      ]
    },
    {
      "cell_type": "code",
      "metadata": {},
      "source": [
        "\n",
        "def prime_sieve(n):\n",
        "\n",
        "    primes = [] #Empty list for primes\n",
        "    prime_mask = np.ones(n+1,dtype=bool)\n",
        "    prime_mask[0] = False\n",
        "    prime_mask[1] = False\n",
        "\n",
        "    c = np.argmax(prime_mask)\n",
        "    while c > 0:\n",
        "        primes += [c]\n",
        "        prime_mask[c::c] = False\n",
        "        c = np.argmax(prime_mask)\n",
        "    return primes\n",
        "\n",
        "#Find all prime numbers up to 10^6.\n",
        "primes = prime_sieve(10**6)\n",
        "for p in primes:\n",
        "    print(p)\n",
        "\n",
        "\n",
        "\n",
        "\n"
      ],
      "outputs": [],
      "execution_count": null
    }
  ],
  "metadata": {
    "anaconda-cloud": {},
    "kernelspec": {
      "display_name": "Python 3",
      "language": "python",
      "name": "python3"
    },
    "language_info": {
      "codemirror_mode": {
        "name": "ipython",
        "version": 3
      },
      "file_extension": ".py",
      "mimetype": "text/x-python",
      "name": "python",
      "nbconvert_exporter": "python",
      "pygments_lexer": "ipython3",
      "version": "3.6.1"
    }
  },
  "nbformat": 4,
  "nbformat_minor": 4
}