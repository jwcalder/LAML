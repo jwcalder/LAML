{
  "cells": [
    {
      "cell_type": "markdown",
      "metadata": {},
      "source": [
        "# Solving linear equations in Numpy\n",
        "This notebook overviews some basic approaches to solving linear systems and eigenvalue problems in [NumPy](https://NumPy.org/)."
      ]
    },
    {
      "cell_type": "markdown",
      "metadata": {},
      "source": [
        "## Solving small linear systems\n",
        "We can use the `numpy.linalg.solve` command to exactly solve small or moderate size linear systems of full rank. We can check if a system is full rank using `numpy.linalg.matrix_rank`. Below we show how to solve a linear system with matrix\n",
        "$$A = \\begin{pmatrix} \n",
        "4 & -1 & 0 & 0\\\\\n",
        "-1 & 4 & -1 & 0\\\\  \n",
        "0 & -1 & 4 & -1 \\\\  \n",
        "0 & 0 & -1 & 4 \n",
        "\\end{pmatrix},\n",
        "$$\n",
        "which appears in the linear solvers for certain partial differential equations involving the Laplacian. "
      ]
    },
    {
      "cell_type": "code",
      "metadata": {},
      "source": [
        "import numpy as np\n",
        "\n",
        "A = np.array([[4,-1,0,0],\n",
        "              [-1,4,-1,0],\n",
        "              [0,-1,4,-1],\n",
        "              [0,0,-1,4]])\n",
        "\n",
        "k = np.linalg.matrix_rank(A)\n",
        "print('Rank = ',k)\n",
        "\n",
        "b = np.ones(4)\n",
        "x = np.linalg.solve(A,b)\n",
        "print('Solution = ',x)\n",
        "print('A*x=',A@x,'b=',b)"
      ],
      "outputs": [],
      "execution_count": null
    },
    {
      "cell_type": "markdown",
      "metadata": {},
      "source": [
        "## Solving large sparse linear systems\n",
        "Direct solvers for linear systems typically struggle with large systems of linear equations. When the matrix $A$ is has some structure, such as symmetric positive definitene and sparae, there are far more efficient solvers based on indirect iterative methods. Below we use the conjugate gradient method (covered in chapters 6 and 11 of the textbook) to solve a linear system with a matrix $A$ of the same form as above, but much larger. In this case, we use the `scipy` package, which has support for sparse matrices. The conjugage gradient method is "
      ]
    },
    {
      "cell_type": "code",
      "metadata": {},
      "source": [
        "from scipy import sparse\n",
        "\n",
        "n = 1000\n",
        "o = np.ones(n)\n",
        "A = sparse.diags(4*o) - sparse.diags(o[1:],1) - sparse.diags(o[1:],-1)\n",
        "print(A)\n",
        "\n",
        "x0 = np.random.randn(n) #Initialization\n",
        "b = np.ones(n)\n",
        "x,_ = sparse.linalg.cg(A,b,x0=x0)\n",
        "\n",
        "print('Solution = ',x)\n",
        "print('A*x=',A*x,'b=',b)\n",
        "\n",
        "\n",
        "\n",
        "\n"
      ],
      "outputs": [],
      "execution_count": null
    }
  ],
  "metadata": {
    "anaconda-cloud": {},
    "kernelspec": {
      "display_name": "Python 3",
      "language": "python",
      "name": "python3"
    },
    "language_info": {
      "codemirror_mode": {
        "name": "ipython",
        "version": 3
      },
      "file_extension": ".py",
      "mimetype": "text/x-python",
      "name": "python",
      "nbconvert_exporter": "python",
      "pygments_lexer": "ipython3",
      "version": "3.6.1"
    }
  },
  "nbformat": 4,
  "nbformat_minor": 4
}