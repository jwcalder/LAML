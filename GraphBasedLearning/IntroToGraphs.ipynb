{
  "cells": [
    {
      "cell_type": "markdown",
      "metadata": {},
      "source": [
        "# Introduction to Graphs\n",
        "\n",
        "This notebook gives an introduction to loading and displaying graphs using the [Graph Learning](https://github.com/jwcalder/GraphLearning) Python package, which we install below."
      ]
    },
    {
      "cell_type": "code",
      "metadata": {},
      "source": [
        "pip install -q graphlearning"
      ],
      "outputs": [],
      "execution_count": null
    },
    {
      "cell_type": "markdown",
      "metadata": {},
      "source": [
        "The GraphLearning [documentation](https://jwcalder.github.io/GraphLearning/datasets.html#graphlearning.datasets.load_graph) shows which graphs can be loaded. Here, we load the Zachary's karate club graph, described in class, and visualize the graph and its adjacency matrix."
      ]
    },
    {
      "cell_type": "code",
      "metadata": {},
      "source": [
        "import graphlearning as gl\n",
        "import matplotlib.pyplot as plt\n",
        "import numpy as np\n",
        "import sys\n",
        "np.set_printoptions(threshold=sys.maxsize,linewidth=110) #Disables truncation when printing arrays\n",
        "\n",
        "G = gl.datasets.load_graph('karate')\n",
        "\n",
        "A = G.weight_matrix #Adjacency matrix or weight matrix if a weighted graph\n",
        "print(A) #Not too useful since A is a sparse matrix\n",
        "print(A.todense()) #This prints the full matrix\n",
        "\n",
        "plt.figure(figsize=(10,10))\n",
        "plt.imshow(A.todense(),cmap='gray') #Displaying graphs as images can be useful"
      ],
      "outputs": [],
      "execution_count": null
    },
    {
      "cell_type": "markdown",
      "metadata": {},
      "source": [
        "Some graphs have labels and feature vectors as well. Here, the Karate graph has binary lables indicating the group membership after the club split into two."
      ]
    },
    {
      "cell_type": "code",
      "metadata": {},
      "source": [
        "print(G.num_nodes)\n",
        "print(G.labels)\n",
        "print(G.features)"
      ],
      "outputs": [],
      "execution_count": null
    },
    {
      "cell_type": "markdown",
      "metadata": {},
      "source": [
        "We can us the draw function to visualize the karate club graph."
      ]
    },
    {
      "cell_type": "code",
      "metadata": {},
      "source": [
        "G.draw(markersize=100,c=G.labels,linewidth=0.5)\n",
        "plt.title('Karate club graph')"
      ],
      "outputs": [],
      "execution_count": null
    },
    {
      "cell_type": "markdown",
      "metadata": {},
      "source": [
        "Another graph we will use often is PubMed. Pubmed is too large to easily visualize"
      ]
    },
    {
      "cell_type": "code",
      "metadata": {},
      "source": [
        "G = gl.datasets.load_graph('pubmed')\n",
        "\n",
        "print(G.num_nodes)\n",
        "print(G.features.shape)\n",
        "print(G.labels)\n",
        "print('Sparsity', 100*G.weight_matrix.count_nonzero()/G.num_nodes**2, '%')\n",
        "print(G.weight_matrix)"
      ],
      "outputs": [],
      "execution_count": null
    },
    {
      "cell_type": "markdown",
      "metadata": {},
      "source": [
        "Another way graphs appear is as similarity graph constructed over data sets. As a simple example, we show the two moons and circles data sets below. This uses the GraphLearning [WeightMatrix](https://jwcalder.github.io/GraphLearning/weightmatrix.html) modele to construct graphs, which can build epsilon ball graphs or k-nearest neighbor graphs."
      ]
    },
    {
      "cell_type": "code",
      "metadata": {},
      "source": [
        "from sklearn import datasets\n",
        "\n",
        "n=300\n",
        "\n",
        "#Two moons\n",
        "X,L = datasets.make_moons(n_samples=n,noise=0.1)\n",
        "W = gl.weightmatrix.epsilon_ball(X,0.25)\n",
        "G = gl.graph(W)\n",
        "G.draw(X=X,linewidth=0.5,c=L)\n",
        "plt.title('Epsilon-ball graph')\n",
        "\n",
        "W = gl.weightmatrix.knn(X,7)\n",
        "G = gl.graph(W)\n",
        "G.draw(X=X,linewidth=0.5,c=L)\n",
        "plt.title('k-nn graph')\n",
        "\n",
        "#Circles\n",
        "X,L = datasets.make_circles(n_samples=n,noise=0.075,factor=0.5)\n",
        "W = gl.weightmatrix.epsilon_ball(X,0.25)\n",
        "G = gl.graph(W)\n",
        "G.draw(X=X,linewidth=0.5,c=L)\n",
        "plt.title('Epsilon-ball graph')\n",
        "\n",
        "W = gl.weightmatrix.knn(X,7)\n",
        "G = gl.graph(W)\n",
        "G.draw(X=X,linewidth=0.5,c=L)\n",
        "plt.title('k-nn graph')"
      ],
      "outputs": [],
      "execution_count": null
    },
    {
      "cell_type": "markdown",
      "metadata": {},
      "source": [
        "We can also view any triangulated surface as a graph."
      ]
    },
    {
      "cell_type": "code",
      "metadata": {},
      "source": [
        "import matplotlib.tri as mtri\n",
        "\n",
        "ax = plt.figure().add_subplot(projection='3d')\n",
        "u = np.linspace(0, 2.0 * np.pi, endpoint=True, num=50)\n",
        "v = np.linspace(-0.5, 0.5, endpoint=True, num=10)\n",
        "u, v = np.meshgrid(u, v)\n",
        "u, v = u.flatten(), v.flatten()\n",
        "x = (1 + 0.5 * v * np.cos(u / 2.0)) * np.cos(u)\n",
        "y = (1 + 0.5 * v * np.cos(u / 2.0)) * np.sin(u)\n",
        "z = 0.5 * v * np.sin(u / 2.0)\n",
        "\n",
        "# Triangulate parameter space to determine the triangles\n",
        "tri = mtri.Triangulation(u, v)\n",
        "edges = tri.edges\n",
        "\n",
        "ax.scatter(x,y,z,c='black',s=5)\n",
        "for t in range(edges.shape[0]):\n",
        "    i,j = edges[t,0],edges[t,1]\n",
        "    ax.plot([x[i],x[j]],[y[i],y[j]],[z[i],z[j]],c='black',linewidth=0.25)\n",
        "\n",
        "#ax.set_axis_off()\n",
        "ax.set_zlim(-1, 1)"
      ],
      "outputs": [],
      "execution_count": null
    },
    {
      "cell_type": "markdown",
      "metadata": {},
      "source": [
        "We can also view any image as a graph, by simply connecting each pixel to its nearest neighbors. We will see later in the course that there are alternative, and sometimes better, ways to view images as graphs."
      ]
    },
    {
      "cell_type": "code",
      "metadata": {},
      "source": [
        "data,labels = gl.datasets.load('mnist')\n",
        "\n",
        "n = data.shape[0]\n",
        "p = np.random.permutation(n)\n",
        "for i in p[:10]:\n",
        "    img = np.reshape(data[i,:],(28,28))\n",
        "    W,X = gl.weightmatrix.grid_graph(img,return_xy=True)\n",
        "    X[:,1] = -X[:,1]\n",
        "    G = gl.graph(W)\n",
        "    G.draw(X=X,linewidth=0.5,c=img.flatten())\n",
        "    plt.title(str(labels[i]))"
      ],
      "outputs": [],
      "execution_count": null
    },
    {
      "cell_type": "markdown",
      "metadata": {},
      "source": [
        "Finally, we can construct similarity graphs between pairs of images, like MNIST digits. The GraphLearning package supports this for several different image classification data sets. See the [documentation](https://jwcalder.github.io/GraphLearning/weightmatrix.html#graphlearning.weightmatrix.knn)."
      ]
    },
    {
      "cell_type": "code",
      "metadata": {},
      "source": [
        "data,labels = gl.datasets.load('mnist')\n",
        "gl.utils.image_grid(data)"
      ],
      "outputs": [],
      "execution_count": null
    },
    {
      "cell_type": "markdown",
      "metadata": {},
      "source": [
        "Below, we build a k-nn graph over the 70000 images in the MNIST data set, with k=10."
      ]
    },
    {
      "cell_type": "code",
      "metadata": {},
      "source": [
        "W = gl.weightmatrix.knn('mnist',10)\n",
        "n = W.shape[0]\n",
        "print(W.shape)\n",
        "print('Sparsity',W.count_nonzero()/n**2,'%')\n",
        "print(W)"
      ],
      "outputs": [],
      "execution_count": null
    },
    {
      "cell_type": "markdown",
      "metadata": {},
      "source": [
        "We can display, for example, an image and its nearest neighbors, using the graph structure."
      ]
    },
    {
      "cell_type": "code",
      "metadata": {},
      "source": [
        "nn_ind = W[0,:].nonzero()[1]\n",
        "gl.utils.image_grid(data[nn_ind,:],n_cols=len(nn_ind),n_rows=1)"
      ],
      "outputs": [],
      "execution_count": null
    },
    {
      "cell_type": "markdown",
      "metadata": {},
      "source": [
        "Below, we do the same for the Cifar-10 dataset."
      ]
    },
    {
      "cell_type": "code",
      "metadata": {},
      "source": [
        "data,labels = gl.datasets.load('cifar10')\n",
        "gl.utils.color_image_grid(data)"
      ],
      "outputs": [],
      "execution_count": null
    },
    {
      "cell_type": "code",
      "metadata": {},
      "source": [
        "W = gl.weightmatrix.knn('cifar10',10,metric='simclr')\n",
        "n = W.shape[0]\n",
        "print(W.shape)\n",
        "print('Sparsity',W.count_nonzero()/n**2,'%')\n",
        "print(W)"
      ],
      "outputs": [],
      "execution_count": null
    },
    {
      "cell_type": "markdown",
      "metadata": {},
      "source": [
        "Let's now display some nearest neighbors of Cifar-10 images."
      ]
    },
    {
      "cell_type": "code",
      "metadata": {},
      "source": [
        "nn_ind = W[0,:].nonzero()[1]\n",
        "gl.utils.color_image_grid(data[nn_ind,:],n_cols=len(nn_ind),n_rows=1)\n"
      ],
      "outputs": [],
      "execution_count": null
    }
  ],
  "metadata": {
    "anaconda-cloud": {},
    "kernelspec": {
      "display_name": "Python 3",
      "language": "python",
      "name": "python3"
    },
    "language_info": {
      "codemirror_mode": {
        "name": "ipython",
        "version": 3
      },
      "file_extension": ".py",
      "mimetype": "text/x-python",
      "name": "python",
      "nbconvert_exporter": "python",
      "pygments_lexer": "ipython3",
      "version": "3.6.1"
    }
  },
  "nbformat": 4,
  "nbformat_minor": 4
}