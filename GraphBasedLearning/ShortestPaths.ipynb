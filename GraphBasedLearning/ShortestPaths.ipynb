{
  "cells": [
    {
      "cell_type": "markdown",
      "metadata": {},
      "source": [
        "# Shortest path distances on graphs\n",
        "\n",
        "This notebook gives some examples of working with and computing distances and shortest paths on toy and real-world data sets. First we install [GraphLearning](https://github.com/jwcalder/GraphLearning)."
      ]
    },
    {
      "cell_type": "code",
      "metadata": {},
      "source": [
        "pip install -q graphlearning"
      ],
      "outputs": [],
      "execution_count": null
    },
    {
      "cell_type": "markdown",
      "metadata": {},
      "source": [
        "## Computing shortest paths with the GraphLearning package\n",
        "\n",
        "We first show how to compute the shortest path distance to a point and an optimal path on the toy two moons and circles data sets."
      ]
    },
    {
      "cell_type": "code",
      "metadata": {},
      "source": [
        "import graphlearning as gl\n",
        "import numpy as np\n",
        "import sklearn.datasets as datasets\n",
        "import matplotlib.pyplot as plt\n",
        "\n",
        "n=300\n",
        "np.random.seed(1)\n",
        "X,L = datasets.make_moons(n_samples=n,noise=0.1)\n",
        "#X,L = datasets.make_circles(n_samples=n,noise=0.075,factor=0.5)\n",
        "W = gl.weightmatrix.knn(X,7,kernel='uniform')\n",
        "G = gl.graph(W)\n",
        "\n",
        "#Compute distance beteween two vertices, here 0,1\n",
        "#As well as shortest path and distance vector t\n",
        "i,j = 0,1\n",
        "d,path,t = G.distance(i,j,return_path=True,return_distance_vector=True)\n",
        "\n",
        "#Plot distance function\n",
        "plt.figure()\n",
        "plt.scatter(X[:,0],X[:,1],c=t)\n",
        "plt.scatter(X[i,0],X[i,1],c='r',marker='*',s=200,zorder=100)\n",
        "plt.title('Distance vector')\n",
        "\n",
        "#Draw graph and shortest path between two vertices (here, 0,1)\n",
        "G.draw(X=X,linewidth=0.5,c='gray',linecolor='gray')\n",
        "plt.plot(X[path,0],X[path,1],'ro-',markersize=6,linewidth=1.5)\n",
        "plt.title('Shortest path')"
      ],
      "outputs": [],
      "execution_count": null
    },
    {
      "cell_type": "markdown",
      "metadata": {},
      "source": [
        "## Dynamic programming iteration\n",
        "\n",
        "We now get into the details of the dynamic programming. We'll show how to compute the distance vector and shortest paths on the karate graph."
      ]
    },
    {
      "cell_type": "code",
      "metadata": {},
      "source": [
        "import numpy as np\n",
        "import graphlearning as gl\n",
        "\n",
        "#Load graph\n",
        "G = gl.datasets.load_graph('karate')\n",
        "m = G.num_nodes\n",
        "\n",
        "#Choose two vertices to find the shortest path between\n",
        "pts = (16,15)\n",
        "\n",
        "#Compute shortest path and distance vector with graphlearning\n",
        "d,path,t = G.distance(pts[0],pts[1],return_path=True,return_distance_vector=True)\n",
        "ind = np.argsort(t) #So we can display u in order of increasing distance\n",
        "\n",
        "#Initialize u to infinity away from the seed point pts[0]\n",
        "u = np.ones(m)*np.inf\n",
        "u[pts[0]] = 0\n",
        "print('Initial u:\\n',u[ind])\n",
        "\n",
        "#Temporary array to hold computations\n",
        "v = np.zeros(m)\n",
        "\n",
        "#Dynamic programming iterations loop\n",
        "err = 1\n",
        "i=0\n",
        "while err > 0:\n",
        "\n",
        "    #Dynamic programming iteration\n",
        "    for j in range(m):\n",
        "        nn, w = G.neighbors(j, return_weights=True)\n",
        "        v[j] = np.min(u[nn] + w**-1)\n",
        "    v[pts[0]] = 0\n",
        "\n",
        "    #Start measuring the error u_k-u_{k+1} once infinities are gone\n",
        "    if np.max(u) < np.inf:\n",
        "        err = np.max(np.absolute(u-v))\n",
        "\n",
        "    #Copy v back to u (numpy arrays are pointers, so be careful)\n",
        "    u = v.copy()\n",
        "\n",
        "    #Print current u_k\n",
        "    print('\\nIter: %d\\n'%i,u[ind])\n",
        "    i+=1"
      ],
      "outputs": [],
      "execution_count": null
    },
    {
      "cell_type": "markdown",
      "metadata": {},
      "source": [
        "We'll now use dynamic programming to find the optimal path."
      ]
    },
    {
      "cell_type": "code",
      "metadata": {},
      "source": [
        "p = pts[1]\n",
        "path = [p]\n",
        "while p != pts[0]:\n",
        "    nn, w = G.neighbors(p, return_weights=True)\n",
        "    j = np.argmin(u[nn] + w**-1)\n",
        "    p = nn[j]\n",
        "    path += [p]\n",
        "path = np.array(path)\n",
        "print('Optimal path:',path,'\\n')\n",
        "\n",
        "#Draw graph\n",
        "Y = G.draw(markersize=50,linewidth=0.5)\n",
        "plt.plot(Y[path,0],Y[path,1],'ro-',markersize=7,linewidth=2)"
      ],
      "outputs": [],
      "execution_count": null
    },
    {
      "cell_type": "markdown",
      "metadata": {},
      "source": [
        "## Exercise: PubMed\n",
        "\n",
        "1. Run the dynamic programming iterations on PubMed to find the distance function to a particular node. How many iterations does it take to converge?\n",
        "2. Modify the code to use the Gauss-Seidel method. Does Gauss-Seidel converge faster? If so, by how much?\n",
        "3. In the Gauss-Seidel method, iterate over the nodes of the graph in order of the value of the distance vector, starting from smallest (the seed node) to largest. You can compute the distance vector using GraphLearning for this, and use `numpy.argsort`. Can you get Gauss-Seidel to converge in one iteration? This is the essential idea behind Dijkstra's algorithm."
      ]
    }
  ],
  "metadata": {
    "anaconda-cloud": {},
    "kernelspec": {
      "display_name": "Python 3",
      "language": "python",
      "name": "python3"
    },
    "language_info": {
      "codemirror_mode": {
        "name": "ipython",
        "version": 3
      },
      "file_extension": ".py",
      "mimetype": "text/x-python",
      "name": "python",
      "nbconvert_exporter": "python",
      "pygments_lexer": "ipython3",
      "version": "3.6.1"
    }
  },
  "nbformat": 4,
  "nbformat_minor": 4
}