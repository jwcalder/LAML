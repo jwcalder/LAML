{
  "cells": [
    {
      "cell_type": "markdown",
      "metadata": {},
      "source": [
        "# The Discrete Fourier Transform\n",
        "\n",
        "In this notebook we explore the Fast Fourier Transform (FFT) and and applications to signal denoising."
      ]
    },
    {
      "cell_type": "markdown",
      "metadata": {},
      "source": [
        "## The Fast Fourier Transform (FFT)\n",
        "\n",
        "We start with the FFT. Below, we define our basic DFT and inverse dft, which take $O(n^2)$ operations for a signal of length $n$."
      ]
    },
    {
      "cell_type": "code",
      "metadata": {},
      "source": [
        "import numpy as np\n",
        "\n",
        "def dft(z):\n",
        "    \"\"\"Computes the Discrete Fourier Transform (DFT) of z\n",
        "\n",
        "    Args:\n",
        "        z: Function to compute DFT of (real or complex vector)\n",
        "\n",
        "    Returns:\n",
        "        Gz: DFT of z\n",
        "    \"\"\"\n",
        "    m = len(z)\n",
        "    k = np.arange(m)\n",
        "    Gz = np.zeros(m,dtype='complex')\n",
        "    for l in range(m):\n",
        "        Gz[l] =  np.sum(z*np.exp(-2*np.pi*1j*k*l/m))\n",
        "    return Gz\n",
        "\n",
        "def idft(Gz):\n",
        "    \"\"\"Computes the inverse Discrete Fourier Transform (DFT) of Gz\n",
        "\n",
        "    Args:\n",
        "        Gz: Function to compute iDFT of (real or complex vector)\n",
        "\n",
        "    Returns:\n",
        "        z: Inverse DFT of Gz\n",
        "    \"\"\"\n",
        "    m = len(Gz)\n",
        "    k = np.arange(m)\n",
        "    z = np.zeros(m,dtype='complex')\n",
        "    for l in range(m):\n",
        "        z[l] =  np.sum(Gz*np.exp(2*np.pi*1j*k*l/m))/m\n",
        "    return z"
      ],
      "outputs": [],
      "execution_count": null
    },
    {
      "cell_type": "markdown",
      "metadata": {},
      "source": [
        "Let's now define the FFT and inverse FFT, using recursive programming."
      ]
    },
    {
      "cell_type": "code",
      "metadata": {},
      "source": [
        "def my_fft(z):\n",
        "    \"\"\"Computes the Discrete Fourier Transform (DFT) of z\n",
        "    using the Fast Fourier Transform.\n",
        "\n",
        "    Args:\n",
        "        z: Function to compute DFT of (real or complex vector)\n",
        "\n",
        "    Returns:\n",
        "        Gz: DFT of z\n",
        "    \"\"\"\n",
        "    m = len(z)\n",
        "    k = np.arange(m)\n",
        "    if m == 1:\n",
        "        return z\n",
        "    else:\n",
        "        Gze = my_fft(z[::2])\n",
        "        Gzo = my_fft(z[1::2])\n",
        "        Gze = np.hstack((Gze,Gze))\n",
        "        Gzo = np.hstack((Gzo,Gzo))\n",
        "        return Gze + np.exp(-2*np.pi*1j*k/m)*Gzo\n",
        "\n",
        "#def my_fft(f):\n",
        "#    \"\"\"Computes the Discrete Fourier Transform (DFT) of f\n",
        "#    using the Fast Fourier Transform.\n",
        "#\n",
        "#    Args:\n",
        "#        f: Function to compute DFT of (real or complex vector)\n",
        "#\n",
        "#    Returns:\n",
        "#        Df: DFT of f\n",
        "#    \"\"\"\n",
        "#\n",
        "#    n = len(f)\n",
        "#    k = np.arange(n)\n",
        "#    if n == 1:\n",
        "#        return f\n",
        "#    else:\n",
        "#        #DFT of even and odd parts, recursively\n",
        "#        Dfe = my_fft(f[::2])\n",
        "#        Dfo = my_fft(f[1::2])\n",
        "#\n",
        "#        #Periodically extend to length of f\n",
        "#        Dfe = np.hstack((Dfe,Dfe))\n",
        "#        Dfo = np.hstack((Dfo,Dfo))\n",
        "#\n",
        "#        #Combine Dfe and Dfo to get Df\n",
        "#        return Dfe + np.exp(-2*np.pi*1j*k/n)*Dfo\n",
        "\n",
        "def my_ifft(Gz):\n",
        "    \"\"\"Computes the inverse Discrete Fourier Transform (DFT) of Gz\n",
        "        using the Fast Fourier Transform.\n",
        "\n",
        "    Args:\n",
        "        Gz: Function to compute iDFT of (real or complex vector)\n",
        "\n",
        "    Returns:\n",
        "        z: Inverse DFT of Gz\n",
        "    \"\"\"\n",
        "\n",
        "    return np.conjugate(my_fft(np.conjugate(Gz)))/len(Gz)"
      ],
      "outputs": [],
      "execution_count": null
    },
    {
      "cell_type": "markdown",
      "metadata": {},
      "source": [
        "Let's compare our FFT with the DFT we programmed last time, to make sure they work."
      ]
    },
    {
      "cell_type": "code",
      "metadata": {},
      "source": [
        "m = 1024\n",
        "z = np.random.randn(m)\n",
        "print(np.max(np.absolute(my_fft(z) - dft(z))))\n",
        "print(np.max(np.absolute(my_ifft(z) - idft(z))))"
      ],
      "outputs": [],
      "execution_count": null
    },
    {
      "cell_type": "markdown",
      "metadata": {},
      "source": [
        "Now let's compare the CPU time for the naive DFT and our FFT implementation."
      ]
    },
    {
      "cell_type": "code",
      "metadata": {},
      "source": [
        "import time\n",
        "\n",
        "m = int(2**15)   #Approximately n=32,000\n",
        "z = np.random.randn(m)\n",
        "\n",
        "start_time = time.time()\n",
        "Gz = dft(z)\n",
        "print(\"Naive DFT: %s s\" % (time.time() - start_time))\n",
        "\n",
        "start_time = time.time()\n",
        "Gz = my_fft(z)\n",
        "print(\"Our FFT: %s s\" % (time.time() - start_time))"
      ],
      "outputs": [],
      "execution_count": null
    },
    {
      "cell_type": "markdown",
      "metadata": {},
      "source": [
        "SciPy has a very efficient implementation of the FFT. Let's compare our version to Scipy's."
      ]
    },
    {
      "cell_type": "code",
      "metadata": {},
      "source": [
        "from scipy.fft import fft\n",
        "from numpy.fft import fft as numpy_fft\n",
        "\n",
        "m = int(2**20)   #Approximately n=1 million\n",
        "z = np.random.randn(m)\n",
        "\n",
        "start_time = time.time()\n",
        "Gz = fft(z)\n",
        "print(\"SciPy FFT: %s s\" % (time.time() - start_time))\n",
        "\n",
        "start_time = time.time()\n",
        "Gz = numpy_fft(z)\n",
        "print(\"NumPy FFT: %s s\" % (time.time() - start_time))\n",
        "\n",
        "start_time = time.time()\n",
        "Gz = my_fft(z)\n",
        "print(\"Our FFT: %s s\" % (time.time() - start_time))"
      ],
      "outputs": [],
      "execution_count": null
    },
    {
      "cell_type": "markdown",
      "metadata": {},
      "source": [
        "## Signal Denoising\n",
        "\n",
        "We now turn to signal denoising. First we define a function to generate random signals, and the Tikhonov denoising function."
      ]
    },
    {
      "cell_type": "code",
      "metadata": {},
      "source": [
        "import numpy as np\n",
        "from scipy.fft import fft\n",
        "from scipy.fft import ifft\n",
        "\n",
        "def random_signal(n,m,seed=None):\n",
        "    \"\"\"Returns a random signal (random trig polynomial)\n",
        "\n",
        "    Args:\n",
        "        n: Number of samples (length of signal)\n",
        "        m: Degree for trig polynomial\n",
        "        seed: Seed for random number generator, for reproducible results (defualt=None)\n",
        "\n",
        "    Returns:\n",
        "        x,f: Length n numpy arrays containing x-coordiantes and the random signal\n",
        "    \"\"\"\n",
        "\n",
        "    if seed is not None:\n",
        "        np.random.seed(seed=seed)\n",
        "    x = np.arange(n)/n\n",
        "    f = np.zeros(n)\n",
        "    for k in range(1,m):\n",
        "        f += (np.random.rand(1)-0.5)*np.sin(np.pi*k*x)/k\n",
        "        f += (np.random.rand(1)-0.5)*np.cos(np.pi*k*x)/k\n",
        "\n",
        "    return x,f\n",
        "\n",
        "def tikhonov_denoise(f,lam):\n",
        "    \"\"\"Tikhonov regularized denoising\n",
        "\n",
        "    Args:\n",
        "        f: Noisy signal (numpy array)\n",
        "        lam: Regularization parameter\n",
        "\n",
        "    Returns:\n",
        "        Denoised signal\n",
        "    \"\"\"\n",
        "\n",
        "    n = len(f)\n",
        "    k = np.arange(n)\n",
        "    G = 1/(1 + lam - lam*np.cos(2*np.pi*k/n))\n",
        "    return ifft(G*fft(f)).real"
      ],
      "outputs": [],
      "execution_count": null
    },
    {
      "cell_type": "markdown",
      "metadata": {},
      "source": [
        "Let's generate and plot a random signal with noise."
      ]
    },
    {
      "cell_type": "code",
      "metadata": {},
      "source": [
        "import matplotlib.pyplot as plt\n",
        "\n",
        "#Signal of length 256\n",
        "n = 256\n",
        "x,f = random_signal(n,30,seed=123)\n",
        "\n",
        "#Add some Gaussian noise\n",
        "sigma = 0.5*np.std(f)\n",
        "f_noisy = f + sigma*np.random.randn(n)\n",
        "\n",
        "#Plot signal and noisy signal\n",
        "plt.figure()\n",
        "plt.plot(x,f_noisy,linewidth=0.5)\n",
        "plt.plot(x,f,linewidth=2)"
      ],
      "outputs": [],
      "execution_count": null
    },
    {
      "cell_type": "markdown",
      "metadata": {},
      "source": [
        "We'll now run Tikhonov denoising for different $\\lambda$ and plot the result. Play around with lam (lambda) and see what you get."
      ]
    },
    {
      "cell_type": "code",
      "metadata": {},
      "source": [
        "lam = 10\n",
        "f_denoised = tikhonov_denoise(f_noisy,lam)\n",
        "\n",
        "plt.figure()\n",
        "plt.plot(x,f,label='Original')\n",
        "plt.plot(x,f_noisy,linewidth=0.5,label='Noisy')\n",
        "plt.plot(x,f_denoised,label='$\\lambda=%d$'%lam)\n",
        "plt.legend(fontsize=20)"
      ],
      "outputs": [],
      "execution_count": null
    },
    {
      "cell_type": "markdown",
      "metadata": {},
      "source": [
        "The denoising works quite well. But we see some peculiar boundary effects. This is due to the DFT periodicizing the signal, and the starting and ending values do not match up. As far as the DFT is concerned, the signal looks like the periodic version below. Recall the filtering is just locally averaging the signal, and the average is **periodic** so at the boundary it sees the other end of the signal."
      ]
    },
    {
      "cell_type": "code",
      "metadata": {},
      "source": [
        "plt.figure()\n",
        "fp = np.hstack((f[1:],f[0]))\n",
        "plt.plot(x,fp)\n",
        "plt.plot(x+1,fp)\n",
        "plt.plot(x-1,fp)\n",
        "plt.title('Periodic extension of the signal')"
      ],
      "outputs": [],
      "execution_count": null
    },
    {
      "cell_type": "markdown",
      "metadata": {},
      "source": [
        "##Exercise\n",
        "\n",
        "Take the even extension of $f$ before applying Tikhonov denoising. After denoising, restrict the output to the first $n$ samples to remove the extra extension data.\n",
        "\n",
        "The even extension of a signal with $n=7$ samples $[a,b,c,d,e,f,g]$ is the length $2n-2=12$ signal $[a,b,c,d,e,f,g,f,e,d,c,b]$. A general formula for the even extension is\n",
        "\n",
        "$$f_e(k) =\n",
        "\\begin{cases}\n",
        "f(k),&\\text{if } 0 \\leq k \\leq n-1,\\\\\n",
        "f(2(n-1)-k),&\\text{if }n \\leq k \\leq 2(n-1)-1.\n",
        "\\end{cases}$$"
      ]
    }
  ],
  "metadata": {
    "anaconda-cloud": {},
    "kernelspec": {
      "display_name": "Python 3",
      "language": "python",
      "name": "python3"
    },
    "language_info": {
      "codemirror_mode": {
        "name": "ipython",
        "version": 3
      },
      "file_extension": ".py",
      "mimetype": "text/x-python",
      "name": "python",
      "nbconvert_exporter": "python",
      "pygments_lexer": "ipython3",
      "version": "3.6.1"
    }
  },
  "nbformat": 4,
  "nbformat_minor": 4
}