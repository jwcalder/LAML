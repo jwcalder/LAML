{
  "cells": [
    {
      "cell_type": "markdown",
      "metadata": {},
      "source": [
        "# PageRank\n",
        "\n",
        "This notebook explores the PageRank algorithm. We first install [Graph Learning](https://github.com/jwcalder/GraphLearning), and then write a simple function to compute the PageRank vector with the PageRank (i.e., power) iteration."
      ]
    },
    {
      "cell_type": "code",
      "metadata": {},
      "source": [
        "pip install -q graphlearning"
      ],
      "outputs": [],
      "execution_count": null
    },
    {
      "cell_type": "code",
      "metadata": {},
      "source": [
        "import graphlearning as gl\n",
        "\n",
        "def PageRank(W,alpha=0.85,v=None,tol=1e-10):\n",
        "    \"\"\"\n",
        "    PageRank algorithm\n",
        "\n",
        "    Args:\n",
        "        W: Weight matrix for graph\n",
        "        v: Teleportation probability distribution (nx1 array, default is uniform)\n",
        "        alpha: Probabilty of random walk step (1-alpha is teleportation probability)\n",
        "        tol: Stopping condition tolerance (default: 1e-10)\n",
        "\n",
        "    Returns:\n",
        "        Numpy array containing PageRank vector\n",
        "    \"\"\"\n",
        "\n",
        "    n = W.shape[0]\n",
        "\n",
        "    D = gl.graph(W).degree_matrix(p=-1)\n",
        "    P = W.T@D\n",
        "\n",
        "    #Initialize u and normalize v\n",
        "    u = np.ones(n)/n\n",
        "    if v is None:\n",
        "        v = np.ones(n)\n",
        "    v = v/np.sum(v)\n",
        "\n",
        "    #Power iteration until tolerance statisfied\n",
        "    err = 1\n",
        "    while err > tol:\n",
        "        w = alpha*P@u + (1-alpha)*v\n",
        "        err = np.max(np.absolute(w-u))\n",
        "        u = w.copy()\n",
        "\n",
        "    return u"
      ],
      "outputs": [],
      "execution_count": null
    },
    {
      "cell_type": "markdown",
      "metadata": {},
      "source": [
        "Let's create a synthetic dataset with 3 pages A,B,C. We'll assume that A and B both have links to C, and C has a self-link to itself. This is described in the weight matrix $W$ constructed below."
      ]
    },
    {
      "cell_type": "code",
      "metadata": {},
      "source": [
        "import numpy as np\n",
        "\n",
        "W = np.array([[0,0,1],[0,0,1],[0,0,1]])\n",
        "W"
      ],
      "outputs": [],
      "execution_count": null
    },
    {
      "cell_type": "markdown",
      "metadata": {},
      "source": [
        "In this graph, node C is the most important node, since all other nodes link to it. Furthermore, there are no links to A or B. We would expect the PageRank of C to be large, and A and B to be small.\n",
        "\n",
        "Below, we run the PageRank algorithm with uniform teleportation probability distribution. Are the results what you expect? Note in the plot that the GraphLearning package does not draw directed graphs."
      ]
    },
    {
      "cell_type": "code",
      "metadata": {},
      "source": [
        "u = PageRank(W,alpha=0.85)\n",
        "print(u)\n",
        "gl.graph(W+W.T).draw(c=u)"
      ],
      "outputs": [],
      "execution_count": null
    },
    {
      "cell_type": "markdown",
      "metadata": {},
      "source": [
        "We now consider some real world data sets; Zachary's karate club and Krebs' political books graphs."
      ]
    },
    {
      "cell_type": "code",
      "metadata": {},
      "source": [
        "import matplotlib.pyplot as plt\n",
        "\n",
        "G = gl.datasets.load_graph('karate')\n",
        "u = PageRank(G.weight_matrix)\n",
        "X = G.draw(markersize=100,linewidth=0.5,c=u)\n",
        "plt.title('Karate')\n",
        "\n",
        "G = gl.datasets.load_graph('polbooks')\n",
        "u = PageRank(G.weight_matrix)\n",
        "X = G.draw(markersize=100,linewidth=0.5,c=u)\n",
        "plt.title('Political Books')"
      ],
      "outputs": [],
      "execution_count": null
    },
    {
      "cell_type": "markdown",
      "metadata": {},
      "source": [
        "Finally, let's look at personalized PageRank on each of these graphs."
      ]
    },
    {
      "cell_type": "code",
      "metadata": {},
      "source": [
        "import numpy as np\n",
        "\n",
        "graphs = ['karate','polbooks']\n",
        "\n",
        "for graph in graphs:\n",
        "    #Load graph, and choose a random seed node\n",
        "    G = gl.datasets.load_graph(graph)\n",
        "    np.random.seed(12)\n",
        "    v = np.zeros(G.num_nodes)\n",
        "    v[np.random.randint(0,len(v))] = 1\n",
        "\n",
        "    #Personalized PageRank\n",
        "    u = PageRank(G.weight_matrix,v=v)\n",
        "    u = u / np.max(u)\n",
        "    G.draw(markersize=100,linewidth=0.5,c=u**(1/5)) #Taking a fractional power to better visualize\n",
        "    plt.title(graph + ' personalized PageRank')"
      ],
      "outputs": [],
      "execution_count": null
    },
    {
      "cell_type": "markdown",
      "metadata": {},
      "source": [
        "## Exercise\n",
        "\n",
        "Try playing around with different values for the teleportation paramter $\\alpha$. "
      ]
    },
    {
      "cell_type": "markdown",
      "metadata": {},
      "source": [
        "##Personalized PageRank on MNIST\n",
        "We now consider personalized PageRank for finding similar images in the MNIST dataset. Below, we load the MNIST data set and construct a sparse k-nearest neighbor graph."
      ]
    },
    {
      "cell_type": "code",
      "metadata": {},
      "source": [
        "import graphlearning as gl\n",
        "import numpy as np\n",
        "\n",
        "#Load MNIST labels and results of k-nearest neighbor search\n",
        "data, labels = gl.datasets.load('mnist')\n",
        "\n",
        "#Build 10-NN graph\n",
        "W = gl.weightmatrix.knn('mnist', 10)"
      ],
      "outputs": [],
      "execution_count": null
    },
    {
      "cell_type": "markdown",
      "metadata": {},
      "source": [
        "Let's now draw a random digit. Below we will use personalized PageRank to find similar MNIST digits. You can run the code cell below many times to get different random digits."
      ]
    },
    {
      "cell_type": "code",
      "metadata": {},
      "source": [
        "import matplotlib.pyplot as plt\n",
        "\n",
        "#Draw a random image\n",
        "n = W.shape[0]\n",
        "rand_ind = np.random.randint(0,high=n)\n",
        "print(labels[rand_ind])\n",
        "\n",
        "#Plot the digit\n",
        "plt.figure()\n",
        "plt.imshow(np.reshape(data[rand_ind,:],(28,28)), cmap='gray')\n",
        "plt.axis('off')"
      ],
      "outputs": [],
      "execution_count": null
    },
    {
      "cell_type": "markdown",
      "metadata": {},
      "source": [
        "Let's now run personalized PageRank to find similar digits, which we display with image_grid."
      ]
    },
    {
      "cell_type": "code",
      "metadata": {},
      "source": [
        "#Localized teleportation distribution\n",
        "n = W.shape[0]\n",
        "v = np.zeros(n)\n",
        "v[rand_ind]=1 #Choose a random image\n",
        "\n",
        "#Run pagerank\n",
        "u = PageRank(W,v=v,alpha=0.55)\n",
        "\n",
        "#Display highest ranked images\n",
        "ind = np.argsort(-u) #indices to sort u\n",
        "gl.utils.image_grid(data[ind,:])\n",
        "print(labels[ind][:100])"
      ],
      "outputs": [],
      "execution_count": null
    },
    {
      "cell_type": "markdown",
      "metadata": {},
      "source": [
        "#Exercise\n",
        "\n",
        "Run personalized PageRank on MNIST using a teleportation distribution focused on one of the digit classes. That is, set $v=1$ on a particular digit (say, $0$), and set $v=0$ elsewhere. What do you expect to see for the highest ranked digits? Compare the highest ranked digits to some random digits from the class you chose. Also plot the lowest ranked digits from the class you chose. They should look like the least typical (worst) examples from that digit."
      ]
    }
  ],
  "metadata": {
    "anaconda-cloud": {},
    "kernelspec": {
      "display_name": "Python 3",
      "language": "python",
      "name": "python3"
    },
    "language_info": {
      "codemirror_mode": {
        "name": "ipython",
        "version": 3
      },
      "file_extension": ".py",
      "mimetype": "text/x-python",
      "name": "python",
      "nbconvert_exporter": "python",
      "pygments_lexer": "ipython3",
      "version": "3.6.1"
    }
  },
  "nbformat": 4,
  "nbformat_minor": 4
}