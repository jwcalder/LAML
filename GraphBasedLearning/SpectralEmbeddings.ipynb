{
  "cells": [
    {
      "cell_type": "markdown",
      "metadata": {},
      "source": [
        "# Spectral embeddings and spectral clustering\n",
        "\n",
        "Here, we explore spectral embeddings and spectral clustering on real and toy data sets."
      ]
    },
    {
      "cell_type": "code",
      "metadata": {},
      "source": [
        "pip install graphlearning annoy"
      ],
      "outputs": [],
      "execution_count": null
    },
    {
      "cell_type": "markdown",
      "metadata": {},
      "source": [
        "Below we show a spectral embedding of some of the MNIST digits."
      ]
    },
    {
      "cell_type": "code",
      "metadata": {},
      "source": [
        "import graphlearning as gl\n",
        "import numpy as np\n",
        "\n",
        "#Load MNIST labels and results of k-nearest neighbor search\n",
        "data, labels = gl.datasets.load('MNIST')\n",
        "\n",
        "print(data.shape)\n",
        "\n",
        "#Display some random MNIST images\n",
        "gl.utils.image_grid(data[np.random.permutation(data.shape[0])],n_rows=20,n_cols=20)"
      ],
      "outputs": [],
      "execution_count": null
    },
    {
      "cell_type": "code",
      "metadata": {},
      "source": [
        "import matplotlib.pyplot as plt\n",
        "\n",
        "#Subset data and labels\n",
        "X = data[labels <= 2]\n",
        "Y = labels[labels <= 2]\n",
        "\n",
        "#Build Graph (sparse k-nearest neighbor graph)\n",
        "W = gl.weightmatrix.knn(X,10)\n",
        "G = gl.graph(W)\n",
        "\n",
        "#Compute eigenvectors of graph Laplacian\n",
        "vals, vecs = G.eigen_decomp(normalization='normalized', k=20)\n",
        "\n",
        "#Plot spectral embedding colored by label\n",
        "#2D plot\n",
        "plt.figure()\n",
        "plt.scatter(vecs[:,1],vecs[:,2],c=Y,s=1)\n",
        "#3D plot\n",
        "plt.figure()\n",
        "ax = plt.axes(projection=\"3d\")\n",
        "ax.scatter3D(vecs[:,1],vecs[:,2],vecs[:,3],c=Y,s=1)"
      ],
      "outputs": [],
      "execution_count": null
    },
    {
      "cell_type": "markdown",
      "metadata": {},
      "source": [
        "Spectral clustering simply applies the k-means clustering algorithm to the spectrally embedded points. We use an added step of normalizing the embedded points."
      ]
    },
    {
      "cell_type": "code",
      "metadata": {},
      "source": [
        "from scipy import sparse\n",
        "import sklearn.cluster as cluster\n",
        "\n",
        "num_clusters = 4 # We choose 4 since there are two clusters of ones.\n",
        "X_emb = vecs[:,:num_clusters]\n",
        "norms = np.linalg.norm(X_emb,axis=1)\n",
        "X_emb = X_emb / norms[:,None] #Normalize rows\n",
        "kmeans = cluster.KMeans(n_clusters=num_clusters).fit(X_emb)\n",
        "cluster_labels = kmeans.labels_\n",
        "\n",
        "for i in range(num_clusters):\n",
        "    gl.utils.image_grid(X[cluster_labels==i,:],n_rows=20,n_cols=20)"
      ],
      "outputs": [],
      "execution_count": null
    },
    {
      "cell_type": "markdown",
      "metadata": {},
      "source": [
        "## Image segmentation\n",
        "\n",
        "We show here how to use spectral clustering for image segmentation."
      ]
    },
    {
      "cell_type": "code",
      "metadata": {},
      "source": [
        "import numpy as np\n",
        "import graphlearning as gl\n",
        "import matplotlib.pyplot as plt\n",
        "from skimage.transform import resize\n",
        "from sklearn.cluster import KMeans\n",
        "\n",
        "orig_img = gl.datasets.load_image('cow')\n",
        "plt.imshow(orig_img)"
      ],
      "outputs": [],
      "execution_count": null
    },
    {
      "cell_type": "markdown",
      "metadata": {},
      "source": [
        "We'll subsample the image to speed up processing."
      ]
    },
    {
      "cell_type": "code",
      "metadata": {},
      "source": [
        "subsample = 2\n",
        "img = orig_img[::subsample,::subsample,:].copy() #Subsample to speed up processing"
      ],
      "outputs": [],
      "execution_count": null
    },
    {
      "cell_type": "markdown",
      "metadata": {},
      "source": [
        "We now construct a weight matrix taking into account pixel values and pixel locations."
      ]
    },
    {
      "cell_type": "code",
      "metadata": {},
      "source": [
        "#Coordinates for pixels in image\n",
        "m,n,c = img.shape\n",
        "x,y = np.mgrid[:m,:n]\n",
        "x,y = x.flatten(),y.flatten()\n",
        "X = np.vstack((x,y)).T\n",
        "\n",
        "#Features of image (pixels colors)\n",
        "F = np.reshape(img,(m*n,3))\n",
        "\n",
        "#Weight matrix\n",
        "W = gl.weightmatrix.epsilon_ball(X,10,features=F,epsilon_f=0.15)"
      ],
      "outputs": [],
      "execution_count": null
    },
    {
      "cell_type": "markdown",
      "metadata": {},
      "source": [
        "We now compare spectral clustering and k-means clustering."
      ]
    },
    {
      "cell_type": "code",
      "metadata": {},
      "source": [
        "num_clusters = 4 #2 cows, grass, sky\n",
        "\n",
        "colors = [[0,0,0],[1,0,0],[0,1,0],[0,0,1],[1,1,1]]\n",
        "def color_seg(pred):\n",
        "    cimg = img.copy()\n",
        "    for i in range(num_clusters):\n",
        "        cimg[pred==i,:]=colors[i]\n",
        "    return cimg\n",
        "\n",
        "#Kmeans\n",
        "kmeans = KMeans(n_clusters=num_clusters).fit(F)\n",
        "kmeans_pred_labels = np.reshape(kmeans.labels_,(m,n))\n",
        "cimg = color_seg(kmeans_pred_labels)\n",
        "plt.figure()\n",
        "plt.imshow(resize(cimg,(subsample*m,subsample*n),order=0))\n",
        "\n",
        "#Spectral clustering\n",
        "model = gl.clustering.spectral(W, num_clusters=num_clusters, method='ShiMalik')\n",
        "pred_labels = np.reshape(model.fit_predict(),(m,n))\n",
        "cimg = color_seg(pred_labels)\n",
        "plt.figure()\n",
        "plt.imshow(resize(cimg,(subsample*m,subsample*n),order=0))\n"
      ],
      "outputs": [],
      "execution_count": null
    }
  ],
  "metadata": {
    "anaconda-cloud": {},
    "kernelspec": {
      "display_name": "Python 3",
      "language": "python",
      "name": "python3"
    },
    "language_info": {
      "codemirror_mode": {
        "name": "ipython",
        "version": 3
      },
      "file_extension": ".py",
      "mimetype": "text/x-python",
      "name": "python",
      "nbconvert_exporter": "python",
      "pygments_lexer": "ipython3",
      "version": "3.6.1"
    }
  },
  "nbformat": 4,
  "nbformat_minor": 4
}